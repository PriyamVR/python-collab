{
  "nbformat": 4,
  "nbformat_minor": 0,
  "metadata": {
    "colab": {
      "provenance": []
    },
    "kernelspec": {
      "name": "python3",
      "display_name": "Python 3"
    },
    "language_info": {
      "name": "python"
    }
  },
  "cells": [
    {
      "cell_type": "markdown",
      "source": [
        "Python Syntax"
      ],
      "metadata": {
        "id": "HTwyAaEz1ani"
      }
    },
    {
      "cell_type": "code",
      "source": [
        "3+5"
      ],
      "metadata": {
        "colab": {
          "base_uri": "https://localhost:8080/"
        },
        "id": "gHP5RtluwdGb",
        "outputId": "89e95c6a-62d2-42b8-b2ae-e4b67677fc14"
      },
      "execution_count": null,
      "outputs": [
        {
          "output_type": "execute_result",
          "data": {
            "text/plain": [
              "8"
            ]
          },
          "metadata": {},
          "execution_count": 1
        }
      ]
    },
    {
      "cell_type": "markdown",
      "source": [
        "Python Line Structure"
      ],
      "metadata": {
        "id": "9JQ9IdWP1f5f"
      }
    },
    {
      "cell_type": "code",
      "execution_count": null,
      "metadata": {
        "colab": {
          "base_uri": "https://localhost:8080/"
        },
        "id": "yKWrPYDVzRSL",
        "outputId": "d9a64123-9faf-4ec3-dfc0-f60b7bc71677"
      },
      "outputs": [
        {
          "output_type": "stream",
          "name": "stdout",
          "text": [
            "These are lines\n"
          ]
        }
      ],
      "source": [
        "x = 1\n",
        "if x > 0 :\n",
        "  print(\"These are lines\")\n",
        "  print(\"These are lines\")\n"
      ]
    },
    {
      "cell_type": "code",
      "source": [
        "x = 150\n",
        "if x > 100 :\n",
        "  x = x + 10\n",
        "  print(x)"
      ],
      "metadata": {
        "id": "SBEu-GBiCxBp",
        "colab": {
          "base_uri": "https://localhost:8080/"
        },
        "outputId": "64b3c64a-e170-4ea7-a210-82feb349bc18"
      },
      "execution_count": null,
      "outputs": [
        {
          "output_type": "stream",
          "name": "stdout",
          "text": [
            "160\n"
          ]
        }
      ]
    },
    {
      "cell_type": "markdown",
      "source": [
        "Comments in Python"
      ],
      "metadata": {
        "id": "q4BICGSq1uL6"
      }
    },
    {
      "cell_type": "code",
      "source": [
        "x = 1\n",
        "#The initial value of x is 1\n",
        "#X > 0\n",
        "if x > 0 :\n",
        "  print(\"These are lines\")"
      ],
      "metadata": {
        "colab": {
          "base_uri": "https://localhost:8080/"
        },
        "id": "AlhsEJRj1qY8",
        "outputId": "4e93bd3d-94fc-47a7-ce6d-89c640fc2bef"
      },
      "execution_count": null,
      "outputs": [
        {
          "output_type": "stream",
          "name": "stdout",
          "text": [
            "These are lines\n"
          ]
        }
      ]
    },
    {
      "cell_type": "code",
      "source": [
        "x = 1\n",
        "#The initial value of x is 1\n",
        "if x > 0 :\n",
        " print(\"These are lines\")"
      ],
      "metadata": {
        "colab": {
          "base_uri": "https://localhost:8080/"
        },
        "id": "CiU7CzUzEXf5",
        "outputId": "1833f556-ff85-4f8a-a19b-34a533386991"
      },
      "execution_count": null,
      "outputs": [
        {
          "output_type": "stream",
          "name": "stdout",
          "text": [
            "These are lines\n"
          ]
        }
      ]
    },
    {
      "cell_type": "markdown",
      "source": [
        "Joining two lines:\n",
        "\n",
        "When you want to write a long code in a single line you can break the logical line in two or more physical lines using backslash character"
      ],
      "metadata": {
        "id": "on5WWMLM13tp"
      }
    },
    {
      "cell_type": "code",
      "source": [
        "u = 0\n",
        "v = 1\n",
        "w = 2\n",
        "x = 3\n",
        "y = 4\n",
        "z = 5\n",
        "\n",
        "if   u == 0 and v>0  and w > 1 and x > 2 and y > 3 and z > 4:\n",
        " print(\"These are lines\")\n",
        "\n",
        "\n",
        "\n",
        "\n",
        "\n",
        "\n",
        "\n",
        "print('hi')\n"
      ],
      "metadata": {
        "id": "MRykFX8Y2IAM",
        "colab": {
          "base_uri": "https://localhost:8080/"
        },
        "outputId": "dbec157f-440b-42e8-fb99-905a2dcb57ca"
      },
      "execution_count": null,
      "outputs": [
        {
          "output_type": "stream",
          "name": "stdout",
          "text": [
            "These are lines\n",
            "hi\n"
          ]
        }
      ]
    },
    {
      "cell_type": "code",
      "source": [
        "u = 0\n",
        "v = 1\n",
        "w = 2\n",
        "x = 3\n",
        "y = 4\n",
        "z = 5\n",
        "\n",
        "if u==1 or v>0  and w > 1 and x > 2 and y > 3 and z > 4:\n",
        " print(\"These are lines\")\n"
      ],
      "metadata": {
        "colab": {
          "base_uri": "https://localhost:8080/"
        },
        "id": "xqlUJCN56KHB",
        "outputId": "227cb1a6-c2ed-420d-bebc-dd33863f441a"
      },
      "execution_count": null,
      "outputs": [
        {
          "output_type": "stream",
          "name": "stdout",
          "text": [
            "These are lines\n"
          ]
        }
      ]
    },
    {
      "cell_type": "code",
      "source": [
        "u = 0\n",
        "v = 1\n",
        "w = 2\n",
        "x = 3\n",
        "y = 4\n",
        "z = 5\n",
        "\n",
        "if u==0 and v>0 and w > 1 and x > 2 and y > 3 and z > 4:\n",
        " print(\"These are lines\")\n"
      ],
      "metadata": {
        "colab": {
          "base_uri": "https://localhost:8080/"
        },
        "id": "E_RSakwe5Pnh",
        "outputId": "5bb3e0b8-ae2d-4b27-e8bc-d95f042ef216"
      },
      "execution_count": null,
      "outputs": [
        {
          "output_type": "stream",
          "name": "stdout",
          "text": [
            "These are lines\n"
          ]
        }
      ]
    },
    {
      "cell_type": "code",
      "source": [
        "u = 0\n",
        "v = 1\n",
        "w = 2\n",
        "x = 3\n",
        "y = 4\n",
        "z = 5\n",
        "\n",
        "if u==0 and v>0 and w > 1 and x > 2  and y > 3 and z > 4:\n",
        "   print(\"These are lines\")\n"
      ],
      "metadata": {
        "colab": {
          "base_uri": "https://localhost:8080/"
        },
        "id": "Ue1BucbW5V1C",
        "outputId": "43e11bcc-a445-4d42-fb06-24391aaa6cc6"
      },
      "execution_count": null,
      "outputs": [
        {
          "output_type": "stream",
          "name": "stdout",
          "text": [
            "These are lines\n"
          ]
        }
      ]
    },
    {
      "cell_type": "code",
      "source": [
        "u = 0 ; v = 1 ; w = 2 ; x = 3 ; y = 4 ; z = 5\n",
        "\n",
        "if u==0 and v>0 and w > 1 and x > 2  and y > 3 and z > 4:\n",
        "   print(\"These are lines\")\n"
      ],
      "metadata": {
        "colab": {
          "base_uri": "https://localhost:8080/"
        },
        "id": "aELEceSPJzud",
        "outputId": "fe320692-45d9-4960-fdda-f2d70d3ca0cd"
      },
      "execution_count": null,
      "outputs": [
        {
          "output_type": "stream",
          "name": "stdout",
          "text": [
            "These are lines\n"
          ]
        }
      ]
    },
    {
      "cell_type": "markdown",
      "source": [
        "Multiple Statements on a Single Line:\n",
        "\n",
        "You can write two separate statements into a single line using a semicolon"
      ],
      "metadata": {
        "id": "mdxnJHpE2tVk"
      }
    },
    {
      "cell_type": "code",
      "source": [
        "print(\"Hello\")\n",
        "print(\"World\")\n"
      ],
      "metadata": {
        "colab": {
          "base_uri": "https://localhost:8080/"
        },
        "id": "p8xFAOLb2xRS",
        "outputId": "1b681201-e874-438f-8bc1-cc8ac34fd592"
      },
      "execution_count": null,
      "outputs": [
        {
          "output_type": "stream",
          "name": "stdout",
          "text": [
            "Hello\n",
            "World\n"
          ]
        }
      ]
    },
    {
      "cell_type": "code",
      "source": [
        "print(\"Hello\");  print(\"World\")"
      ],
      "metadata": {
        "colab": {
          "base_uri": "https://localhost:8080/"
        },
        "id": "wiayCuYl7wpQ",
        "outputId": "abe4d178-df78-4bab-b96c-7d0404c53140"
      },
      "execution_count": null,
      "outputs": [
        {
          "output_type": "stream",
          "name": "stdout",
          "text": [
            "Hello\n",
            "World\n"
          ]
        }
      ]
    },
    {
      "cell_type": "markdown",
      "source": [
        "Indentation:\n",
        "\n",
        " Python uses whitespace (spaces and tabs) to define program blocks whereas other languages like C, C++ use braces ({}) to indicate blocks of codes for class, functions or flow control. The number of whitespaces (spaces and tabs) in the indentation is not fixed, but all statements within the block must be the indented same amount. In the following program, the block statements have no indentation.\n",
        "\n"
      ],
      "metadata": {
        "id": "Zidz9mdL3OaW"
      }
    },
    {
      "cell_type": "code",
      "source": [
        "x = 2\n",
        "if x >  0 :\n",
        " print(\"greater than\")\n",
        " print(10)\n",
        " print(100)\n",
        "\n",
        "elif x < 0 :\n",
        "  print('less thn')\n",
        "\n",
        "else:\n",
        "  print('equal to')"
      ],
      "metadata": {
        "colab": {
          "base_uri": "https://localhost:8080/"
        },
        "id": "yHR9KImw3YFw",
        "outputId": "f36f3895-c986-4bea-fc1b-01ef2bbbbae2"
      },
      "execution_count": null,
      "outputs": [
        {
          "output_type": "stream",
          "name": "stdout",
          "text": [
            "greater than\n",
            "10\n",
            "100\n"
          ]
        }
      ]
    },
    {
      "cell_type": "code",
      "source": [
        "x = 100\n",
        "x = x + x * .1\n",
        "print(x)\n",
        "print(\"I am Mr X\")"
      ],
      "metadata": {
        "colab": {
          "base_uri": "https://localhost:8080/"
        },
        "id": "SLwW-IT7me4n",
        "outputId": "37970522-224a-4491-aada-f308f14ba7a1"
      },
      "execution_count": null,
      "outputs": [
        {
          "output_type": "stream",
          "name": "stdout",
          "text": [
            "110.0\n",
            "I am Mr X\n"
          ]
        }
      ]
    },
    {
      "cell_type": "code",
      "source": [
        "x = 5\n",
        "\n",
        "if x<10:\n",
        "   print( x + x * 0.02 )\n",
        "elif x < 20:\n",
        "   print( x + x * 0.03)\n",
        "else:\n",
        "   print(x + x * 0.05)"
      ],
      "metadata": {
        "colab": {
          "base_uri": "https://localhost:8080/"
        },
        "id": "Ll6Onlp8Al8J",
        "outputId": "1804ba4c-8ca2-4a9e-8859-3b4296e743e3"
      },
      "execution_count": null,
      "outputs": [
        {
          "output_type": "stream",
          "name": "stdout",
          "text": [
            "5.1\n"
          ]
        }
      ]
    },
    {
      "cell_type": "markdown",
      "source": [
        "This is a program with single space indentation"
      ],
      "metadata": {
        "id": "cI67LOiK3lBA"
      }
    },
    {
      "cell_type": "code",
      "source": [
        "x = 1\n",
        "if x >  0 :\n",
        " print(\"No indentation\")\n",
        " print(\"No indentation\")"
      ],
      "metadata": {
        "colab": {
          "base_uri": "https://localhost:8080/"
        },
        "id": "VE4kzEb53m0l",
        "outputId": "5fb2e993-7d4d-4cbd-adaf-02468d469395"
      },
      "execution_count": null,
      "outputs": [
        {
          "output_type": "stream",
          "name": "stdout",
          "text": [
            "No indentation\n",
            "No indentation\n"
          ]
        }
      ]
    },
    {
      "cell_type": "markdown",
      "source": [
        "This is a program with single tab indentation.\n",
        "\n"
      ],
      "metadata": {
        "id": "Kq6pEmuY3uVH"
      }
    },
    {
      "cell_type": "code",
      "source": [
        "x = 1\n",
        "if x >  0 :\n",
        "  print(\"No indentation\")\n",
        "  print(\"No indentation\")\n",
        "  print('Third line')"
      ],
      "metadata": {
        "colab": {
          "base_uri": "https://localhost:8080/"
        },
        "id": "keLFFIt53xoy",
        "outputId": "5ca971fa-9e9b-4639-fe8c-2bed15155366"
      },
      "execution_count": null,
      "outputs": [
        {
          "output_type": "stream",
          "name": "stdout",
          "text": [
            "No indentation\n",
            "No indentation\n",
            "Third line\n"
          ]
        }
      ]
    },
    {
      "cell_type": "markdown",
      "source": [
        "Here is an another program with an indentation of a single space + a single tab."
      ],
      "metadata": {
        "id": "8hkibki032jW"
      }
    },
    {
      "cell_type": "code",
      "source": [
        "x = 1\n",
        "if x >  0 :\n",
        "  print(\"No indentation\")\n",
        "  print(\"No indentation\")"
      ],
      "metadata": {
        "colab": {
          "base_uri": "https://localhost:8080/"
        },
        "id": "_PYXMRI235pr",
        "outputId": "f639d1f7-45f3-4af8-ea2f-f0f974e643df"
      },
      "execution_count": null,
      "outputs": [
        {
          "output_type": "stream",
          "name": "stdout",
          "text": [
            "No indentation\n",
            "No indentation\n"
          ]
        }
      ]
    },
    {
      "cell_type": "markdown",
      "source": [
        "Python Reserve Words"
      ],
      "metadata": {
        "id": "tOTCw4qA4Fuc"
      }
    },
    {
      "cell_type": "markdown",
      "source": [
        "![1.PNG](data:image/png;base64,iVBORw0KGgoAAAANSUhEUgAABBsAAAFtCAYAAABGAWK/AAAAAXNSR0IArs4c6QAAAARnQU1BAACxjwv8YQUAAAAJcEhZcwAADsMAAA7DAcdvqGQAAFqSSURBVHhe7d3NaxtJ+//786/4n+il8MZkEa+sXcQsdMhC4IUhYEQgiPtwI8xvMFkYEQgiYMTAYAIDMgzIEBDnDGgTlMWgLAblC4OzCHgR0CKgRfhep6q7Wm61WmW1LD9U1/sFzT2W27Jz87m6qi71w/8lAAAAAAAAG/C///u/4UazAQAAAAAAbATNBgAAAAAAsFGzZsP//M//CBsbGxsbGxsbGxsbGxsbG9uq2zJzzQbAF+QdcB91DF+RfcA91C2KypZtmg3wEnkH3Ecdw1dkH3APdYuismWbZgO8RN4B91HH8BXZB9xD3aKobNmm2QAvkXfAfdQxfEX2AfdQtygqW7ZpNsBL5B1wH3UMX5F9wD3ULYrKlm2aDfASeQfcRx3DV2QfcA91i6KyZZtmA7xE3gH3UcfwFdkH3EPdoqhs2abZAC+Rd8B91DF8RfYB91C3KCpbtmk2wEvkHXAfdQxfkX3APdQtisqWbZoN8BJ5B9xHHcNXZB9wD3WLorJlm2YDvETeAfdRx/AV2QfcQ92iqGzZptkAL5F3wH3UMXxF9gH3ULcoKlu2aTbAS+QdcB91DF+RfcA91C2KypZtmg3wEnkH3Ecdw1dkH3APdYuismWbZgO8RN4B91HH8BXZB9xD3aKobNmm2QAvkXfAfdQxfEX2AfdQtygqW7bXbjZcnddka2vrhq0m3W/mB3IYnuifbcnQfA1s2p0d8D+1wuy3PpmvAdyZ3HX881J6R1XZCaIxqvR2ZMab9caqfK6ku69+135X/ZfB8QJrypd9kz3mVcCDurO55yquBtJ6PzJfAJtly/atmw3VV21pv122nclwYn4gB5oNuGt3dsBn8QDcm7x1PD4tq/oMpPqmJ4PBQEbfpjQb4KR82afZADwGdzb3vNFQWmqs2TrhCIC7Ycv2rZsNdzFJotmAu3ZnB3wWD8C9yVfHE+m/0mPL8QONLTQbsDkPt2gBsK6Hq1uaDbhbtmzTbICX7uyAz+IBuDf56vihP92l2YDNebhFC4B1PVzd0mzA3bJl+16bDVeDjjT2K7PrZbeCHakctqT3ZWr2iGQ2G64G0nl1fa1t8KQi9ZOejH+Y7ydM/ulJ67AsJf07tgLZed6Qzsc1rudAYa17wA8z/HxHApPf6quODL+bb2pLFg+rZl9+XsngtCHVJ8Fm9gMKbOU6NnU5v0VjzMJlFN+6UlPf1zV8NWhLfa8U7b9dlvrbgVz9NPslrFbfNzcbhie6nity9m/09ZzPbdlV+9YvGMuQdwzLbrTNz5W2pLRXk8bpUEgYcDdyzz3j8ejjpfSPqmGtBk/qcpYYW+bmpVslKafHnozxr3auR6GMMSlmfm+0XyQcK9W+488dOQjnniWpvh7IZI0xE8Vjy/a9NRtGp5WwEMqHben2BzIY9KX7ti4VPTkLGtJPLNgWmg3fenKg9gue1aVzYX72pBYNkNUzuTS7aZd/1qNijPftd6W1r4MfyMF5ck/4LPcBX/S13fp6bzUh22+FGe6fH0tV53c7kd+MZsPq2b+S3gt1AA8qUj+Nrinvn7ektq3roZpYgKy6H1BsK9fx97Gqk54c/6JrRI0NqmYGg3G4qFrWbKi9OJBguyat8374s52XUR0Hr/pzi7E89X3jmQ2moVD5fXGsGr3dDf/2XrK5CW/lG8MWmw3Tv1tSVlmLx7O5jB8N1IgHYNNyzz3NeFTeK6tabUsvHF+6Et3mUc1L30Q1O6vji47Un+lGQFmNK6aKw/FPva7223rZUf8d3a8oc0yKLWs2PC1LebsizfdqXFS/qzNQo2HOMRPFZMv2rZsNy7fE5O3nUNrPdiQ47C0EbtpvhPsf/JkKdGJQvPxD/y71fl/NC8bl71Up7R3I2Rfzwve+NPQETxXO/FRNFeRrPVFjIYZI7gO+WQTsvh7OT8L+PZOqfv2tucNvevGQJ/tfzQH7j9RCQ/+O7bIcvB9HX6+6H1Bwt11wacuaDVvBQWrMmUjvUO/bkH5czLnGthWaDWoK2X6q9vllvok+e51JG4zbZn/4Wn+dvn/JVAZHJdl5diyDjLNGAdxO7rlnPB49bZsGQ4Kal+qG4cK8VI0eYb0Hqo5n38i6jGKNZoN6beHsujxjJgrLlu1bNxuWP41ixSdRLA10utmwK80PC+UwJ/qbgrlPlWfUQqyifk/WJ0bwT968j97oTnFiQTKjD9YlKR+cSbjEzzizYal09k0TYfeobz/tbNX9gIK77YJLW9psyPh0d9b4XjgOZFgY21ZpNqhjzTvdGE9dShE2OwM5vp45wnO3zX7UbKhJ5x9WAcB9yTv3nI1Hr+fbglp02V32eDT9qxmOLc2/4jFjU80G9ftSH/xubMyE02zZvnWzYaVFVcJ0cimj8LTvjrSP6lIx15zbmg3xZRR6v/AaoKMz6X0ayyS10Ip+riLHf+pTAlNbv720GOCfTSxSMlmaDTdn31weoXMaXnfXlLOLoYwXTptedT+g2DZRx8uaDbvvFp9HHo17u9L+bF5IWKW+V2k2ZDXGw0so5j6lgu9um/34Mgqdv+BJVRpvu9L/fMX8CLhDedda8Xi0+EFpXNPxZYGp7X1TduZ+blPNhubiOLTmmIlisWX73poN0y9daYbXEUWDW7hI2m9I+10znFhZmw3a95F0T+pSDq9Lv36P2tv4ZkZx4d2wZRUVvLOJRUqmjMVDnuzr085G563rG+yYTV+rN3cjypX3A4prE3W8rNkwX5eRrHFv9frOmNhlNicv5ayq9ptdSqEmiYFaEHIXcSRsIvvTr/25G2+HW1CR5vmYpgNwB/KutZaPR6Z5cNM2Gzc21WzImAfnHDNRTLZs30+zIb6XQnAgnU+XMkleC2g+xVkp0Mb06yi8IV50N9Qtqb43U7LwtECuDcLNNjFRy5RePOTM/pwflzLSNzg9MHcZTt0MdWbV/YCC2UQd36rZkKu+V202iFy+r6rXzaUUap+AT4aQstkxbCqTL0Pp6ScchR/oBFyyA9yBvGut5ePRpXRrqlaz7uWQKWezIc/ajGYDFFu276XZMPkQ3Shr4YZ2Snxd0fJAX0n/vxXZ2csoKBPwuHguf6+on7Pcs2G7LNXfVitLFFvevNuujRu+Dq5vqJVaPOTJ/tWHplSelDMWFfMTxVX3A4puEwuu2zQb8o1tGRO7Jc0G+d4L7xxe+X0cXUKx8oQSvrhd9kfS+aUspawbjobNrez8A7idvHPP5eORvplrauxK0ONP8KQizQ9xhVuaDQs3JF5lbZZAswGKLdv30myIQ1v5LXWX/B8jaevTRfX3EtcjpQMdfcqzK8cfU532L52w8za7TihuPuyrwpm7n8OV9F7pxSKfDiGS+4BvnkZRVgfquRT+GEhTf7IZ340+tXjIlf1/zZMtFu4sPFYTQ7VvvOBYdT+g4G634IrcptmQb2zL0WxQR5PwLt77TWmqml68Xhe+u1321ULlV9NAT93sLX6KSmO2SAGwKbnnnpbxaKrGj+gpaYP5puFPNf7s6XpPPirZNBvmbjQZNyzSj1S+lK65LxjNBqzKlu17aTbIVIVcP7Zrqyz1015485Le+6bUtrekdFiPGgSJbttCoH+on9eFE1RmP68vo9A/P/8cc1Ui5wfRc12f1aVzMZCBPr18P7qufWGhCG/lPuCr5AxPyipHgVRedqQ3l8HE437Si4dc2V/8Hdf5DRKTv1X3A4rtdguuyG2aDfnqO0+z4fqsCR7ZjCy3zv7XbnTj7dlz8VV2T+tS0a9lnUkK4NZyzz0t49H1XFDfr6sl3b6aC150pB7eQyiQg/Nkk/pSzvSHUfqSP7Xf6Fu0GoobFlt7Zs10cSZNNZcMXhws/F6aDbCxZft+mg3a96G0D8tS0qFWRbDzvCGdgQ6mKYDEdeaZgZ6MpXtUu75BpH4qxUlPxhnrqsk/PWnNfpcqQlVErQtueIRruQ/4xtWgrQ7k5t4IwY5UX3Xmb8iYtXjIkX39ieb4XC1WZjd+1E+baElv4fFkq+4HFNetF1zKrZoN2sr1na/ZINOBNPV7Zl1PC+9tIvtqQFPZrcxuEBk+leJ0wCOVgTuSe+5pbTZErgYdaTw389J4DPq4OBecfu7M7nUXvLluJ04+qp+vmrmkXluFN96PzoSg2YBV2bK9drMBcBl5B9xX6Dqe9KWhJmn1CxqIWMQYBriHukVR2bJNswFeIu+A+4pcx5d/1GQrOF58pjmgMIYB7qFuUVS2bNNsgJfIO+C+wtXxj5F037alfVQLL8soxzc/BlIYwwD3ULcoKlu2aTbAS+QdcF/x6ngk7fCa2pJUj/qJe7kA8xjDAPdQtygqW7ZpNsBL5B1wH3UMX5F9wD3ULYrKlm2aDfASeQfcRx3DV2QfcA91i6KyZZtmA7xE3gH3UcfwFdkH3EPdoqhs2abZAC+Rd8B91DF8RfYB91C3KCpbtmk2wEvkHXAfdQxfkX3APdQtisqWbZoN8BJ5B9xHHcNXZB9wD3WLorJlm2YDvETeAfdRx/AV2QfcQ92iqGzZptkAL5F3wH3UMXxF9gH3ULcoKlu2aTbAS+QdcB91DF+RfcA91C2KypZtmg3wEnkH3Ecdw1dkH3APdYuismWbZgO8RN4B91HH8BXZB9xD3aKobNmm2QAvkXfAfdQxfEX2AfdQtygqW7ZpNsBL5B1wH3UMX5F9wD3ULYrKlm2aDfASeQfcRx3DV2QfcA91i6KyZXuu2cDGxsbGxsbGxsbGxsbGxsa26rYMZzbAS+QdcB91DF+RfcA91C2KypZtmg3wEnkH3Ecdw1dkH3APdYuismWbZgO8RN4B91HH8BXZB9xD3aKobNmm2QAvkXfAfdQxfEX2AfdQtygqW7ZpNsBL5B1wH3UMX5F9wD3ULYrKlm2aDfASeQfcRx3DV2QfcA91i6KyZZtmA7xE3gH3UcfwFdkH3EPdoqhs2abZAC+Rd8B91DF8RfYB91C3KCpbtmk2wEvkHXAfdQxfkX3APdQtisqWbZoN8BJ5B9xHHcNXZB9wD3WLorJlm2YDvETeAfdRx/AV2QfcQ92iqGzZptkAL5F3wH3UMXxF9gH3ULcoKlu2aTbAS+QdcB91DF+RfcA91C2KypZtmg3wEnkH3Ecdw1dkH3APdYuismWbZgO8RN4B91HH8BXZB9xD3aKobNmm2QAvkXfAfdQxfEX2AfdQtygqW7bXbjYMT7Zka2tLyu9G5pUM37pSU/tsnQzNC8Dj4OQBfzKW7mlfrsyXWlSHNel+My8AHsldxz8vpXdUlZ0gGr9Kby3jF/CI5cv+lXT3Veb3u3Pjx32KxqqW3HY2uKn3AR7CWnPPjLkf8NjYsn3rZsPWVlnan82LaTQb8EitdcB/UNmTRZoN8FneOh6fllW9BFJ905PBYCCjb1PzHcAt+bJPswF4DPLPPR++doFV2LK9gWaD2qpncmlen0OzAY9U/gP+Q2PAAdLy1fFE+q/0mHXMQgXOy5d9mg3AY5B/7sncD26wZfuWzYaKHLzQnxRtSe2PjHYDzQY8UvkP+A+NAQdIW2vBxUIFBbBW9mk2AA8q/9yTuR/cYMv2LZsNNel+GcrxU/PfX803Y8uaDT8upf+2LpUngfo59f3tstRPejKemO/HPrXM+05kfN6Uqtk/eFKV5vlY0rtrV4OONJ7vSKDfd6sk5cOW9L5wqizm5T/gR+byFexI9VVHht/NN2emctlvS/1ZKof/pBK7ar7jOkpupqZmdRhfRmH2bX3Sf6v6G/ZK0f66xt4O5Oqn2U8z+9bOF4ewq/Pa/PvGJmPpndSlvB39HfpvbZwOM2sRuGsr13FYa6Z2ZltiwZJ3TPoyks5BVN+l6rEMFo4BwN3KN4YtWbCY43klHid0nvdqi8f02bgylfFFazauxGOVnmFN/j67Hhu31bjwfhS+Hps1Cb4PpfOqKiW939IxVJvI8LRhxsVAdg7a4X6ZzYZV/x3AA8tVtzfN/VQ9jz935CCskZJUXw/k/zvR/12Rs3/D3eZ9bsuueo/6BVWBzbNl+/bNBrUYmX48DgMcvOjND2RxoSSbDT+G0tpTrwUVtfjpSn8wkN6pGiT0Dbv2GtJPNizCiV109kTwrC6di4EM+l1p7UcDyvzNKacyfFOJJn/7Len21b4XHbXg04VXDgdJIJY372G+TqKzeOJ89c+Ppapzu61yO5ssxfsFUnnZXshh40PiDKBV8z29ktGgJ8e/qN/1y7H0VM0MvkSDxbJmQ+3FgQTbNWmd92WgfrbzMqqN4FV/oYmxcrPha0/qusmga/dUX/Pel+5JLZw0Bi+62ZdSAXdo5Tr+Pg7rIKyhLVVruoYGpqGXe0zalbJa1FT+e6b2VbV1OmBBg3uXbwzLaDZ870sjPJ5Xpfk+uofJ4OJMmlnzq6xxpa/2Dce1QBqvj6Ws3uc4fL0rx8/N6x+uKyMaq8qqdvQY2g7Hsf77ZlRnwYH05hrbV9J7Eb1H9VdTk2/VWBM0pfkf/T6JZkOefwfwwHLV7U1zv6eqnrYrKveq7tQ8szNQ3zMNhcrvizOy0dtdVRN16dEcxx2wZXsjzQa9wBocLQ4ui80Gtd+v0aJrYfH/pSNVte/cYij+NGpPDSw/zGuhkbT12RRP2+q/DFVgZbXv7uuh+i1Jl9EgGxzLgH4DjLx5jw/gC/n69yzM7a65q/10cBwu6ssq83P7/RxLp6pzmGhM5Ml31mRRWdZs0JO3+TONJtI71Puq3x8XWK5mg77eXdeuei11BlPcbKy+p92A+7XWgmvuU9E1x6TDHg0GPKi1sp8YPy7P9Rlquxk3+FZjlV7cBK3r8Wc2rjSklxwu1PhX0a9vVec/SZ0OpKlfT9RONFYtH0ODXwez1+NxNH15bjzWJGs4178DeGC5557WuV/WWQpm/vhL+l565vXkeAZskC3bG2o2KLq7HHaoE4updLNhovbRXx9dDyrXdMNCv+fB9WBmJnZZHbrha73v9YAzDE8dSi6Ork3/aobv0/xr8bfCT3nzPnqzLF96IChJ+eBMTW3iG9A1MxtbcQ4P/jQBz5Fv+4CT+Lvimsuoscs/Ug2EPM0Gs2+QPEtp5lLOws77khvFAndkrQVXsq7WHJMy71EE3KO1sp8aP5aJxpVEnSwdV4bS0q/X0me2XUq3Nv/7ovdMNSVCcZ3F42b66yQz1syNjcst/DuAB5Z37nnj3C99+boyeqfPYEhdShF+YBbIMZ+64o7Ysr25ZoMy+dCITtWOB6R0s+HvVma3OhYtcKLrzUNmYjd3toQR/f74U9p4EhmfHpva3jdlR71P1qIOfrr1IiXTSFq64bYw8TLS9bByvrUbBpxUU2A349TRqL4SnwCZfVdqNsSNkdfmNNW5rS/t8P+f7CYLcFduXcdrjkk0rvHQ1sp+VrNhOpGrL0N1HO/J2dtjaeyXo/spJOskPXbNmGbD6/Tri78vGquyx9CoER6PTeYT2CXj6NL3WeXfATywvGutZbUb1cGSOZc54yi55gkvoeAMb9whW7Y32mzQRRFdZ7crxx9VopcsrrIWN9qyid3s64T5328GvJu2zE9l4aNbL1IymRxmTei0JfVwc74124Cz2GxY3kBI/L4czYb4Z+1b+ngA3K1b1/EGxyTgPq2V/bnxYyJDfR+E2fF7S4InFakfnUnrZapOlo4VZsxbmFst/r5orMoeQ+frzD6OLr5Pjn8H8MDyrrWya9deT+EZQPqy3dnZpqqmgmVnpgKbYcv2hpsNylezoNLXoX9JLa7W/BQpa2I3//vNKXtz17gDy916kZJpvTMbbs63ZhtwEvttqNlw+Xtl/n0/Hoc/m3UWBvBQbl3HGxyTgPu0VvYT48foXXTD4/KvPRlfTRKXR8SXMSTq5I6bDdF4E5/2ne/Mhlz/DuCB5V1rZdWSZqsn7fJ99bqm1LgVJM9qBe6ALdubbzYo0Slx6uD/4iC6eVA8EMXXx2beoGT59bE3L8bin83+e/S18rrT3WShBCN/3pffE2T4OpCdZ8cy+BHfsyF5+cO1ZfdseOhmw+LlRRn1ZE7LW37PhpKUn3do9uFerbXgSk7QNjgmAfdprezPxg+zoN86zlisZNwXYWPNhqwxNL55cfqeDVnjaLqGc/47gAeWd+6ZVUtaVE+WbH/vSV3VZuX3cXQJBR/G4o7Zsn0nzYbwIK9P4dGD0NxApAaRG+78PXeX7xyLsanaN3paQOoxZD/VYKQfa8bjXpCQ+4Bvnkax8JSJHwNp6rMZTG5vfBpFMofrNBtSn/Ys7Jen2RDfMTx9Z/2vXTnQ/6as369eO0vdkOjqIrpXS/xEDuC+rLXgmpugbW5MAu7TWtmfLVjihbha0M89CUkt/c3xfO568I01GxbHRj13C58klng9ns8t2/e6hnP+O4AHlnvuGddS5tzP1kgzTbz9pjRVjXDPOtw1W7bvqNmgmEdR6sFlbiCyPdN8Wy3EFp5pvupibKpei06nK+23pNsfhM+drZvnQB+cU2i4lv+AH+crkMrLTvSM8POW1MLneycfM5ncr53KYUnqfyZymDPf0ac9ZTk+V++ZfNZycr88zYbwb9V3LVaTusPo39R731T/JlUvL/S+qfqOmxC6dk/1jSL70j0x18ouPL4TuHtrLbjSE7QNjUnAfVor+4nFfzweBM+Po3Gq35X2y4oEug5epC6j21izIVDvfz2GzupsYfxYHG+jffXP6/e5ruFc/w7gga0z91w+97M1GyS8ab+ujeynwACbZcv23TUbVIGM3kSL/4WB6MdYeidq4HiiF2DmZj4nPRnPfbyq5FqMRa4GHWk83zEd7UB2njek8zH9xvBd/gN+5GrQlvozk69gR6qvOjJcOGNmKuOL1tx+lcOW9P5J5TBvvr/2pVkthT+z9aIXTuIW9svVbNAmMjxtSFU3TdT3Snt1aet6Cf+2jPqeRLVbNvtvbZej2qXRgAew1oIra4K2gTEJuE9rZX/uVGw1Tp03pWoyPzuWq8xHl/wF14/J21izQdXe96G0D82TItTYeLB0/IjG0YNZTValeT6Wfvw+Zq9c/w7gga0191w697M3G2Znr87VPXA3bNleu9kAuIy8A+6jjuErsg+4517r1tyTqH6R7poDm2fLNs0GeIm8A+6jjuErsg+45z7rNrxZf3DMPUtwL2zZptkAL5F3wH3UMXxF9gH33Hnd/hhJ921b2kfR/bTK77hxN+6HLds0G+Al8g64jzqGr8g+4J67r9uRtMP7l5SketSfe4IFcJds2abZAC+Rd8B91DF8RfYB91C3KCpbtmk2wEvkHXAfdQxfkX3APdQtisqWbZoN8BJ5B9xHHcNXZB9wD3WLorJlm2YDvETeAfdRx/AV2QfcQ92iqGzZptkAL5F3wH3UMXxF9gH3ULcoKlu2aTbAS+QdcB91DF+RfcA91C2KypZtmg3wEnkH3Ecdw1dkH3APdYuismWbZgO8RN4B91HH8BXZB9xD3aKobNmm2QAvkXfAfdQxfEX2AfdQtygqW7ZpNsBL5B1wH3UMX5F9wD3ULYrKlm2aDfASeQfcRx3DV2QfcA91i6KyZZtmA7xE3gH3UcfwFdkH3EPdoqhs2abZAC+Rd8B91DF8RfYB91C3KCpbtueaDWxsbGxsbGxsbGxsbGxsbGyrbstwZgO8RN4B91HH8BXZB9xD3aKobNmm2QAvkXfAfdQxfEX2AfdQtygqW7ZpNsBL5B1wH3UMX5F9wD3ULYrKlm2aDfASeQfcRx3DV2QfcA91i6KyZZtmA7xE3gH3UcfwFdkH3EPdoqhs2abZAC+Rd8B91DF8RfYB91C3KCpbtmk2wEvkHXAfdQxfkX3APdQtisqWbZoN8BJ5B9xHHcNXZB9wD3WLorJlm2YDvETeAfdRx/AV2QfcQ92iqGzZptkAL5F3wH3UMXxF9gH3ULcoKlu2aTbAS+QdcB91DF+RfcA91C2KypZtmg3wEnkH3Ecdw1dkH3APdYuismWbZgO8RN4B91HH8BXZB9xD3aKobNmm2QAvkXfAfdQxfEX2AfdQtygqW7ZpNsBL5B1wH3UMX5F9wD3ULYrKlm2aDfASeQfcRx3DV2QfcA91i6KyZXutZsPwZEu2tlbcTobmp4DHY5MH/KgeWrJ20n9eSu+oKjtBVDOltyPzDQA2ueuYWkNBOLlo+dQK6671yXz9CNx6/AZyuM+6zZPtaN+adL+ZF751paZqtXZ+ZV4A7GzZXqvZcPmhLe23ya0hVd1YeHogx3Ovq+3Dpfkp4PHY5AH/tpOV8WlZ/Xwg1Tc9GQwGMvo2Nd8BYJO3jqk1FMV9Llo2hmYDPHefdUuzAffJlu21mg2LhtLSzYb9rhBLuGCTB/zbTVYm0n+lf/6YyQ6QU746ptZQHPe5aNkYmg3w3H3W7a2yTbMBOdmyTbMBXtrkAf92k5Ur6e4z2QHWka+OqTUUx30uWjaGZgM8d591S7MB98mW7ftpNoQDTE26X0bSOdiRQO1bqh7L4LuZ/GX93LKg/7ySwWlDqk+CcNDa2i5L/aQn4x/m+8AK1sv7RIaz7AWyc9CW4fflB/SrQUcaz6O8b22VpHzYkt6XxGnbZuI1vzHpAVa1ch1bai2sXzUGjT935CCs7ZJUXw9UtRvfR3J2VJPydvRzwZOqNE4HcvXTfN+I3+fy+1A6r+L7Qui6j44T+n4R/ZO6eR99/GjJ4Gv0s0Be+cYwM9fS99C6Gkj7sCylsAaifA6yJm4/VF7f1qWSnmvNCiMyy/1kLN3Z/VBUvp83pftPaudlzYYVayykfk9vVkdqLrlXl9bFWNIXRIXj735ldn+WrWBHKukxWLnVggzIKVfdfm7LrsruwjpI1VE4rzwazOd+0peGen33XXQvolm2V6jNaN8VLqNgDYYlbNm+x2bDrpT3SlL575n0Bz3pqIFkEg+AqzYbfqjf8yyaDNZOuup9BtI7VYOhLqA9VVCEHSvKn/cr6b2ImgzVX0323takFDSl+R99kE5OVqYyfFOJmmr7Len2BzK46Eg9zG5ZTbTM8PB9LANVC8e/6J+vS0e952Awvl7kALBauY4ttRZOsp6W1eKlIs33/bBWOwNThV+7cqDHl+2a+p6+z0Nfuieq7lVtB8/bMkqMOeH7/HIgB3uBVF52pBcfI/TYWD2WY3X8KB+a19W4Vdav76n3MD8P5JFvDIvnWiqfQcb8KWhIXzfEYnqutadfr0j9bXqupfZNNMmyct8/b0ktbAaUpf3Z7KhlNRty1NhsX/13nep91VzyMLoPS+X0upJGp9H4qxsp4fir31M3TjL+rbMFmfkauEv56lbVoc7sq/7cvPDy90pYR1tBa278mP7VDGshrq8o22psU7Ucz0WX1Wa07w3NBtZgsLBl+x6bDer7h73UQipfs2H0Tg8qu3L8MdXDVgOQ3jf4NdXlA5bIm/fp4DicvNT+mL/h6fTjcdh5npusfG6HC4nd18NUHi+jvAfHMph9w9QAkx0gt7UWXKlaiyZZW1K/SLf5LuWsquv1QLqpMxAm/Wa0mDGfIGnx+5TnnnAxlcFR9HqQ+hQqmjDuzi/GgBWtl/1ADs7nx7DJRT3MZ+NDnH+V2V9TjfHYl054M/AgsfiZ5f4kNd6ZT2XjT1lDC82GPDU2kd6h/l1qQTS3r64x/ffWpReeQTSU9rMdCRbmm2rPfiP8/Qd/Xs8ro7+f8Rf3I1/dmvEjSOYzquUg0JmvyNm/5mVleKJeS+ybpzajfe3NBtZgsLFl+16bDemFWr5mg+nwZf6OeELXTCzigOXWOuBn5ktNlsJPS5MHeD0IJA7aCVHneUuaf8VvRLMBWNd6C675WptNstKXNJgJWeX3rCcqmbpPfLIUvc/85E+7Oq+FNX/80bwQ+3gcvv6Yrl+HO9bLfsYYZhYKs7mWORV74RTtUDwWHkjP7L4s93rOdqzfJ/n483SzIU+NXfXkQO0bZD1OXb1v6UlFjmfj6hIZC6jo72f8xf3Iu9aafNANskRTejqQpspw4/1ZWKfXjbORtJ+qLCfq1lab4ZptYV9bs4E1GOxs2b7XZsP1AiuWo9lgvt562RH9yLL0dvbfnSVFBSzKl3dzEK911fRn0fxkJZ7Uxadqp7b3TdlROb6eXNFsANa13oIrq9mwOEm6+vNAvZ7RJDDSk7OFyZoRNRsymhkLn/ICq1sr+08zLtsxc6vZp5x/R9eDL344FImbZ/Onajeknz6NIJ4XJk8BT2U+V42Zn002Cm4ynVzKSI27/fOOtI/qs/tP0GzAQ8m91kqvhcL61DVhmnFxw+DfM6mo/a7PUFqhNhNrr4XxizUYcrJl+16bDYuTqhzNBvMeN21M3LCKfHm353t+smL2vWmbfTpDswFY11oLrsxmw2L9pRdVaenJmf19EpO4GM0G3MJa2bfMtWZj0g2L+uxmQ9b4lTFupjKfq8Zu+LuSpl+60gyvLdc/r7eSlPcb0n7XDBdkyfdY/vcDm5d/rWWaCqZpF15+Z5qGozcq4+a/o1oylxIZeWpzrtY01mDIyZbtx9tsMF26WdDNqX5z1/8Ba8qX9zxnNlxKt6a+zvoEKRPNBmBday24UrW2bEK23pkNGe9DswF3YK3sr9JsWOvMhqzxa4Vmw12c2fC9L43wRpAH0vl0KZPkTevS80pl+d8PbN46a63Ru12V0WOVUX2j8utLiaLLclV9fJ1I/1Wq1pQ8tTlXa1q62cAaDDewZftxNBt+OVtYxMXXts+Cbq5Tyv4d+nqhQHaeNefvqAwskS/v8fVoWaejpRcw8b4ZiwtF5zp4UpHm7FQ3mg3AutZacKVqbemELOsGdzPL7tmw+D40G3AX1sp+1vwp3WyI79mQugN+ZNk9G7LGr5ubDblqzPydmfds0Auh7bIcvB+ba9yzmyUL80pl+d8PbN5aay1VN4G+b8Mnc7+GeP5oaqJx3g1fT9/7JE9tRvtamg2swXADW7YfuNkQD1zzp/6Enw6HjxlMDgpTVQy6u7crx/FjyWJqwAofI5Zx92EgS968T1WG9aQofVdf/XqYvcQBPd53N/msfu3nSNr6cWJzeafZAKxrrQVXqtaWT8jUYueGO+XvJp48sex9aDbgLqyV/VWaDXpedsPTKJJzrTwLmsXM56kx8zSKjH0vf6+q941uohc3FCq/jc13jR9q/NW/S38vsShb/vcDm7fWWsss9CvVqrlfg3ndnHUbbJeiZkTqyUZ5ajPa19JsYA2GG9iy/cDNhuuF2dZeXToXAxlcnElzXxXOi4NU0JX42c9Zz3jNGICAZfLnXR9ozfO842foh9kLJND5mzugx/teP9tYP7u/Hl5Dmn70GM0GYF1rLbhStWZdbHw1z/XfrknzvX6uf1+6JzUpqdoOnqmfSZyivex9aDbgLqyV/ZWaDUo81woqUn+bmmtt16WXmGvlWdBkZj5HjSX3bZ331b496byshE2J2QcBU/V79WWPW2Wpn+r3U3/7+6bUttV4fFhf+Lda6x/YsPXWWuYyCZ3d1CW6w9fZr2t5ajPa19ZsUFiDwcKW7QdvNmiTjx1pVEtRwWyrAeLtUJVW9J5zQdd+XsngtCFVc1fhrWBHqq86MuTUHeSwXt6nMr5oyYHJXvCkKs3zsfSXLTIGKtfPd8KJkG4y7DxvSOdjuu9LswFY11oLrlSt3bjY+D6UzqualNViRdd9aa8mjdOBXP003zeWvQ/NBtyFtbK/arNB+zGW3sn1Exz05X/1k56MU0NYngXN0syvWGOhyVi6R8l969K6GEeNhph6v/ZhOWxYzMbegf4rzKUZ1etLd2+sf2CD1l1rxfdK2Xo9n9T4sqGsy4vy1Ga07w3NBo01GJawZXtDzQbALeQdcB91DF+RfcA91C2KypZtmg3wEnkH3Ecdw1dkH3APdYuismWbZgO8RN4B91HH8BXZB9xD3aKobNmm2QAvkXfAfdQxfEX2AfdQtygqW7ZpNsBL5B1wH3UMX5F9wD3ULYrKlm2aDfASeQfcRx3DV2QfcA91i6KyZZtmA7xE3gH3UcfwFdkH3EPdoqhs2abZAC+Rd8B91DF8RfYB91C3KCpbtmk2wEvkHXAfdQxfkX3APdQtisqWbZoN8BJ5B9xHHcNXZB9wD3WLorJlm2YDvETeAfdRx/AV2QfcQ92iqGzZptkAL5F3wH3UMXxF9gH3ULcoKlu2aTbAS+QdcB91DF+RfcA91C2KypZtmg3wEnkH3Ecdw1dkH3APdYuismWbZgO8RN4B91HH8BXZB9xD3aKobNmm2QAvkXfAfdQxfEX2AfdQtygqW7ZpNsBL5B1wH3UMX5F9wD3ULYrKlm2aDfASeQfcRx3DV2QfcA91i6KyZXuu2cDGxsbGxsbGxsbGxsbGxsa26rYMZzbAS+QdcB91DF+RfcA91C2KypZtmg3wEnkH3Ecdw1dkH3APdYuismWbZgO8RN4B91HH8BXZB9xD3aKobNmm2QAvkXfAfdQxfEX2AfdQtygqW7ZpNsBL5B1wH3UMX5F9wD3ULYrKlm2aDfASeQfcRx3DV2QfcA91i6KyZZtmA7xE3gH3UcfwFdkH3EPdoqhs2abZAC+Rd8B91DF8RfYB91C3KCpbtmk2wEvkHXAfdQxfkX3APdQtisqWbZoN8BJ5B9xHHcNXZB9wD3WLorJlm2YDvETeAfdRx/AV2QfcQ92iqGzZptkAL5F3wH3UMXxF9gH3ULcoKlu2aTbAS+QdcB91DF+RfcA91C2KypZtmg3wEnkH3Ecdw1dkH3APdYuismWbZgO8RN4B91HH8BXZB9xD3aKobNmm2QAvkXfAfdQxfEX2AfdQtygqW7YdajYMpbW1JVsnQ/M1sL5N5n14onK51VIJXcO3rtRUrmvnV+YFAKu6u3HrSrr7qq73u+q/1vCppY4JW9L6ZL7eFI4XMB7TnO1q0JKzv80XAJa6z7qN5qY16X4zL2hXA2m9H5kvIreawwKGLds0G+ClTeadZgPwMO5u3KLZgMft0czZ7irrQAHdZ90uNhuy11E0G7AJtmzTbICXNpl3mg3Aw7i7cYtmAx63RzNno9kArOxh65ZmA+6OLds0G+ClTeadZgPwMO5u3KLZgMft0czZaDYAK3vYuqXZgLtjy/atmg1Xg4409iuyE+igqi3YkcphS3pfpmYPzUzadLivBtI+LEtJ77tVkvJhWwZZc6bvQ+m8qkbvq97z4O1QJjQbsEHrHfBVCk8bUn0SqPwGsnPQluH35QfqsD6e70gwy3u6NhQWD8Da1qnjy35L6nulcMwKnlSleT6Wycf0gmlZs2Gqfr4t9Wepuv5nYr5vxAuwj+aYsa33VceM5w3pqNcW/LySgdqvNntf/bdVpH7Sk/EPs4/G8QJGvuyvMQ/7cSn9t3WphOOd2ne7HOUxEd9o7EtuqevDAczJVbef27Kr6mrheK/Gl3CcOBqoESlh0peGen33XXRPhqg+TU2aMSm5xe87m8NOxtI9MmuvcLxqSjc9tgFL2LK9drNhdFoJw64Hqm5/IINBX7p6YAobBA3pq0VYJJ60HchBUJLaSVf6g4H0TrP2Vb711H769aocn/fV+/akvV+S4KgZFhHNBmxC/kXKlfReRE2G6q8mw29rUgqa0vyPyuVcs2EqwzdRfZT2W1F9XHTUAkX/fFktaBLDA4sHYG356ngqo7fzddk/P5aqGm/Ke2VVmzc1G1Rdn+j9Aqm8NONeoq4bHy7NfoqZ2IXvu12T9oXat38mzXDfQA7+TNb7SDrmPepvo2PLoN+V9svobw1e9WU23eN4ASNf9nPOw34MpbWnX6/MMjnbd0/t+zXabfJFZfW3epj1+m/qvwcjuUr10wFcy1e3qg51zSXHAOXy90pYc1tBS40e16Z/NcPxJR7H5poN38eqPtV4pX/uZUf990BG36JijfYrq/EqOTa2pBY2ycvS/hzuBljZsr1es+HnUNr6E5jD3lwBaNN+IyyC68mUGeT0BOs8MRlTJhfRINX4EL/LVAa/6kmXKg4zmEXUJO/1brgvzQZsQr4Dvkrg4Dic+Nf+mM/w9ONx2HmeazZ8bktZvbb7eqiSm3QZ1UJwLIP4GywegLXlquN/z6SaVZdfu1GDW33P1myIjwFlNQbN/fzPsXSquq4TC7b4U6SnxzJMnpmgjgFn4b6JY8Cndvjpcf1iYTSVftjIPJBe/EdwvICRbwxbZx6WaoxrXzphDc01wOKzeLiMArhRvrpVtXikx4vkh1lRLQeBrtGKnP1rXlaGJ+q1xL5zzYaQ7TKKjLHNnFkRnykB2NiyvfaZDUstTIbiQa55PbmKqUne3L7TgTR1IaRPDdLURLGiv0ezARuw1gE/K8N68fCL/l7yAG8aZhmnk0ad5y1p/mXeiMUDsLY8dTx6pxvW85Oz2Oht1Mxe3myYSP/VsmPAdV3PmuxmAVZ9P7+w0xaOARZX5zW1b+JYwvECRr4xLMc8zJyKnTkPm42FiQYYzQZgZXnXWpMP+gPc3euzC8w6qfH+LKzT6w92R9J+Ol+3+ZoNWWOj2T/zWADMs2X71s2G6eRSRgN9yk1H2kfX1/ctNBuetudO9wmZidOsaxZfn5T69DiSXSTAOvLl3RzEa13JTGZ4oI6bDfGkri4dfTp0envflB2V48rv5p1YPABrW72O9WVQyTqdF03obM2GUXQ665JjQFzHs/HJtgAzi7uFT4t+TmXydaSOE33pnraleRjfD4lmAxblG8NyzMP+jq4Hz56HqXcKG2CJbNNsAFaWe62VPuaH9anHBPNBV9wIMB/IXp+hFM9NV202NKSfPrku3n/h3kXAIlu21242TL90zfWnOqR6K0l5vyHtd80w8AvNhqywLpmgZU+kaDZgc/Ll3X7AnW82mH1v2uIcs3gA1rZ6HcdNwOxmw+KCKT1u3TDpWjKWZS7A0vuqqeL4XI2b5lKOcNsuS+1VW9pH+tpcmg1YlG8M29Q8jGYDcBt511qzs2fNpUvh/RpM03D0Rq3BzH9HdVmXXuLeK/maDVlj4w3jHpBgy/Z6zYbvfWnoiVFwIJ1PlzJJXpNqumtrNRs4swH3JN8BP8+ZDZfSramvsz5BysLiAVjb6nVsP7MhvrRhebNhg2c2mDEyPrtJn1UR3gjyRUeGXycy/Rm+HIpuBEazAYvyjWE55mGc2QDcmXx1G4kuATxWY1c0jgWmVqNxS40PatwIL/NL1TfNBtwnW7bXajbEp5xmDUbxpG2tZkN8z4bUnVdD6X2BW8h3wI+vU806zczke3agjvdNHuCv6frQj7Rrxqe6sXgA1panjjdzz4asY8D1uJe+Z0NWXcc35Ivu2RC/r54wRt+/lnEs4XgBI98YlmMeFt+zIWseNssk92wA1pGvbg1VY4G+b8Mnc7+G1Pyxcd4NX59dnmvQbMB9smV7rWZDPLGq/DY2rxg/RtLWd9qeC32OQU4NZMMTPelL3wU5fuRYcl9gfXkP+FN1sNdn3aTv1qtf10+eSB6o4313Xw/mJ2s/VX3ox4klT3Vj8QCsLVcd3/XTKJJ1bRZgW3vquJA88y9+pOBT9Xr4JvHirSKdL+EeM9PP7fDvnWuQcLyAkW8MyzcPu+lpFFvJJ5GZrB9/NF8DWCrv3DNkPoitVKvmfg3mdXPWbbBdipoRqUdULm02qDEwiWYDNsGW7bWaDTJVAdSnlavBqH7aC29813vfDJ/JWjqspwauPIOckny+c/jePeno540HQTjRo9mATch/wE8+Y78jPZ358LnjKpfhQiV5oL5ujsXPLL5+Hn/q0WMsHoC15avjqYzezNdl/Czx6DFi9mbD/DGgnarrktT/TNS1WYCF49azunQukvvOL+Li5uTWntlPjXlnRzUp6fc8TJ2yzvECRr7s32Ie9rYr/dl4p17brksveRaOuSxIXwbUH4zkKtWfAHAt/9xTi8+AU1vqEt3h6+zXtcVmg7n/g74EXo1fo29RsdJswCbYsr1es0H7PpT2YVlNiHRIA9l53pDOQMfRhLl6Zq5tzTnIaT/G0js5MHfi1u/dlO6XfubpP8A61jvgT2V80ZID88SV4ElVmudj6S85UF8NOtJ4vhM1yeIa+Zg6MZXFA7C2/HUc1XB9rzRXw+M/9KI+eYnFsnHL/PwzU9fBjlQOW9L7J1XXptnQUvU+fFuX8rY5Bhyofb8srsYmH9uzv0m/Z/VVR8Lh1CzkZo/Q5HgBI1/2152HXT9hTF/+Vz/pyTgVdV0To9Pr+Vrrb/MygAXrzT1VBZt7paTPSogva4/v45C02GxQ1fq5cz2HfRO1J2g2YBNs2V6/2QA4jLwD7ttUHUc3Ykxchw48coxhgHuoWxSVLds0G+Al8g64L08dX/15IKW9mnRS17WG173qU8ZnZ+MBjx9jGOAe6hZFZcs2zQZ4ibwD7stVx9960Y0gt2vSfB/da6h/3s68jwLw2DGGAe6hblFUtmzTbICXyDvgvtx1fDWQzquauYeC2pL3RwAcwhgGuIe6RVHZsk2zAV4i74D7qGP4iuwD7qFuUVS2bNNsgJfIO+A+6hi+IvuAe6hbFJUt2zQb4CXyDriPOoavyD7gHuoWRWXLNs0GeIm8A+6jjuErsg+4h7pFUdmyTbMBXiLvgPuoY/iK7APuoW5RVLZs02yAl8g74D7qGL4i+4B7qFsUlS3bNBvgJfIOuI86hq/IPuAe6hZFZcs2zQZ4ibwD7qOO4SuyD7iHukVR2bJNswFeIu+A+6hj+IrsA+6hblFUtmzTbICXyDvgPuoYviL7gHuoWxSVLds0G+Al8g64jzqGr8g+4B7qFkVlyzbNBniJvAPuo47hK7IPuIe6RVHZsk2zAV4i74D7qGP4iuwD7qFuUVS2bM81G9jY2NjY2NjY2NjY2NjY2NhW3ZbhzAZ4ibwD7qOO4SuyD7iHukVR2bJNswFeIu+A+6hj+IrsA+6hblFUtmzTbICXyDvgPuoYviL7gHuoWxSVLds0G+Al8g64jzqGr8g+4B7qFkVlyzbNBniJvAPuo47hK7IPuIe6RVHZsk2zAV4i74D7qGP4iuwD7qFuUVS2bNNsgJfIO+A+6hi+IvuAe6hbFJUt2zQb4CXyDriPOoavyD7gHuoWRWXLNs0GeIm8A+6jjuErsg+4h7pFUdmyTbMBXiLvgPuoY/iK7APuoW5RVLZs02yAl8g74D7qGL4i+4B7qFsUlS3bNBvgJfIOuI86hq/IPuAe6hZFZcs2zQZ4ibwD7qOO4SuyD7iHukVR2bJNswFeIu+A+6hj+IrsA+6hblFUtmzTbICXyDvgPuoYviL7gHuoWxSVLds0G+Al8g64jzqGr8g+4B7qFkVlyzbNBnjpTvP+qSVbW1vS+mS+BnAnctXxt67UVF1unQzNC5HJ3x2p75XCmt0K6tK7Mt8AHjHmbIB77qxul4xvqxqeqJ/daskqP311XlP71qT7zbwAKLZs02yAl+407zQbgHuRq46zJmOTvjQC9dpeQ876AxkMxjIx3wIeM+ZsgHvurG5pNuCB2bJNswFeutO802wA7sWt6/hzW3ZVrdb+uDQvAG5gzga457HWLc0G3JYt2zQb4KU7zTvNBuBe3LqOTa3Wzrl2Am5hzga457HWLc0G3JYt27dqNlwNOtLYr8iOPg1Vn74T7EjlsCW9L1Ozh/HzSganDak+Cez7Afdk3QN+mPnnOxLoHG+VpJyVY5oNwL3IVcdzp5leSXffjFuJjaYDXLHWGPZ9JGdHNSlvR3kPnlSlcTqQq5/m+0a48NjvyvhzRw7CeVtJqq8HXGIE3FK+uh1KS6+vfjmTrHPvRu92VW3WpfddfbHsMor0+mu7LPWTnox/mO8b2c2GqYwvWrN7GpWqTemq+S7NBmSxZXvtZsPotBIuuMqHbemG17r2pfu2LhVdGEFD+jr8oSvpvVAhDypSP+2p/QbSP29JLRzsqnL2r9kNuEf5J2pTGb6JMl/ab0WZv+hI/Zk+gJel9SnRcKDZANyLXHU8NxlTE6a/VQ3/Vg9rtfI6GptG32iAww25x7CvXTnQ87PtmjTf67yrOdtJTUoq/8HztowSi49w4fG0LOXtitq3H451nQGtBuC2cq+13uqGQiVjrTSS9lNVp4e9qAmY1Wz4MZRWOEctSe2kK301xvVOzTptryXDdM3PNRumMnpTDsfH8mFHenrt9r6pfrYqzSOaDVhky/Z6zYafQ2k/25EgDnnCtN8Iw3nwp/mESA1wugAWron990yq22U5eD82LwD3J/dE7XNbyirHu6+H6hCcdBl9QhocyyD+Bs0G4F7kquOsyRiXUcBR+cawSzmr6nHqQLpfzUvGpN+MPjh6NzKvxAuPLalf0GAANmmduae+r1Dl99Qayrze+GBqNGN8G73TzYJdOf6YaqKbdVnw62A2n11oNug1mtpnYc5rfpZmA9Js2V77zIalTOBnkzcTzN2j/sKpesBDyZv34YnuDmcfXKd/NcOJWfMvc0im2QDci1x1TLMBBZIr+8sWLKFLOftF1UXQkrjdEC081HiXakwAuJ38ay1zBkPqUorwjIfkh1wL45u5BGO/K4uj21QGR7rGm7OfTzcbLn+vqK+zzqiIf5ZmA+bZsn3rZsN0cimj8NKIjrSP6lIx1wVdT97MZRS6CMJr3JtydjGU8ewyC+D+5ct7fH13XToq6/p067ntfVN2khM5mg3AvchVxzQbUCB5sn/150GY8+OP5oWUWXPBLB6ir68XIgA2Y5211uLCP2pAJM9MWBjf4q9fdhbnrGo7++/O3HvONxsm0n+lvz5OXFZxjXs2IIst22s3G6ZfutIMrwXSgdRbScr7DWm/a0pFfT0/eZvI6Pz6JiPxVtpvy5CmAx5AvrwPpZXI7dItPsjTbADuRa46ptmAAsmT/WhxsHxMym42JK/fBrAJeddaIXNJQ/IDrWArmK/n9Phmxrabtvg95ms+/oAt+xhAswFZbNler9nwvS+N8EaQB9L5dCmT5F1NVVEsNhsSflzKqN+V1oG5o381+y6rwF3Kd8C/lG5NZfVpe3aaqRXNBuBe5Kpjmg0okDzZX+/MBpoNwKblm3vGzD1XzKUU4WW96floenyLL2FP3IvFZr7mObMB+dmyvVazYfIhugnkwk0flfj69XjydvWhKZUnZWl/Dr9MsHfOgLuU74Bvv0ZNZz54UpFmfKMemg3AvchVxzQbUCC5sm/u2ZC98Fh2zwbmZsCm5Zt7Xptc6CcnVeTsS3QJxUItp8e36UCa+uul92wIZOdZc/bkwHTNR5du7Gas3Uyzg2YDUmzZXqvZEDcUKr+lniTxQxWB7r7p78Wn+yy7o6mMpaMHuFU/LQY2KO8Bf6oWJeFkLf2s8Z8q83s68+ZZxxrNBuBe5Kpjmg0okHxj2M1Po9h9ez0To9kA3I28c8+Z7z2p67HqSF+qnnHjxoXxbarqWD82c1eO04+tNU9Xmz02U1moefN+wYtueDbFzFfzCF2aDUixZXutZoNMh9LSd0fdKkv9NHo+ee99U2rbW1I6rGcEXj9+JZDKy+hZrQN9GcW+vn9DcP3YFuAe5T/gxznW9xppSbevcnzRkXp435JADs4Th2OaDcC9yFXHNBtQILnHsHiRsF2T5ns9b+tL96QmJZX/4JlaZFifuQ9gE/LPPWPxpQ1qy7r8PGt8+6HWauGHYSWpnXSlr9dqp3WpmMvgk43HrJq/PD8IG5HxnLd/3grXeUHAmQ1YZMv2es0G7ftQ2oflcKDSi62d5w3pDPSEzZySN1cMExmfN6U2u0GkfipFS3r/0GjAw1j3gH816EjjubnfSJz7j6kc02wA7kWuOqbZgAJZawxT87bOq5qU1YJB5760V5PG6WDhseQ0G4C7se7cU0tfpj4na3zTfl7J4LQhVfOkwK1gR6qvOgs3519W85OPas5bNWu37bLU3w5l9Af3bMAiW7bXbzYADiPvgPuoY/iK7APuuU3dRvfLS1yyCzwitmzTbICXyDvgPuoYviL7gHvWr9vL8Kb6wa+D1P3vgMfBlm2aDfASeQfcRx3DV2QfcE/eup3+3ZX227Y0w/vcZT3ZD3gcbNmm2QAvkXfAfdQxfEX2Affkrtu/27IT3ti1Ks0PC7eFBB4NW7ZpNsBL5B1wH3UMX5F9wD3ULYrKlm2aDfASeQfcRx3DV2QfcA91i6KyZZtmA7xE3gH3UcfwFdkH3EPdoqhs2abZAC+Rd8B91DF8RfYB91C3KCpbtmk2wEvkHXAfdQxfkX3APdQtisqWbZoN8BJ5B9xHHcNXZB9wD3WLorJlm2YDvETeAfdRx/AV2QfcQ92iqGzZptkAL5F3wH3UMXxF9gH3ULcoKlu2aTbAS+QdcB91DF+RfcA91C2KypZtmg3wEnkH3Ecdw1dkH3APdYuismWbZgO8RN4B91HH8BXZB9xD3aKobNmm2QAvkXfAfdQxfEX2AfdQtygqW7ZpNsBL5B1wH3UMX5F9wD3ULYrKlm2aDfASeQfcRx3DV2QfcA91i6KyZXuu2cDGxsbGxsbGxsbGxsbGxsa26rYMZzbAS+QdcB91DF+RfcA91C2KypZtmg3wEnkH3Ecdw1dkH3APdYuismWbZgO8RN4B91HH8BXZB9xD3aKobNmm2QAvkXfAfdQxfEX2AfdQtygqW7ZpNsBL5B1wH3UMX5F9wD3ULYrKlm2aDfASeQfcRx3DV2QfcA91i6KyZZtmA7xE3gH3UcfwFdkH3EPdoqhs2abZAC+Rd8B91DF8RfYB91C3KCpbtmk2wEvkHXAfdQxfkX3APdQtisqWbZoN8BJ5B9xHHcNXZB9wD3WLorJlm2YDvETeAfdRx/AV2QfcQ92iqGzZptkAL5F3wH3UMXxF9gH3ULcoKlu2aTbAS+QdcB91DF+RfcA91C2KypZtmg3wEnkH3Ecdw1dkH3APdYuismWbZgO8RN4B91HH8BXZB9xD3aKobNmm2QAvkXfAfdQxfEX2AfdQtygqW7b9bjZMxtI97cuV+RL+uNO8f2rJ1taWtD6ZrwHciVx1/K0rNVWXWydD84LDGLu8x6IFcA91i6KyZdvjZsOVdPfVxHO/y4TNQ3ead5oNwL3IVceFaTYwdoFFC+Ai6hZFZcs2zQYmbF6607zTbADuhZ8TN8YusGgBXETdoqhs2abZwITNS3ead5oNwL3wc+LG2AUWLYCLqFsUlS3bt2o2XA060tivyE6gJj769NRgRyqHLel9mZo9jJ9XMjhtSPVJsJn9tMlYeid1KW9Hvzt4UpXG6VAm5tux4Yn6vpqUjT935CB835JU/5//I/+3fv/kVoTreLGydQ/4Yeaf70gQ5qYk5ax8ZjUb7iDbgO9y1XHGZRTx+HD5fSidV1Uzlum6bsvwu9rh56X0Z7UYyM5BSwZfo5+NXC/8x1+60oyPDdtlqZ/0ZPzD7Jb0fSRnR7VUfQ/k6qf5vsHYBZt8Y1j+nE7+6UnrsDLLaVgX+w3pfEyPRBMZX7Skvlfa0H5Aca079wQeO1u21242jE4r4WClJ2Xd/kAGg75039aloidrQUP6eqIWupLeCzVRCipSP+2p/QbSP29JLRzAqnL2r9lt5f2Urz2p69dn+6rffVKTkvp7ghdq4mh208IJ29OyGjAr0nzfl8FFRzr/7//IaNCT41/U9345lp76XYMvDHg+yX/An8rwTZT50n4ryrzKUv2ZXgSUpfUp0TRYaDbcTbYB3+Wq42XNhl8O5GAvkMrLTjgW9N5G9bZVPZZjVbflQ/P6aV3K+vW9tozMz88WcXqMCTLeY68lo2Q/8WtXDvQYuV1T41Gqvp+r900s+hi7YJNvDMuX00m/YTLZlLMLPb9T+75vmjGrLO3PZkc1Lo7elNVrJamddKWv8zgbFwNp/hW/6ar7AcWWf+4JuMGW7fWaDT+H0n62I8Fhb+HT1qkapPRC6+BPc4KnmlzpCV7tj9Qy6d8zqW6X5eD9OPp61f3Ub+y/0gNUTbpznzCp3/3xWHbVe1TfX79HOGFTr9Uv0n8pp6L6LPcB/3M7XGjsvh6qaVPSZZSj4FgG8TfSzYY7yjbgu1x1vKzZoF4rv71uH+iF0eAoej04GszV++XvFfX6bmKxZcYR/R7qfZP7Tv9qhs3J65q9lLOqPlYcLNT3pB/tW353/XcwdsEm3xiWL6fdl2UpPU021YwvHamofYM38XeGcqy+3lLj4pwfA2lu70jldVw/q+4HFFvuuSfgCFu21z6zYSkzoaudzzcbdo/6C6eJzll1P/P+Qeapo2oyF37iczb7BDiasC0u3piw+S1v3ocnpgnwzbyQoCdrehI3+3RmSbNh09kGfJerjpc2GyrzZxcpV+e1sIaPP5oXYh+P52t7tohrXjcbZ0zNxou2z+2wYVj5PauCzb5Ba7bAY+yCTb4xLEdOrYbSmqsh00TY78jYeoLNqvsBxbaxtRbwyNiyfetmw3RyKaOBPi28I+2julTMNemzZoMa5MJTyPVAo6/RO9Sn5Q1lPLvMIrbifmYhV3kdnY4+v/WlnRpQowlb1gDLhM1n603U6tJZyJza3jdlR2cyXkQsu4xiw9kGfJerjpc2GxabiFGzIWOhn1HbtnEkev8D6alvXv15EP7sQgPDSP8tjF2wWWsMWyGnSdPJlYw/qfHn4kzarxtSi++3MKuh+PII/fOB7DxvSPu8L6Nv6dCuuh9QbOuutYDHzpbttZsNU32TofB6Oz146C262U/7XTM8ze662aBNZHSevDFQtJX2zU24Zm7eL/7Eyb6lJ2wtWfysmAmbz/Ll3Xyac9MWT8AWFiTa5rMN+C5XHS9tNiyOD7NmQ7rWljUb0qeHG8kGQlzf88eFa8l9r79m7EK2fGPY6jkNfR9Kez85VgWy86wuzfdqDEvVkG4kXPaTN06OtuBZU7pzN0BedT+guPKutQBX2LK9XrPhe18a4Y0gD6Tz6VImyTsZ/3uW0WxI+HEpo35XWgdmwKkuOS182X7mNNbGh9XOxWPChiz5DviX0q2prKx0mqmS2WxI2FC2Ad/lquO7bDYs+8T4tX7/hvRVSa93ZgNjF7LlG8NWz6moUa69p78uy/HFWK4miUbAdCDNVA3NmU5k/KkXPtklvPFk8l5GSavuBxRMvroF3GHL9lrNhsmH6CaQCze8U+Lr1+Nmw9WHplSeJO9eHDODn5lMrbpf3MxYfl17ScrPO6nrXpmwYV6+A358w7iMxYcS3mDrSUWacZMgtSC5q2wDvstVx3fZbAiyxhhzLXx8nxVzz4bdxE0gry27ZwNjF7LlG8Py5zTzLAgzRs1q6O+OVPZKmQ3yufscrbofUHD56hZwhy3bazUb4oZC5bf4LvrGj5G09d229ffi69f1Hff1BEsNXPON67F0kjclWnW/2QKtJmep62mvLhrhJ8W7iTuL3zhhq/E4QR/lPeBP1SIjXCi8HsjcdOln/ClQXXrxJUHpBckdZRvwXa46vstmw1YgB+fzI0n8hInrs/zUou6Gp1EwdmFV+cawHDmNGwr/6afGq4n0wqclqe/FT2mZDuRYn+W6n87iVPr/0b/PnC2x6n5AweWdewKusGV7rWaDTIfSeqoHiLLUT6Ob2cXPYC4d1lMTuqmaNOkbA10/23mgTyEPrwcMEp3uVfdTvppnlQcV8/uvn1Wunxc9TD+rPHPCFn9aXZbjc/W7eFa5V/If8ON86vsstKTb1zfNun5O+NwEbmFBcjfZBnyXq47v9MyGQC3YSlI76Uo/UbPBi9TiKq7v7Zo038/Xd/CMsQuryzeG5cnpdWOi+qveT98AvB2OdcGzuhzoBnnirJrL84OwWTEbFwc96byshK8lH+W66n5AkeWfewJusGV7vWaDpm8gdFiOFkFqUNJ3F+4M9PBjTsmbuxfDRMbnzes7GYd35G9J75/0JGnV/ZTJWHondSlv6/3Utl2W+klPxqnF2PIJm/K1L82q+V0verPBE8W37gH/apC8wZXJ/cdUPhcWJNrmsw34Llcd3/E9G8b6psnm2BA8qUrjdDh/FlRMjZ2dV7VZfZf2amrfwcJjcRm7YJNvDMuZ0x9j6R5VZUc3xsKM1qV1MVb7mUZX6h4LVwPdjEiNi+F8cN6q+wFFte7cE3jsbNlev9kAOIy8A+57+Dq+XsSxZMJ9ypd9cgo8Bsw9UVS2bNNsgJfIO+C+h69jFnF4GPmyT06Bx4C5J4rKlm2aDfASeQfc9/B1zCIODyNf9skp8Bgw90RR2bJNswFeIu+A+x6+jlnE4WHkyz45BR4D5p4oKlu2aTbAS+QdcB91DF+RfcA91C2KypZtmg3wEnkH3Ecdw1dkH3APdYuismWbZgO8RN4B91HH8BXZB9xD3aKobNmm2QAvkXfAfdQxfEX2AfdQtygqW7ZpNsBL5B1wH3UMX5F9wD3ULYrKlm2aDfASeQfcRx3DV2QfcA91i6KyZZtmA7xE3gH3UcfwFdkH3EPdoqhs2abZAC+Rd8B91DF8RfYB91C3KCpbtmk2wEvkHXAfdQxfkX3APdQtisqWbZoN8BJ5B9xHHcNXZB9wD3WLorJlm2YDvETeAfdRx/AV2QfcQ92iqGzZptkAL5F3wH3UMXxF9gH3ULcoKlu2aTbAS+QdcB91DF+RfcA91C2KypZtmg3wEnkH3Ecdw1dkH3APdYuismV7rtnAxsbGxsbGxsbGxsbGxsbGtuq2DGc2wEvkHXAfdQxfkX3APdQtisqWbZoN8BJ5B9xHHcNXZB9wD3WLorJlm2YDvETeAfdRx/AV2QfcQ92iqGzZptkAL5F3wH3UMXxF9gH3ULcoKlu2aTbAS+QdcB91DF+RfcA91C2KypZtmg3wEnkH3Ecdw1dkH3APdYuismWbZgO8RN4B91HH8BXZB9xD3aKobNmm2QAvkXfAfdQxfEX2AfdQtygqW7ZpNsBL5B1wH3UMX5F9wD3ULYrKlm2aDfASeQfcRx3DV2QfcA91i6KyZZtmA7xE3gH3UcfwFdkH3EPdoqhs2abZAC+Rd8B91DF8RfYB91C3KCpbtmk2wEvkHXAfdQxfkX3APdQtisqWbZoN8BJ5B9xHHcNXZB9wD3WLorJlm2YDvETeAfdRx/AV2QfcQ92iqGzZptkAL5F3wH3UMXxF9gH3ULcoKlu212w2XEl3f0u29rvqvx4j8/dttWRoXgGSOOAbk7F0T/uPtI4Bu1x1/K0rtS01LpwwKsB9DzOGMbcCboO5J4rKlm2aDfASB3ztsdcxYJerjmk2oEAeZgxjbgXcBnNPFJUt2zQb4CUO+BrNBriNOoavyD7gHuoWRWXLNs0GeIkDvkazAW6jjuErsg+4h7pFUdmyfetmw/hLT1oHOxLo01O3y1I/6cn4h9ktZPY9Gcrlh6ZUt9V/BztSfz+Wqdlj8o96j8OylPR7bAWy87whnY8T892En1cyOG1I7Zn5fWoLnlSW/85Us2HysSVl/TMvunL507wIL617wL8adKTxPM5fScqHLel9iZOsXcpZVX+vLO3P5iXj8vwg/Lnq75fmlcjce6raqL7qyPC7+WbCzb9bMaeK187HMj5X9fYkCOuktFeX1sV1zc1OKU9unF4Ox+Sq44zLKIYn6ms1jl3qe5ccVWUn0LWgx6CmdP/JGIOAR2KtOduyedit5lYTGV+0pL5XMmOJGpv27XO4eFzKnjMCxbXu3BN47GzZvl2z4WlZykEglf+eSX8wkN7bWtQw2GvJaLaqMfvuqX23a9K+GEj/vC1dsxC7/LMe/kzwrC4d9b1BvyutfT1oBXJwnlyUjaTzTA9QanB62w1/n963/bISDo7Bq74a8mKLA+L0U9xoOGNgwxoH/KkM30RZK+23pNtX+bvoSN1ksvUpsej/90yqug6qZzJL8Fez0NELG/NS+J4n5XDSFb9n//xYqnrBs92Q/qzhkON3mwXVrqq3IFCTxdOeDAY9aYc1tSXlN6Nocjm9kpF6/fgX9bt+OZaerqcvLK7gllx1vKzZ8MuBHOypcexlJ6yD/nlLanoxltEwBB6LteZsmfOw28ytpjJ6o8ewktROzM/OxqZAmn8lxqYfQ2mFr1/v2zutS0WPd2rOOGReBg/kn3sCbrBl+3bNBjUQ1f6Y/5R2+lczHKCq7+PX4313Fydu3/vS0APN3AJMU4ur17vqZ6py9q956VNbKk8CqV+kF0RT6f9Hv/+B9Gbngs8PiNMvZ3Kgfk/wvC0jBjQouQ/4n9ths2r39TBarM9cRlkLjmWQ+Mbl79WoPs51KON9DqT7Nfp+SL3nbtZ7mmbF7ttR9HWe3z07YyHVhFA/OTjSE71ETcV1wmUUcFSuOl7WbFCvldVrc7UV1+Y7U4PAI7PenC1jHnaLuZWqIDnWNaXGpjk/BtLc3pHK68GsrkbvdFNiV44/zo9icSM++PV6X6Cocs89AUfYsn27ZkNqgRW5lLPw09L4U914cDqenWUQuzqvqdcDtSgyLySpBVdFDUCV1CnnWaL3qUn3m3khOSCqgSxsNDyjc45reQ/4wxO9UE9m7JpusOkFy9ynOLoO9OUUQUPab6Ocz5+poyZfb5a9p85vScoHZzJWX+X63fGC6ihj4mZq6noBZeqEZgMclauOlzYbKokGXMwsohL7Ao/JWnO2jHmYjXVuFX5t6mS/I2PriXFDaZkPlhbHGt0I1+/ZzJhPAsWSd+4JuMKW7ds1G5YsUoav9cDRkH44+Jh9Z82Ha/FE7/jPgQz06XfJrd/OXjT9nMrk60jt05fuaVuahxVznW3WgFiW8p7+38Tp44Cy3kStLp10TvX2vik7KmMLjbH4cgq1BS96qVpJT9qWyfm7zYIqOqMiTU349N8z+1vMe9NsgKNy1fHSZkM8ViWZWpk7hRx4PNYawzLmYTO55lbxuBVfRqFfi+631T7vy+hbarYV197LzuIYpraz/+6on89q+gHFkq9uAXfYsn03zYZwAhcPUMv2jQetG7bZz03DG96F1/fF39suS+1VW9pHFfV11oCotr2GNF/oT4bL0vqbdgMi+fJuFh43bQufgl7KWS36XvqmkIuTtmVy/m4zqTv+GH05z7zXrKbsdQw8drnqeGmzIasG07UCPC6bm7OtM7dK1sxULvvJmxdHW/CsKd34BsafWrPXbVvmWa5AgeSrW8AdtmzfQbMhfUrc8n3nz4Cwm3xoRDcretGR4deJTBNPk7j8fdmAWJeevsnet154KcXWXlu4AhdavrxfSlc3DZ7my8/lH9HlE6VtcxlE8n4Ns4ze1GzI+btvOLMhPOV19mmtrY6Bxy9XHdNsQIFsas623txqybg1ncj4U086r6rRzcLjS23NfRm4Bwp8l69uAXfYsn27ZkOQNeCMpP1UfS99z4aMQS4ayCz3bNguS/U3PThNpP9KD3DpBZsWNzfsA2J8w77FT5jho3x5z8rYtfCmqE8q0vyQ6JrFN73SlyzEzS5VA8n02e7FMHwdyM4zNVH7kfN3mwVVsHCWhbJwH5TltQm4IFcd02xAgaw1Z1vI8y3nVn93pLJXkkZy7DPmxrfpQJpL60n/Hj3eNRNPYAKKKV/dAu6wZft2zYaMm95dnh+EXfLrT1YtC5p48rd/JpeJbrr+md4rPVDFd06OB72KdL6EO8xMP7fNdfHJ6/1SA2JoJO3w/g1Zgyp8k/eArx+dGj05YjB/DffPOFfmLJqQeUpEImvRWQ6pp7eYO94v3Alf38lbNycOe+HvyvW745pKP/lCTyrDp1FkTBxr6afBAG7IVcc0G1Aga83ZFvJ8y7nVdCDHGY10/b7RkyziM1f1Y571E8Z25XiQakyYpy3F4x1QZHnnnoArbNm+5ZkNgQSzZyb3pXtSC0+dC14kB55lg1wkbk4Ez+rSuRiEz3du7ZfUoDS/CIsXXFt7Zr9BT86O9O8rSf0wWshdnyGRGhCN+D0Wb9YH3+Q/4OvJUnQjrNJ+S7p9lcHE88STTbe4sTB/Fo15OsVcsyt+z4xn/M81C1b/3bMzG1Rtbm3XpHXeT9RUujkYTzTLcnyu3vMLUz24JVcd02xAgaw1Z8vI823nVvEcbjY2qZ/vvKyEr5WTl038UDUVNsfjOeNAeqf16F4RC81xoJjyzz0BN9iyfbtmgxq4xl+60oxvDLRdlcbpMNWdtjcbtMk/PWkdlqNr/PSgpQa91sV41miITT62pb4XNSK2gh2pvurIQL+pOT28+j5eSGU3G6LFVbRAyzrtD/5Y94B/NUjeCCu6+3bnYyJL5vKJzPuDxJ/gqFpILvmvBirXz8x7mlwPM04nvfF3a2ZBVTsfhzf9qj6J8p65r/a1L82qqSmacHBMrjqm2YACWXfOlpXn286t5saweLwJ3yDl55UMThtmXLr+XVnjHVBE6849gcfOlu01mw2A2wqb91mzgSUSio9xC74i+4B7qFsUlS3bNBvgpcLmnWYDPMK4BV+RfcA91C2KypZtmg3wUmHzTrMBHmHcgq/IPuAe6hZFZcs2zQZ4qbB5p9kAjzBuwVdkH3APdYuismWbZgO8RN4B91HH8BXZB9xD3aKobNmm2QAvkXfAfdQxfEX2AfdQtygqW7ZpNsBL5B1wH3UMX5F9wD3ULYrKlm2aDfASeQfcRx3DV2QfcA91i6KyZZtmA7xE3gH3UcfwFdkH3EPdoqhs2abZAC+Rd8B91DF8RfYB91C3KCpbtmk2wEvkHXAfdQxfkX3APdQtisqWbZoN8BJ5B9xHHcNXZB9wD3WLorJlm2YDvETeAfdRx/AV2QfcQ92iqGzZptkAL5F3wH3UMXxF9gH3ULcoKlu2aTbAS+QdcB91DF+RfcA91C2KypZtmg3wEnkH3Ecdw1dkH3APdYuismWbZgO8RN4B91HH8BXZB9xD3aKobNmeazawsbGxsbGxsbGxsbGxsbGxrbotM2s2mK8BAAAAAABuhWYDAAAAAADYKJoNAAAAAABgo2g2AAAAAACAjaLZAAAAAAAANopmAwAAAAAA2CiaDQAAAAAAYKNoNgAAAAAAgI2i2QAAAAAAADaKZgMAAAAAANgomg0AAAAAAGCjaDYAAAAAAICNotkAAAAAAAA2imYDAAAAAADYqKjZ8L/y/wNxXlhtUrJ39QAAAABJRU5ErkJggg==)"
      ],
      "metadata": {
        "id": "ikpXEBp14Q4d"
      }
    },
    {
      "cell_type": "code",
      "source": [
        "if = 1\n",
        "print(if)"
      ],
      "metadata": {
        "colab": {
          "base_uri": "https://localhost:8080/",
          "height": 106
        },
        "id": "fuAz8-O6OfF6",
        "outputId": "444f5341-b59f-4fb1-cef7-f944f1e6497c"
      },
      "execution_count": null,
      "outputs": [
        {
          "output_type": "error",
          "ename": "SyntaxError",
          "evalue": "invalid syntax (<ipython-input-20-5d2a5b843810>, line 1)",
          "traceback": [
            "\u001b[0;36m  File \u001b[0;32m\"<ipython-input-20-5d2a5b843810>\"\u001b[0;36m, line \u001b[0;32m1\u001b[0m\n\u001b[0;31m    if = 1\u001b[0m\n\u001b[0m       ^\u001b[0m\n\u001b[0;31mSyntaxError\u001b[0m\u001b[0;31m:\u001b[0m invalid syntax\n"
          ]
        }
      ]
    },
    {
      "cell_type": "markdown",
      "source": [
        "# Python print() function"
      ],
      "metadata": {
        "id": "ei56E6X04XG-"
      }
    },
    {
      "cell_type": "markdown",
      "source": [
        "Double Quotes Use:"
      ],
      "metadata": {
        "id": "-ncd5LRB5nqc"
      }
    },
    {
      "cell_type": "code",
      "source": [
        "print(\"Hello world\")\n",
        "print(\"1234+5\")\n",
        "print(1234+5)"
      ],
      "metadata": {
        "colab": {
          "base_uri": "https://localhost:8080/"
        },
        "id": "VQ_TGuaz4SFQ",
        "outputId": "92e76875-9426-419c-c1e0-391c1491c828"
      },
      "execution_count": null,
      "outputs": [
        {
          "output_type": "stream",
          "name": "stdout",
          "text": [
            "Hello world\n",
            "1234+5\n",
            "1239\n"
          ]
        }
      ]
    },
    {
      "cell_type": "markdown",
      "source": [
        "Single Quotes Use:"
      ],
      "metadata": {
        "id": "WZNiTSxI5vjy"
      }
    },
    {
      "cell_type": "code",
      "source": [
        "print('Hello world')"
      ],
      "metadata": {
        "colab": {
          "base_uri": "https://localhost:8080/"
        },
        "id": "9wVkVsrb5wyq",
        "outputId": "4ccba894-c0c9-43fc-c7cc-d277589700a6"
      },
      "execution_count": null,
      "outputs": [
        {
          "output_type": "stream",
          "name": "stdout",
          "text": [
            "Hello world\n"
          ]
        }
      ]
    },
    {
      "cell_type": "markdown",
      "source": [
        "Variable Use:\n",
        "\n",
        "Strings can be assigned to variable say string1 and string2 which can called when using the print statement."
      ],
      "metadata": {
        "id": "iBB6kyYF54r1"
      }
    },
    {
      "cell_type": "code",
      "source": [
        "str1 = 'Wel'\n",
        "print(str1,'come')\n"
      ],
      "metadata": {
        "colab": {
          "base_uri": "https://localhost:8080/"
        },
        "id": "xk77n-Vf550K",
        "outputId": "a2a2405c-2b3d-4087-f0e0-9e5ea1a81d30"
      },
      "execution_count": null,
      "outputs": [
        {
          "output_type": "stream",
          "name": "stdout",
          "text": [
            "Wel come\n"
          ]
        }
      ]
    },
    {
      "cell_type": "code",
      "source": [
        "\n",
        "print('wel','come')\n"
      ],
      "metadata": {
        "colab": {
          "base_uri": "https://localhost:8080/"
        },
        "id": "cF0wswJ-D9ag",
        "outputId": "75237d9b-dd0a-47db-e7b3-22692d635748"
      },
      "execution_count": null,
      "outputs": [
        {
          "output_type": "stream",
          "name": "stdout",
          "text": [
            "wel come\n"
          ]
        }
      ]
    },
    {
      "cell_type": "code",
      "source": [
        "nm = 'Provath'\n",
        "print('Thank you',nm)"
      ],
      "metadata": {
        "colab": {
          "base_uri": "https://localhost:8080/"
        },
        "id": "inv9WmW_QqPh",
        "outputId": "5f69113c-bc0c-4bdb-a088-3470389f60a5"
      },
      "execution_count": null,
      "outputs": [
        {
          "output_type": "stream",
          "name": "stdout",
          "text": [
            "Thank you Provath\n"
          ]
        }
      ]
    },
    {
      "cell_type": "code",
      "source": [
        "str1 = 'Welcome'\n",
        "str2 = 'Python'\n",
        "print(str1, str2)\n"
      ],
      "metadata": {
        "colab": {
          "base_uri": "https://localhost:8080/"
        },
        "id": "Uldm4CB75-kD",
        "outputId": "01486264-31f9-49b3-b808-e846586475a3"
      },
      "execution_count": null,
      "outputs": [
        {
          "output_type": "stream",
          "name": "stdout",
          "text": [
            "Welcome Python\n"
          ]
        }
      ]
    },
    {
      "cell_type": "markdown",
      "source": [
        "String Concatenation:\n",
        "\n",
        "String concatenation is the \"addition\" of two strings. Observe that while concatenating there will be no space between the strings."
      ],
      "metadata": {
        "id": "47Rmoutl58tL"
      }
    },
    {
      "cell_type": "code",
      "source": [
        "str1 = 'Python'\n",
        "str2 = ':'\n",
        "print('Welcome'+str1+ str2)\n"
      ],
      "metadata": {
        "colab": {
          "base_uri": "https://localhost:8080/"
        },
        "id": "DimsD1E46Hkd",
        "outputId": "7b6c1dac-3b8a-425e-c952-5f24ddd4d6bb"
      },
      "execution_count": null,
      "outputs": [
        {
          "output_type": "stream",
          "name": "stdout",
          "text": [
            "WelcomePython:\n"
          ]
        }
      ]
    },
    {
      "cell_type": "markdown",
      "source": [
        "Using as String:\n",
        "\n",
        "%s is used to refer to a variable which contains a string."
      ],
      "metadata": {
        "id": "m-fzV60c6Lr7"
      }
    },
    {
      "cell_type": "code",
      "source": [
        "str1 = 'Python'\n",
        "print(\"Welcome        %s\" % str1)\n"
      ],
      "metadata": {
        "colab": {
          "base_uri": "https://localhost:8080/"
        },
        "id": "uIEL2haQ6MS8",
        "outputId": "093d6520-21a6-46d5-8fea-59f08a41092d"
      },
      "execution_count": null,
      "outputs": [
        {
          "output_type": "stream",
          "name": "stdout",
          "text": [
            "Welcome        Python\n"
          ]
        }
      ]
    },
    {
      "cell_type": "code",
      "source": [
        "x = 10\n",
        "print('%d'%x)"
      ],
      "metadata": {
        "colab": {
          "base_uri": "https://localhost:8080/"
        },
        "id": "5OgBRLGdHEiQ",
        "outputId": "9a2ee127-3a43-4337-a803-03e111475666"
      },
      "execution_count": null,
      "outputs": [
        {
          "output_type": "stream",
          "name": "stdout",
          "text": [
            "10\n"
          ]
        }
      ]
    },
    {
      "cell_type": "code",
      "source": [
        "x = 10.5\n",
        "print('%.2f'%x)"
      ],
      "metadata": {
        "colab": {
          "base_uri": "https://localhost:8080/"
        },
        "id": "IJFCMNuho_lX",
        "outputId": "c1ba22f3-f530-4904-c721-a1a202523666"
      },
      "execution_count": null,
      "outputs": [
        {
          "output_type": "stream",
          "name": "stdout",
          "text": [
            "10.50\n"
          ]
        }
      ]
    },
    {
      "cell_type": "markdown",
      "source": [
        "Similarly, when using other data types\n",
        "\n",
        "%d -> Integer\n",
        "\n",
        "%e -> exponential\n",
        "\n",
        "%f -> Float\n",
        "\n",
        "%o -> Octal\n",
        "\n",
        "%x -> Hexadecimal\n",
        "\n",
        "This can be used for conversions inside the print statement itself."
      ],
      "metadata": {
        "id": "P_3FvS3U6Ovg"
      }
    },
    {
      "cell_type": "code",
      "source": [
        "print(\"Actual Number = %d\" %15)\n"
      ],
      "metadata": {
        "colab": {
          "base_uri": "https://localhost:8080/"
        },
        "id": "2bkOCrSp6W8H",
        "outputId": "4c2fc549-5bc0-4229-e023-014360c9b24d"
      },
      "execution_count": null,
      "outputs": [
        {
          "output_type": "stream",
          "name": "stdout",
          "text": [
            "Actual Number = 15\n"
          ]
        }
      ]
    },
    {
      "cell_type": "code",
      "source": [
        "numbr= 14\n",
        "print('Number = %d'%numbr)"
      ],
      "metadata": {
        "id": "TM1SQH22S_Wn",
        "colab": {
          "base_uri": "https://localhost:8080/"
        },
        "outputId": "5f2fa2f4-e7b1-43c6-eba4-3843ede5f075"
      },
      "execution_count": null,
      "outputs": [
        {
          "output_type": "stream",
          "name": "stdout",
          "text": [
            "Number = 14\n"
          ]
        }
      ]
    },
    {
      "cell_type": "markdown",
      "source": [
        "Using multiple variables:\n",
        "\n",
        "When referring to multiple variables parenthesis is used."
      ],
      "metadata": {
        "id": "Etya_rg56bPp"
      }
    },
    {
      "cell_type": "code",
      "source": [
        "str1 = 'World'\n",
        "str2 = ':'\n",
        "print(\"Python    %s     %s\" %(str1,str2))\n"
      ],
      "metadata": {
        "colab": {
          "base_uri": "https://localhost:8080/"
        },
        "id": "K-PEO6cQ6drC",
        "outputId": "8c5b2363-e33a-4dae-bc21-6b813dc69564"
      },
      "execution_count": null,
      "outputs": [
        {
          "output_type": "stream",
          "name": "stdout",
          "text": [
            "Python    World     :\n"
          ]
        }
      ]
    },
    {
      "cell_type": "markdown",
      "source": [
        "\\n is used for Line Break."
      ],
      "metadata": {
        "id": "gSR_uvgm6jSO"
      }
    },
    {
      "cell_type": "code",
      "source": [
        "print(\"Sunday\\nMonday\\n Tuesday Wednesday Thursday Friday Saturday\")\n"
      ],
      "metadata": {
        "colab": {
          "base_uri": "https://localhost:8080/"
        },
        "id": "7l6ACjWV6orW",
        "outputId": "55dfd5f7-3129-4762-8cf2-6cf4e52a626a"
      },
      "execution_count": null,
      "outputs": [
        {
          "output_type": "stream",
          "name": "stdout",
          "text": [
            "Sunday\n",
            "Monday\n",
            " Tuesday Wednesday Thursday Friday Saturday\n"
          ]
        }
      ]
    },
    {
      "cell_type": "code",
      "source": [
        "print(\"Sunday\\nMonday\\nTuesday\\nWednesday\\nThursday\\nFriday\\nSaturday\")\n"
      ],
      "metadata": {
        "colab": {
          "base_uri": "https://localhost:8080/"
        },
        "id": "hPvhFDqL6kIK",
        "outputId": "18d219ab-900c-43ab-fc9b-31cbf3b4201a"
      },
      "execution_count": null,
      "outputs": [
        {
          "output_type": "stream",
          "name": "stdout",
          "text": [
            "Sunday\n",
            "Monday\n",
            "Tuesday\n",
            "Wednesday\n",
            "Thursday\n",
            "Friday\n",
            "Saturday\n"
          ]
        }
      ]
    },
    {
      "cell_type": "markdown",
      "source": [
        "\n",
        "Precision Width and Field Width:"
      ],
      "metadata": {
        "id": "hbKzXSdJ6zXN"
      }
    },
    {
      "cell_type": "code",
      "source": [
        "print(\"%.2f\" % 5.1284567890)\n"
      ],
      "metadata": {
        "colab": {
          "base_uri": "https://localhost:8080/"
        },
        "id": "BKpBw3qP62k5",
        "outputId": "bfbfcdbc-6fe4-4bcf-d3af-fb2d39634baf"
      },
      "execution_count": null,
      "outputs": [
        {
          "output_type": "stream",
          "name": "stdout",
          "text": [
            "5.13\n"
          ]
        }
      ]
    },
    {
      "cell_type": "markdown",
      "source": [
        "Notice upto 5 decimal points are returned"
      ],
      "metadata": {
        "id": "QboV9x4y69fQ"
      }
    },
    {
      "cell_type": "code",
      "source": [
        "print(\"%.2f\" % 5.1234567890)\n"
      ],
      "metadata": {
        "colab": {
          "base_uri": "https://localhost:8080/"
        },
        "id": "PtKv4Kc36-Bu",
        "outputId": "2d04e8c6-ab55-4687-f693-cc4033ea856b"
      },
      "execution_count": null,
      "outputs": [
        {
          "output_type": "stream",
          "name": "stdout",
          "text": [
            "5.12\n"
          ]
        }
      ]
    },
    {
      "cell_type": "markdown",
      "source": [
        "# Python input() Function"
      ],
      "metadata": {
        "id": "b6XOxe5W7ATw"
      }
    },
    {
      "cell_type": "code",
      "source": [
        "input()"
      ],
      "metadata": {
        "colab": {
          "base_uri": "https://localhost:8080/",
          "height": 53
        },
        "id": "bV9Du47YKXYn",
        "outputId": "47a70a42-a0a8-48c6-f9ae-618351cb05fe"
      },
      "execution_count": null,
      "outputs": [
        {
          "name": "stdout",
          "output_type": "stream",
          "text": [
            "10\n"
          ]
        },
        {
          "output_type": "execute_result",
          "data": {
            "text/plain": [
              "'10'"
            ],
            "application/vnd.google.colaboratory.intrinsic+json": {
              "type": "string"
            }
          },
          "metadata": {},
          "execution_count": 43
        }
      ]
    },
    {
      "cell_type": "code",
      "source": [
        "x = input()\n",
        "print(x)"
      ],
      "metadata": {
        "colab": {
          "base_uri": "https://localhost:8080/"
        },
        "id": "1dpHvrsKLAeQ",
        "outputId": "28b7ea42-0e3b-47a1-f538-93802cf3cf5f"
      },
      "execution_count": null,
      "outputs": [
        {
          "output_type": "stream",
          "name": "stdout",
          "text": [
            "10\n",
            "10\n"
          ]
        }
      ]
    },
    {
      "cell_type": "code",
      "source": [
        "print(x)"
      ],
      "metadata": {
        "colab": {
          "base_uri": "https://localhost:8080/"
        },
        "id": "DiaLkOhTLEz8",
        "outputId": "084fba88-7143-482b-9d05-f469c5fbce9d"
      },
      "execution_count": null,
      "outputs": [
        {
          "output_type": "stream",
          "name": "stdout",
          "text": [
            "100\n"
          ]
        }
      ]
    },
    {
      "cell_type": "code",
      "source": [
        "x = input('Enter age: ')\n",
        "print(x)"
      ],
      "metadata": {
        "colab": {
          "base_uri": "https://localhost:8080/"
        },
        "id": "KABBshK6KSUo",
        "outputId": "8b485781-c4f2-4b84-b37f-97e636f44a09"
      },
      "execution_count": null,
      "outputs": [
        {
          "output_type": "stream",
          "name": "stdout",
          "text": [
            "Enter age: 20\n",
            "20\n"
          ]
        }
      ]
    },
    {
      "cell_type": "code",
      "source": [
        "print('Enter your name:')\n",
        "x = input()\n",
        "print('Hello, ' + x)"
      ],
      "metadata": {
        "colab": {
          "base_uri": "https://localhost:8080/"
        },
        "id": "MJMKrdoQ7PEv",
        "outputId": "fcfa42ff-d4b9-45ff-b776-077462263338"
      },
      "execution_count": null,
      "outputs": [
        {
          "output_type": "stream",
          "name": "stdout",
          "text": [
            "Enter your name:\n",
            "pt\n",
            "Hello, pt\n"
          ]
        }
      ]
    },
    {
      "cell_type": "markdown",
      "source": [
        "Use the prompt parameter to write a message before the input:"
      ],
      "metadata": {
        "id": "gmkzM_wz7Xgu"
      }
    },
    {
      "cell_type": "code",
      "source": [
        "x = input('Enter your name:')\n",
        "print('Hello, ' + x)"
      ],
      "metadata": {
        "colab": {
          "base_uri": "https://localhost:8080/"
        },
        "id": "FqtqHrtj7Y__",
        "outputId": "123b81fe-7694-4dbd-f3ce-7d54f4c9168a"
      },
      "execution_count": null,
      "outputs": [
        {
          "output_type": "stream",
          "name": "stdout",
          "text": [
            "Enter your name:pt\n",
            "Hello, pt\n"
          ]
        }
      ]
    },
    {
      "cell_type": "markdown",
      "source": [
        "# Python Variable"
      ],
      "metadata": {
        "id": "NE1Xj5Gd7lJF"
      }
    },
    {
      "cell_type": "markdown",
      "source": [
        "Variable and Value"
      ],
      "metadata": {
        "id": "ul2BGsi97oy1"
      }
    },
    {
      "cell_type": "markdown",
      "source": [
        "A variable is a memory location where a programmer can store a value. Example : roll_no, amount, name etc.\n",
        "\n",
        "Value is either string, numeric etc. Example : \"Sara\", 120, 25.36\n",
        "\n",
        "Variables are created when first assigned.\n",
        "\n",
        "Variables must be assigned before being referenced.\n",
        "\n",
        "The value stored in a variable can be accessed or updated later.\n",
        "\n",
        "\n",
        "The type (string, int, float etc.) of the variable is determined by Python\n",
        "\n",
        "\n",
        "\n",
        "\n",
        "\n"
      ],
      "metadata": {
        "id": "KhFLhNko7vvM"
      }
    },
    {
      "cell_type": "markdown",
      "source": [
        "# Python Variable Name Rules"
      ],
      "metadata": {
        "id": "tRV-rYma78tL"
      }
    },
    {
      "cell_type": "markdown",
      "source": [
        "Must begin with a letter (a - z, A - B) or underscore (_)\n",
        "\n",
        "Other characters can be letters, numbers or _\n",
        "\n",
        "Case Sensitive\n",
        "\n",
        "Can be any (reasonable) length\n",
        "\n",
        "There are some reserved words which you cannot use as a variable name because Python uses them for other things."
      ],
      "metadata": {
        "id": "41tn9JS58A5r"
      }
    },
    {
      "cell_type": "markdown",
      "source": [
        "# Python Assignment Statements"
      ],
      "metadata": {
        "id": "3vW1SDkZ8OMK"
      }
    },
    {
      "cell_type": "markdown",
      "source": [
        "Where the equal sign (=) is used to assign value (right side) to a variable name (left side). See the following statements :"
      ],
      "metadata": {
        "id": "14Hp7L268QRJ"
      }
    },
    {
      "cell_type": "code",
      "source": [
        "Item_name = \"Computer\" #A String\n",
        "Item_qty = 10 #An Integer\n",
        "Item_value = 1000.23 #A floating point\n",
        "print(Item_name)\n",
        "\n",
        "print(Item_qty)\n",
        "\n",
        "print(Item_value)\n",
        "\n",
        "\n"
      ],
      "metadata": {
        "colab": {
          "base_uri": "https://localhost:8080/"
        },
        "id": "emRy_maH7oCY",
        "outputId": "20693d55-74ee-42ff-c323-8eeff2ba0292"
      },
      "execution_count": null,
      "outputs": [
        {
          "output_type": "stream",
          "name": "stdout",
          "text": [
            "Computer\n",
            "10\n",
            "1000.23\n"
          ]
        }
      ]
    },
    {
      "cell_type": "markdown",
      "source": [
        "One thing is important, assignment statement read right to left only."
      ],
      "metadata": {
        "id": "VK6aw3fz81Hu"
      }
    },
    {
      "cell_type": "code",
      "source": [
        "a = 12\n",
        "12 = a"
      ],
      "metadata": {
        "colab": {
          "base_uri": "https://localhost:8080/",
          "height": 110
        },
        "id": "9iiXzeRd81x3",
        "outputId": "2b3cf82e-ce19-4279-bec2-dfa5662eefdc"
      },
      "execution_count": null,
      "outputs": [
        {
          "output_type": "error",
          "ename": "SyntaxError",
          "evalue": "cannot assign to literal here. Maybe you meant '==' instead of '='? (<ipython-input-42-da0248e6704b>, line 2)",
          "traceback": [
            "\u001b[0;36m  File \u001b[0;32m\"<ipython-input-42-da0248e6704b>\"\u001b[0;36m, line \u001b[0;32m2\u001b[0m\n\u001b[0;31m    12 = a\u001b[0m\n\u001b[0m    ^\u001b[0m\n\u001b[0;31mSyntaxError\u001b[0m\u001b[0;31m:\u001b[0m cannot assign to literal here. Maybe you meant '==' instead of '='?\n"
          ]
        }
      ]
    },
    {
      "cell_type": "markdown",
      "source": [
        "Multiple Assignment"
      ],
      "metadata": {
        "id": "f5XPKRwh89S9"
      }
    },
    {
      "cell_type": "code",
      "source": [
        "x = y = z = 1\n",
        "print(x)\n",
        "\n",
        "print(y)\n",
        "\n",
        "print(z)\n",
        "\n",
        "\n"
      ],
      "metadata": {
        "colab": {
          "base_uri": "https://localhost:8080/"
        },
        "id": "jwxvfz6e86e4",
        "outputId": "63f8cee1-239a-4ce8-c2c3-1a062603b7c4"
      },
      "execution_count": null,
      "outputs": [
        {
          "output_type": "stream",
          "name": "stdout",
          "text": [
            "1\n",
            "1\n",
            "1\n"
          ]
        }
      ]
    },
    {
      "cell_type": "markdown",
      "source": [
        "x, y, z = 1, 2, \"abcd\"\n",
        "\n",
        "In this example x, y and z simultaneously get the new values 1, 2 and \"abcd\"."
      ],
      "metadata": {
        "id": "2GrNh3KU9IXJ"
      }
    },
    {
      "cell_type": "code",
      "source": [
        "x,y,z = 1,2,\"abcd\"\n",
        "print(x)\n",
        "\n",
        "print(y)\n",
        "\n",
        "print(z)\n",
        "\n"
      ],
      "metadata": {
        "colab": {
          "base_uri": "https://localhost:8080/"
        },
        "id": "oEbLQhqk9I_d",
        "outputId": "21d1617a-405b-4603-ff48-2850ef75ab8e"
      },
      "execution_count": null,
      "outputs": [
        {
          "output_type": "stream",
          "name": "stdout",
          "text": [
            "1\n",
            "2\n",
            "abcd\n"
          ]
        }
      ]
    },
    {
      "cell_type": "markdown",
      "source": [
        "You can reuse variable names by simply assigning a new value to them :"
      ],
      "metadata": {
        "id": "E-URrQcb9X6r"
      }
    },
    {
      "cell_type": "code",
      "source": [
        "x = 100\n",
        "print(x)\n",
        "\n",
        "x = \"Python\"\n",
        "print(x)\n",
        "\n"
      ],
      "metadata": {
        "colab": {
          "base_uri": "https://localhost:8080/"
        },
        "id": "yM6PkGEg9TS2",
        "outputId": "8dc97ae2-612b-4540-b904-5be8f43bd2a1"
      },
      "execution_count": null,
      "outputs": [
        {
          "output_type": "stream",
          "name": "stdout",
          "text": [
            "100\n",
            "Python\n"
          ]
        }
      ]
    },
    {
      "cell_type": "markdown",
      "source": [
        "Swap variables"
      ],
      "metadata": {
        "id": "G5r-0hUF9k_O"
      }
    },
    {
      "cell_type": "code",
      "source": [
        "x = 10\n",
        "y = 20\n",
        "print(x)\n",
        "\n",
        "print(y)\n",
        "\n",
        "x, y = y, x\n",
        "print(x)\n",
        "\n",
        "print(y)\n"
      ],
      "metadata": {
        "colab": {
          "base_uri": "https://localhost:8080/"
        },
        "id": "r12RIvd_9lp_",
        "outputId": "1e1305a7-5b46-4b58-c601-5a895909bb67"
      },
      "execution_count": null,
      "outputs": [
        {
          "output_type": "stream",
          "name": "stdout",
          "text": [
            "10\n",
            "20\n",
            "20\n",
            "10\n"
          ]
        }
      ]
    },
    {
      "cell_type": "markdown",
      "source": [
        "Local and global variables in Python"
      ],
      "metadata": {
        "id": "PGJmOKbj9xBl"
      }
    },
    {
      "cell_type": "code",
      "source": [
        "var1 = \"Python\"\n",
        "def func1():\n",
        "    var1 = \"PHP\"\n",
        "    print(\"In side func1() var1 = \",var1)\n",
        "\n",
        "def func2():\n",
        "    print(\"In side func2() var1 = \",var1)\n",
        "func1()\n",
        "func2()\n"
      ],
      "metadata": {
        "colab": {
          "base_uri": "https://localhost:8080/"
        },
        "id": "SNt_hfh19x1f",
        "outputId": "96045d17-f59a-406c-93ec-1c7d18847db9"
      },
      "execution_count": null,
      "outputs": [
        {
          "output_type": "stream",
          "name": "stdout",
          "text": [
            "In side func1() var1 =  PHP\n",
            "In side func2() var1 =  Python\n"
          ]
        }
      ]
    },
    {
      "cell_type": "markdown",
      "source": [
        "You can use a global variable in other functions by declaring it as global keyword :"
      ],
      "metadata": {
        "id": "tc_5MWF099Ux"
      }
    },
    {
      "cell_type": "code",
      "source": [
        "def func1():\n",
        "    global var1\n",
        "    var1 = \"PHP\"\n",
        "    print(\"In side func1() var1 = \",var1)\n",
        "\n",
        "def func2():\n",
        "    print(\"In side func2() var1 = \",var1)\n",
        "func1()\n",
        "func2()\n"
      ],
      "metadata": {
        "colab": {
          "base_uri": "https://localhost:8080/"
        },
        "id": "jjp7lLIs993w",
        "outputId": "c478a8e7-206f-40ad-a4e4-86fedf3dae86"
      },
      "execution_count": null,
      "outputs": [
        {
          "output_type": "stream",
          "name": "stdout",
          "text": [
            "In side func1() var1 =  PHP\n",
            "In side func2() var1 =  PHP\n"
          ]
        }
      ]
    },
    {
      "cell_type": "markdown",
      "source": [
        "# Python Data Type"
      ],
      "metadata": {
        "id": "ZFDzugUS-B4m"
      }
    },
    {
      "cell_type": "markdown",
      "source": [
        "Floats and Integers"
      ],
      "metadata": {
        "id": "FuNlDTY3-Pr6"
      }
    },
    {
      "cell_type": "code",
      "source": [
        "x = 8\n",
        "y = 7\n",
        "print(x+y)\n",
        "print(x-y)\n",
        "print(x/y)\n",
        "print(x*y)\n"
      ],
      "metadata": {
        "colab": {
          "base_uri": "https://localhost:8080/"
        },
        "id": "RLGs8cvU-EdZ",
        "outputId": "6648adc1-fe22-4bef-f201-591ccdb468ca"
      },
      "execution_count": null,
      "outputs": [
        {
          "output_type": "stream",
          "name": "stdout",
          "text": [
            "15\n",
            "1\n",
            "1.1428571428571428\n",
            "56\n"
          ]
        }
      ]
    },
    {
      "cell_type": "markdown",
      "source": [
        "Exponent"
      ],
      "metadata": {
        "id": "Q4aY7rv8-hcl"
      }
    },
    {
      "cell_type": "code",
      "source": [
        "4**3"
      ],
      "metadata": {
        "colab": {
          "base_uri": "https://localhost:8080/"
        },
        "id": "28pphQ2G-h_8",
        "outputId": "18362d29-ef96-4583-ee26-2abca9101b12"
      },
      "execution_count": null,
      "outputs": [
        {
          "output_type": "execute_result",
          "data": {
            "text/plain": [
              "64"
            ]
          },
          "metadata": {},
          "execution_count": 50
        }
      ]
    },
    {
      "cell_type": "code",
      "source": [
        "3**4"
      ],
      "metadata": {
        "colab": {
          "base_uri": "https://localhost:8080/"
        },
        "id": "o3o9sl9z-klj",
        "outputId": "977b941a-d1f1-406d-fd1d-5d330b256843"
      },
      "execution_count": null,
      "outputs": [
        {
          "output_type": "execute_result",
          "data": {
            "text/plain": [
              "81"
            ]
          },
          "metadata": {},
          "execution_count": 51
        }
      ]
    },
    {
      "cell_type": "markdown",
      "source": [
        "inter division"
      ],
      "metadata": {
        "id": "Egr18Lva-nbV"
      }
    },
    {
      "cell_type": "code",
      "source": [
        "print(12/3)\n",
        "print(64//4)\n",
        "print(15//3)"
      ],
      "metadata": {
        "colab": {
          "base_uri": "https://localhost:8080/"
        },
        "id": "Tja1Qhvx-pYg",
        "outputId": "169de9fb-779b-429e-edca-66b2c4665922"
      },
      "execution_count": null,
      "outputs": [
        {
          "output_type": "stream",
          "name": "stdout",
          "text": [
            "4.0\n",
            "16\n",
            "5\n"
          ]
        }
      ]
    },
    {
      "cell_type": "markdown",
      "source": [
        "Remainder"
      ],
      "metadata": {
        "id": "-WXCQunu-zCr"
      }
    },
    {
      "cell_type": "code",
      "source": [
        "15 % 4"
      ],
      "metadata": {
        "colab": {
          "base_uri": "https://localhost:8080/"
        },
        "id": "uQ0rFSas-0qm",
        "outputId": "4e3dbc55-3d8d-44f5-9530-2946e6783f70"
      },
      "execution_count": null,
      "outputs": [
        {
          "output_type": "execute_result",
          "data": {
            "text/plain": [
              "3"
            ]
          },
          "metadata": {},
          "execution_count": 53
        }
      ]
    },
    {
      "cell_type": "markdown",
      "source": [
        "Self-asignment"
      ],
      "metadata": {
        "id": "DQM-JOie-8JP"
      }
    },
    {
      "cell_type": "code",
      "source": [
        "count = 0\n",
        "#count = count + 1\n",
        "count += 1\n",
        "print(count)\n",
        "count -= 1\n",
        "print(count)"
      ],
      "metadata": {
        "colab": {
          "base_uri": "https://localhost:8080/"
        },
        "id": "yGgaiV49--Hg",
        "outputId": "c3bcb9eb-6217-4615-f2af-7f1c50aeb917"
      },
      "execution_count": null,
      "outputs": [
        {
          "output_type": "stream",
          "name": "stdout",
          "text": [
            "1\n",
            "0\n"
          ]
        }
      ]
    },
    {
      "cell_type": "code",
      "source": [
        "count =2\n",
        "count *=4\n",
        "count\n"
      ],
      "metadata": {
        "colab": {
          "base_uri": "https://localhost:8080/"
        },
        "id": "j2liRA6P_I9H",
        "outputId": "f0136d6c-3d03-474b-f9b7-09b03700970f"
      },
      "execution_count": null,
      "outputs": [
        {
          "output_type": "execute_result",
          "data": {
            "text/plain": [
              "8"
            ]
          },
          "metadata": {},
          "execution_count": 55
        }
      ]
    },
    {
      "cell_type": "markdown",
      "source": [
        "Order of operations"
      ],
      "metadata": {
        "id": "oH0cjJyZ_Qjq"
      }
    },
    {
      "cell_type": "code",
      "source": [
        "(3+12) / 3"
      ],
      "metadata": {
        "colab": {
          "base_uri": "https://localhost:8080/"
        },
        "id": "86jhaBmz_RMO",
        "outputId": "88ec2571-7f94-47c2-a806-a0a6038b6174"
      },
      "execution_count": null,
      "outputs": [
        {
          "output_type": "execute_result",
          "data": {
            "text/plain": [
              "5.0"
            ]
          },
          "metadata": {},
          "execution_count": 56
        }
      ]
    },
    {
      "cell_type": "code",
      "source": [
        "15 / (3 + 2)"
      ],
      "metadata": {
        "colab": {
          "base_uri": "https://localhost:8080/"
        },
        "id": "39myd_N2_S4Y",
        "outputId": "581b4d5b-df44-459c-ed4a-2361ec909369"
      },
      "execution_count": null,
      "outputs": [
        {
          "output_type": "execute_result",
          "data": {
            "text/plain": [
              "3.0"
            ]
          },
          "metadata": {},
          "execution_count": 57
        }
      ]
    },
    {
      "cell_type": "markdown",
      "source": [
        "Boolean"
      ],
      "metadata": {
        "id": "fyOG_gkw_Y46"
      }
    },
    {
      "cell_type": "code",
      "source": [
        "x = True\n",
        "type(x)"
      ],
      "metadata": {
        "colab": {
          "base_uri": "https://localhost:8080/"
        },
        "id": "wJhBrlVI_V_9",
        "outputId": "64b43130-fbce-43b2-caab-c8f5cfcde86a"
      },
      "execution_count": null,
      "outputs": [
        {
          "output_type": "execute_result",
          "data": {
            "text/plain": [
              "bool"
            ]
          },
          "metadata": {},
          "execution_count": 58
        }
      ]
    },
    {
      "cell_type": "markdown",
      "source": [
        "String indices and accessing string elements"
      ],
      "metadata": {
        "id": "ACEay0w3_skc"
      }
    },
    {
      "cell_type": "markdown",
      "source": [
        "![2.PNG](data:image/png;base64,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)"
      ],
      "metadata": {
        "id": "c7YAhHY0_17Q"
      }
    },
    {
      "cell_type": "code",
      "source": [
        "string1=\"Python Tutorial\"\n",
        "print(string1[0])\n"
      ],
      "metadata": {
        "colab": {
          "base_uri": "https://localhost:8080/"
        },
        "id": "kUHNDBNe_hwT",
        "outputId": "3c65a3bc-ab04-4d90-d091-834f0036ddbc"
      },
      "execution_count": null,
      "outputs": [
        {
          "output_type": "stream",
          "name": "stdout",
          "text": [
            "P\n"
          ]
        }
      ]
    },
    {
      "cell_type": "code",
      "source": [
        "print(string1[-15])"
      ],
      "metadata": {
        "colab": {
          "base_uri": "https://localhost:8080/"
        },
        "id": "sAAIfVUZAABU",
        "outputId": "f68dea2c-e139-461c-e75f-138ad46c0794"
      },
      "execution_count": null,
      "outputs": [
        {
          "output_type": "stream",
          "name": "stdout",
          "text": [
            "P\n"
          ]
        }
      ]
    },
    {
      "cell_type": "code",
      "source": [
        "print(string1[14])"
      ],
      "metadata": {
        "colab": {
          "base_uri": "https://localhost:8080/"
        },
        "id": "x9bhhRdaAD8P",
        "outputId": "5c1d7cf4-613b-47ff-b463-2e7d042a5ee9"
      },
      "execution_count": null,
      "outputs": [
        {
          "output_type": "stream",
          "name": "stdout",
          "text": [
            "l\n"
          ]
        }
      ]
    },
    {
      "cell_type": "markdown",
      "source": [
        "'in' operator in Strings"
      ],
      "metadata": {
        "id": "xCVavfA7AMLL"
      }
    },
    {
      "cell_type": "code",
      "source": [
        "string1=\"Python Tutorial\"\n",
        "print('Tutorial1' in string1)"
      ],
      "metadata": {
        "colab": {
          "base_uri": "https://localhost:8080/"
        },
        "id": "8L81PK-EAHk-",
        "outputId": "0b08c96a-819f-40d2-ba7c-c34dbda066e3"
      },
      "execution_count": null,
      "outputs": [
        {
          "output_type": "stream",
          "name": "stdout",
          "text": [
            "False\n"
          ]
        }
      ]
    },
    {
      "cell_type": "code",
      "source": [
        "string1=\"Python Tutorial\"\n",
        "print('p' in string1)"
      ],
      "metadata": {
        "colab": {
          "base_uri": "https://localhost:8080/"
        },
        "id": "RpkW5W5mATXr",
        "outputId": "8159e1f0-4a3a-41e9-9cbe-6f6a18b18684"
      },
      "execution_count": null,
      "outputs": [
        {
          "output_type": "stream",
          "name": "stdout",
          "text": [
            "False\n"
          ]
        }
      ]
    },
    {
      "cell_type": "markdown",
      "source": [
        "Python Operators"
      ],
      "metadata": {
        "id": "kbYV70b6Aas7"
      }
    },
    {
      "cell_type": "markdown",
      "source": [
        "Python Arithmetic Operators"
      ],
      "metadata": {
        "id": "bITv7F8GAm8K"
      }
    },
    {
      "cell_type": "markdown",
      "source": [
        "![3.PNG](data:image/png;base64,iVBORw0KGgoAAAANSUhEUgAABAwAAAG9CAYAAACRTeQBAAAAAXNSR0IArs4c6QAAAARnQU1BAACxjwv8YQUAAAAJcEhZcwAADsMAAA7DAcdvqGQAAJfYSURBVHhe7f1NaxvJGvj9n7fiN9FL48XPZBGvrF3ELARZGLIwBIIIBDNwEIbBZGHEQBADQRz+gwkckGFAhgEtDogbgnND8CwG53czOIuAFwEtAloErn9Vd5XUD9VSlyw71fb3A81MZEn9UA+q6+ru6n8JAAAAAABADgkDAAAAAABQQMIAAAAAAAAUkDAAAAAAAAAFJAwAAAAAAEABCQMAAAAAAFBAwgAAAAAAABSQMAAAAAAAAAUkDAAAAAAAQAEJAwAAAAAAUEDCAAAAAAAAFJAwAAAAAAAABSQMAAAAAABAAQkDAAAAAABQQMIAAAAAAAAUkDAAAAAAAAAFJAwAAAAAAEABCQMAAAAAAFDwr//7f/+vsLCwsLCwsLCwsLCwsLCwsKQXrjAIlC4coCrqS9goHwAAANQRCYNAEWDAB/UlbJQPAAAA6oiEQaAIMOCD+hI2ygcAAAB1RMIgUAQY8EF9CRvlAwAAgDoiYRAoAgz4oL6EjfIBAABAHZEwCBQBBnxQX8JG+QAAAKCOSBgEigADPqgvYaN8AAAAUEckDAJFgAEf1JewUT4AAACoIxIGgSLAgA/qS9goHwAAANQRCYNAEWDAB/UlbJQPAAAA6oiEQaAIMOCD+hI2ygcAAAB1RMIgUAQY8EF9CRvlAwAAgDoiYRAoAgz4oL6EjfIBAABAHZEwCBQBBnxQX8JG+QAAAKCOSBgEigADPqgvYaN8AAAAUEckDAJFgAEf1JewUT4AAACoI/+EwYeubGxsFJa902vzhrq7lsGzrpybf/0o3gHGl4HszcrDvf3nx/bvezL4Yl7EvXCz+rJ46X4wn7mHrk/37mQ//crnXLqp41+2hN3npvbh2UD1qjnqd+T+/GYAAADcXx4JgyqD2JoHorMgqu4JA7UcF/eAhMH9RcJgNXVOGMSLKxgPQnnCwPZDJAwAAADCVzFhoM+6m8Hf0uXHB9urSe/jPUgYOJICJAzuLxIGq6l9wkAtYZZPScIgdYUaCQMAAIDwVUoYpAfVzoFehbPb4btvCQO15MqBhMH9daP6Usv2uh7BJwxKriCYt+VQA28SBgAAAPdBhYRB9uqC8kF1+qxYKiDNDRCXJh+swlwJjiA3F/S4B9HuqyMy6y0925pLHFQIymOZfT6vePyy1nXGOL2+RQmD9LGbLYV9m5dxfPzyZTR7f7ouqKXssukqZYxK7iRhkCmvdNtIl3euzRTK2PGedBvV25Kvy7P6k2/LC74n/luuHhberz6xKGGwxvq57oTB4vJz9HllZVyh34iljkW+z3b3K8V9cPYxain9DQAAAMAPtzxhkB5Qlg1eDefg2xkw5JbcYDafVEgvmYFsyWB3PnDNBwy5xa639HvmAcaibSoEIqX7XAxYytwoAHy25ywz98DenVCZLZkyX3I89ZJed+b1bN2pXMao5E4SBko66LOBXvq1dNktbjMedVAvZfUq06YqfE8u6Hf2Wcq66+e6EwauckgsaKP571rSN2f2k4QBAADAg+SVMFg6sHMNKnOD0vl3ZAe2s8Gpc335M4dGLtDPD+Tng/6SgWxpsJEL7DPBeGrQnd63dNCV2edsgFLVTQPAxYFdaptS2zo/fuljUXbsUuWTK4f5MSr5Hp8yRiU3qi+LlkLAmms/ZW0g/b7U6+lA3F326fdn61u6XqTrt7veZt+fSQCk9smZMLiF+rlywmDpku1f5scltY2pMprvT/q9ZW18+XdoS7+npM/Mfw8AAADCszxh4DPAc7039Vo2oFAcf3MOeLXUIN41sC8GNmXKBv7lAYF7QJxw/m3RPld04zPGmYAw2Z9F+5G3NAgoPXbZ755/z7zc5q9VKGNUcncJAyVdv2dLrizLuPoIz/qjLU885Ou4+2+uhMFt1M/bShhktiO1ffm+erZPs/JMH48V+3ZjfrxK+goSBgAAALXllTBYGvy6BoMLB4j5QWV2EFu2zL4nHfRUCMwzZxnjpSzoTb9eMvC1vPe5mhsnDJR8UOUe2Oeky7vw3rJjUXbsstuQBDeeZYxK7jRh4CjD5QF0MQiel3F5/Smts842Vv49mis5cFf1c70Jg5L2W2i7rmV+XIr9oVmq9nMGCQMAAID7a61zGMwHjqkAYuEAMT+orDZYnyUHliYMln1fOqgoCzbKgmTDtX9rGBSvI2GQ2XY1mN+b7V824EiXW3H5MQmDKgkgzK2nvnhI1fFVA9h52yivP6EmDHyP2coJg1Q7ywb4jmO+5Hgni0fbT+/jgj6NhAEAAMD9tTxhkBtAzxIBeZkzlqmB48IBYn5QuXjAX7Ak6MkOhu02la2j7PWyINlw7d8aBsVrCwBT2zJf5uWTP8toy9crCFhQbosDsgpljEruNmGQqgd2ybeNTH+gFrsOZ9sorxM/NmGwvvq5joSBlu3Tctt3k37H2U+k+vsF303CAAAA4P6qkDDIDqqdA738YLMsYM0HFem/mc+UBgguC4Me3+B2haBFcf5tDYPi9QWA6f2yi91W331eR8Jg8fHEau4yYTAvv+ySruuuco8528YKbW/p9+TWm/nb/Lvuqn6uK2GQ+Zte0mV3oyTQXPqYzI6to69OuI9r6T6soW8EAADA3amUMMgPxBcv2QF/ZqCpFvfgPjXQTL8/NdB0DuKrJgxS25RNfqS3Nb09C/ahZPCbWf8aBsVrDQBzZTA/hhXKoEoQsODYOQPHkuNJImF1N6ovy5aSuh2XXeZ75uXmDDrT9Sfzenn9uUnCIPNd6e1O7c9d1c/1JQyU9PapZZ4Yye7/7HVn3+DuH7X5fpZ8R+r92f60Ql/hLDcAAACEqmLCQMsPxl2LYyCdG9w6l1yAmx6wFpb0excFycrC74mX7PYW3182MM4v2QH3OgbF6z5jnN23+X4v3q9kmQcka0oYKJXLGJXcTcIgHWSW1CFbL6p8/+x7byth4Fqy33NX9XOtCQMls33p9yw87uXH0Llk9tP32Jbsg2P7SBwAAACEyyNhYJQMSEsHffmBfW6QWuVzdkkP6GPpbSkZxOcH/vH6Up/Lrj8/KM4NsDMBU7I4t98ZzPhZd8IgW27lQdP886l9nX1fWSDjnzCIVSljVHIXCYN0W1rUbmZlWFhHUjfm32PrSnn9mb+3PNidb0v+e/LtOfvd2l3Vz3UnDDLvUcvifkwtFb/HLu5+K/+9SZm4y2jBPuSPa0nfDQAAgB/PP2Hgaw3B80PkHQDiQaO+aOWJhx+N8gEAAEAdkTAIFAEGfFBfNBIGAAAAwDqRMAgUAQZ8UF80EgYAAADAOpEwCBQBBnxQXzQSBgAAAMA63X7CACshwIAP6kvYKB8AAADUEQmDQBFgwAf1JWyUDwAAAOqIhEGgCDDgg/oSNsoHAAAAdUTCIFAEGPBBfQkb5QMAAIA6ImEQKAIM+KC+hI3yAQAAQB2RMAgUAQZ8UF/CRvkAAACgjkgYBIoAAz6oL2GjfAAAAFBHJAwCRYABH9SXsFE+AAAAqCMSBoEiwIAP6kvYKB8AAADUEQmDQBFgwAf1JWyUDwAAAOqIhEGgCDDgg/oSNsoHAAAAdUTCIFAEGPBBfQkb5QMAAIA6ImEQKAIM+KC+hI3yAQAAQB2RMAgUAQZ8UF/CRvkAAACgjv6lB7IsLCwsLCwsLCwsLCwsLCws6YUrDAKlCweoivoSNsoHAAAAdUTCIFAEGPBBfQkb5QMAAIA6ImEQKAIM+KC+hI3yAQAAQB2RMAgUAQZ8UF/CRvkAAACgjkgYBIoAAz6oL2GjfAAAAFBHJAwCRYABH9SXsFE+AAAAqCMSBoEiwIAP6kvYKB8AAADUEQmDQBFgwAf1JWyUDwAAAOqIhEGgCDDgg/oSNsoHAAAAdUTCIFAEGPBBfQkb5QMAAIA6ImEQKAIM+KC+hI3yAQAAQB2RMAgUAQZ8UF/CRvkAAACgjkgYBIoAAz6oL2GjfAAAAFBHJAwCRYABH9SXsFE+AAAAqCMSBoEiwIAP6kvYKB8AAADUEQmDQBFgwAf1JWyUDwAAAOqIhEGgbhpgTMdHEm1syEZ0JOOpedHD9emebGzsyeCLeWGB4nuvZfBMrXujK+fmldj1WLrvLsw/tJL3wRsBadhWKp/v1zJ+eyB7u5uqjeh2Esn2kz05eDuW6+/mPXX3/UqGhy3ZjvT+bcjmm3T/UG/nx/RtAACg/kgYBOpmAeBUxodqsPp4R3bUILx9NjGvV7f+hMG5dHXQc5wePpMwWBcSBmHzLp8vIznY1W0jku2nB3L0pie9N0dy8HQ7SQTuHsn4q3lvjV2+bcT72Pp1KOPxWC6+rJDdDBQJAwAAcB+QMAjUjQLAr0Npq6Ci+ftAeo/VoPXFUHxTBjdLGLi4EgZYFxIGYfMrn6mMf4lUm2pI90MxgJ7870gaqi1Fr0be7TosExm90kH10b0MqkkYAACA+8A/YfBlIHtqsLp3em1ewG24SQA4OWurgeqO9P4SufhtR/1/S07+MX+siIRBvdxVwoAgaDV+5WPayrOBuHvZiQxf6HKo1j7Ddb+vMKKtAACA+4CEQaBWDwCv5KSlBqqRGaj+1YtvS9gpvTd4KpdnXWmb+6Q3Wx0ZfJqWJAGqvjcXCHzoxu9PL0n9KQsYpnI16kn7ibn8emNTGi+6Mvw7dz41/l613s8TuTztSOuRPiu7IdGjlnROL2t+9tWPX30xdWSjESeV0q5O9+Nj3vr9yryStSgISurBhnT+57isfDKSA/W38np4v62UMPipL5fmlbyr/6pjvdWQ/kfzglJeNsVkXfzeZwO5+nou/Vd2DgHdznpyrm91+H4lo+O2NLb065Fs73dl/Dn57HIV2q+jTygPrvUtVrptR3LwZ7ZVT9X3xFdbHI7Vuxab/D2U7oum2Se9qO16diD99zftVyZy/vbAvE8fq+QYVkkY0GYAAEDoSBgEauWEwT8n0soMMi+S2xJsAiFjKhe/6nuIN9SAvi/D8VhG7zrSjNTA+DCfBPB5by4R8PVSxuN+fJvExst+6l5lV8JgqgbayX3NzZc9GYzGMj5Tn32SXKJ98GcqkI0H9k3Zf96Q6Elb+mfqvaOBdJ8lCY3Gbw9noO1dX0w92WidyOyIfk7adhxImpfyFgZB5laYDUfwlr7q5SHyKx97S8KGbD7ryfCvK5lWmOTQO2Hw077s7+p2lrTn4Zs92YzrxJEcPY9m7Xz4th0H5Ru7PdWbLFOx/cZ9wlCOftLbrNquWs94vCDJ920sHZ3UiDoy/mZfO5cj3bc9PpJz+1qJyegg3rfoaUdOdD+h90v1X3tx8iCXOPPqV65lqI6V3t/WLwMZ2eOotrPzs/7ukrZi0WYAAEDgSBgEatWEwdXvzcIgM3ktkqP84xJscuH1eXawagPHdBLA573ORIDrloTi++zTHRrqfZn1fL+UfnzlxIGM7GRv9izlrvp8JmAwSZLHVQKc+2GV+nL1eys+fklbvkrKItqXwYIzyYvPmtpL5VVQlyk88/oDKo887/JRwXA3DrL18dTLpjR+akvn3VAuPufaseGdMFCvNTJnr81kqer1/Bl7V7/i4tV+nf1Euen/OvF378TfPZXz1/p2K/c8D1mqbr9syKar/n3qS1Pv76+pv3j0K3Z/9/6bTbFN3x/FV3Yt3zfaDAAACFuFhIEZbC5Zuh/M27EWqyUMSgJlFezrQXF+8sMkCGg65jewgcM8CeDz3tUTBnYStPzgOaEDBl3X9v8wySozsG86Lp8/f51f//22Wn2xt68cSO+Nvkokkv3T7LG0l0wvXFL32k/+PIhfy1xibc6itt6VXbdw/61WPhO5GvXnT0ZILdGT5HagNP+EQbE92/I+em9esFQArF9f3M97tl/PhEHS1yRXKnR/SwLyQmLCm6Nfqtyv2L7Ptb+qbcVXTyzfN9oMAAAIWYWEwZWM4kd6meWX/eSe+OdH89fUMvKcVA+LrRRglM5XYO9ZTwf1i2coz85L4PNebdWEwYV09WXHeyWXxJurW2bfYQb2+fuatSQgOpBR6TXO98tqAalib01QS/R8OAv8rcmHk0w7P4jrUUsOUq/13p2rGmJMx9LR35c6Q51cWu0/8eZ9snL5WNOJXP01ksEbe6+8OsbRvgxnbc7WeVeAWpYwSLfZxKwt568yMW1tccLAs/16JwwUe2uC/p7drlx4Zgumk2u5/KBvk1D1+vWB7Jn5WFwJg+X9iknQluxveXnk0GYAAEDAuCUhUP4BxnR23/OiZX7GavFgPZsE8HmvtmrCwLynbHb4koSBK4gpC4juq9UD0is52dPHqnyiw7TlQZCth/asqynj0hn/H4YbJwwyJqockvlEdlL305eXTVnCoPjeYls2KiUMPNtvof1XoevXdrwtVSY6nPl6Lj0zB0GyRLL9RN/i0U3mEHAkDJb3K4v3d3lbsWgzAAAgXCQMAuUdYEzHcqTPvD3el6P02d/ZcpCcSZ7drnB/rjAgYbB6QBrPtq+Cp80tHbCo47VkJvwqQZC9rzu+xNqUWfvsgVzqUcKnfPSTKjaXzRdgz0qngsrSsrHvvfWEwe1fYWDnBtjc0sH/jhy9r5IyuJDerl5PQ47OLuV6kvqM49hU71fWdIWBQpsBAAChImEQKN8A0N4f7LrvNmEn14pmkx8umsjs/NgEkCZw8Hnv6gkDm5hw30pQNocBCYMVEwZmwsr4VoQvQ9nXwZ4KQBddZ1AtCDKB1OFYruJLqx/OrSFlfMrHBo8LH6dnZ9d/nWphcdk47qe3c5jcesLAs/36JgzsUxH0rQhfL6SrkwAVnpBgb9VKH6sZx7Gp3q/YOQxc++ubDKHNAACAMJEwCJRfAGiTAYvvebWBSPSLuZTXlGX0PBckqkAyDh7TgYPPexclDDKD9uL77DaWzrK+0ZZh7ikJJAxWSRiYpyLoY2SuKkiuNijO+J5WLWGgwp83O6IfgRc/Ws7n0vF7yq98UmfER45+9vu1jH7RtyTsqLo/P7LupJ59zKH6vltPGHi2X6+g2j4VYX5Vgb3aoPDkljybFPh5lHuf6jdf6WSn+lu6jnr0K1P1Xr0N+f3Vr8ePoqy0bwnaDAAACJF/wgB3wivAsGcb08/Ud7G3LaQG7fryZz3A33zWjZ+ZPjrtxs8mj6L8VQM+73UFAmbW8Ghf+uqzF1/0cNj1vkXPcd+U9h+pPSRhMOObMLDJgey8BanJMZfcmrCUPaubuqLlIfNO6HxWbVq1LV1G0aOmtA+TW4uOXu1JI349ktZvF9mg0iT1NqKWHJ2OZDwaSO9lU6LdfdnXbe8OEgZe7dcjYWCTA9l5C/QZfv29y25NsOtRx+yXgYzGuu/qxdsUPWknxyY9X4BXv5Le374M1XcP37alqfrEKO5rl+/bzII2k6y3yvEHAABYLxIGgfIJMK7epZ+nv1h8Fku9N/24rsn7vhy0zIRgWw1pvzmXizigLAYO1d7rDgSmf/Vl38zwnjz3vCxgmMrlWVcN6M3j5KJtab7oyvDv3DW6JAxmvAJScyvCxq7jGe8qaInPjC65NWE5myDyCJjuMe+Egfb9Ws5PVTv4qSGbukz0otrc3qtesS0Y009D6e7P203rcCCX30w7u5OEgVax/VZNGNhbEaIDGc2uTjC+juRAB+bLbk34dimDw5Zsx0H8hmzutqV7dimTOOmgv/tofiuHd7+S7O+sb3vUks7ppYxKjnG58jZDwgAAAPwoJAwCtVKAgQcrvPqS3JO98D78B4T2jOVoMwAAIDwkDAJFgAEfodWX5BJyniNv0Z6xDG0GAACEiIRBoAgw4COM+nIlo9960nut7+HekOjVSJjoPUF7hhttBgAAhI2EQaAIMOAjjPpyLaOXen6LSLb3+3Kx7HF3DwjtGW60GQAAEDYSBoEiwIAP6kvYKB8AAADUEQmDQBFgwAf1JWyUDwAAAOqIhEGgCDDgg/oSNsoHAAAAdUTCIFAEGPBBfQkb5QMAAIA6ImEQKAIM+KC+hI3yAQAAQB2RMAgUAQZ8UF/CRvkAAACgjkgYBIoAAz6oL2GjfAAAAFBHJAwCRYABH9SXsFE+AAAAqCMSBoEiwIAP6kvYKB8AAADUEQmDQBFgwAf1JWyUDwAAAOqIhEGgCDDgg/oSNsoHAAAAdUTCIFAEGPBBfQkb5QMAAIA6ImEQKAIM+KC+hI3yAQAAQB2RMAgUAQZ8UF/CRvkAAACgjv6lB7IsLCwsLCwsLCwsLCwsLCws6YUrDAKlCweoivoSNsoHAAAAdUTCIFAEGPBBfQkb5QMAAIA6ImEQKAIM+KC+hI3yAQAAQB2RMAgUAQZ8UF/CRvkAAACgjkgYBIoAAz6oL2GjfAAAAFBHJAwCRYABH9SXsFE+AAAAqCMSBoEiwIAP6kvYKB8AAADUEQmDQBFgwAf1JWyUDwAAAOqIhEGgCDDgg/oSNsoHAAAAdUTCIFAEGPBBfQkb5QMAAIA6ImEQKAIM+KC+hI3yAQAAQB2RMAgUAQZ8UF/CRvkAAACgjkgYBIoAAz6oL2GjfAAAAFBHJAwCRYABH9SXsFE+AAAAqCMSBoEiwIAP6kvYKB8AAADUEQmDQBFgwAf1JWyUDwAAAOqIhEGgVg4wJpcyPG5L81EkGxsbatmUxk9t6Z5dysS8ZSVfBrKnvm/v9Nq8sMxELk/7Mvpi/vmDXI+7cvLR/EMz+7FxfG5euB8ISMPmVz7n0o3brmOJtqX57ED6oytnez4/1u/bk0G63X2/kuFhS7aj5Ds231zEL1+ddaRl+4mtniSvYhWTj31p726aMmrLsGo3GTxTF+9ZfwkAAKojYRCoVQLA6V99acVBwaY0XnSk96anls5sIBs9P5GrqXmzL8+EwfXpnlpnLnC5ax+68X53P5h/ayQM8AOsljBoyUHchlPLYVsaW/pvKvB/MZQr8wnLlTC4fNtQr0XS+nUo4/FYLr6oTuDvvjTUd0RPuzJUr40/XsuqXcODNxnJge53dw/kZKSO5fiGydmgkDAAAOChI2EQKP8A8EpOWmpgF+3L4LN5aWYql7/vS6QGfo3fVjyPeF8SBvcUCYOwrZYw6Kr/c5nI+BedBFDt+deLJYH+REav9HcdZb5r8udB/Pmj9+YFrO6vnuzovvG/+fTNfUDCAACAh46EQaC8A8ClZ84vpPdYJxTKgpAlSBgEjYRB2NabMNBMgnCjJSf/mJecrmXwrPhdSft8GG3j1pl+pvrtWnVCwgAAgIeOhEGgVk4Y/DwqPeN4/npDokcHMrLj2gVJgELAP3vvpVyedWXf3Pu8uZvMjzBfpw1Q0osJVuKBtfrOTxfS39+Or3jYbB3J+Gv8QZn8PZTui+bskuv41gp9v/Z7xwW+369l/PZgdg929KglB2/PZ5cCJ5dmpxezL2WJlW9XMnqTmvthqyHt46Fc5ldt9+GznqNhfg+4Xn9HHZsfdSmyX32xwWZDen+Zl4yr0+RKlNbvi8+W2oCz8z9HbdOXaKu/7Zh75XEbCQN1mM/acRmk22/mlgQTyGaXtrQLr2UTB9fjvhw8TdpncntTV4afcuW8pC3n2+esPX0zf7dWaE+Z7Yu2pfWqL+d2vSmV9mORpX2Cq69blDi4ebvT4v161pzNSRHPa1HYN7Ntup+7HkvvRUM24+3Tx6EnY9cmfj2X/isz14X6zv03uj+tljA4P9bHqOlOXpkrMNpnP6p3BAAAN0HCIFD+Z4ztYDSS5r9PZPxpsvye5BUSBju7DYmipnTejWQ8HkrvWTI/wvzS6KlcfxzL8HUzHkAe/ZG6pzcODnaksbsZb+NIfb7/dhz/bTI6iAe00dOOnJzpz6jveNeRvTh5kBtgf1OD2N1k8Lt3PFDfM5LBL60kaPl5lHzfJ/Ud/0kCqvZ/9PddyLXeQFfCwH6f2q/2G/19at1vVaBg7ksepW/xiPehKfvP1XF40pa+3tbRQLr2OKx6y8cNedeXf06kpY9D60TVHOOzOTbPBvPXynwdJoHn4bhQz5JAdqcQFD1kt5Ew0GXYzJVBJmHw9TJuo0c/6ddUXdVzFYz/X/l/df2O26dtG2O5jAPuqZz/2kza0bOuDPT9+Gd9aT/RwWBDuh9SJb2gLcftKf6MbZ/p9qT2KZ008GpPavuOk1sx7PaNTo+SeVu2VDudJQ089qNMpT4h6etsP9N8nZojoswN293F22S/dNAf75fu+3RSIw7y08fAJAye7ct+5CiHzHuVL0P1Pv16S45O5317dNiJk39LrzAwSYGmI+Fx8WZHHZ+2DB1JHQAAED4SBoHyTxgon1UQNzs7rwd/yYzqvVMdEDgGsSskDJKzgea12FTGh3ognr00uvB5LQ4O1He8GCaBxcyVDF42ZPOxY6b2T/04KIp+nf8lGYDuyNH77D5d/d6KX58FqmZ9iyc9VNv/S0kgodatB/fRqyQJEbP7kA987C0frn24A6vUl+R42fJXZaADDOccGC4TGb5Q79/oyDhz2MzrP+g4hOpWEga2LqtA07bg4qSHHrckqKBPT4S48/pctYo0WzeO5mVd2pZVS/hNB/XF9mkD4+iXVJLJpz2ZoLSwfSYIn13R4rMfTqv1CeVXFmSt3O6+n0vvybZEjmM+HSVzUuz/YbfBlnsk+6fZIN5emXLwp/0Wu7/Fvv38te5r1fcsSxjY8voplQiJmdfTxwsAANQKCYNArZQw0L5fy/lpd/6Ir9Sy+ayXvXR3hYRBZrBvmTOd6bNLixIGfpODmeBpNmC9kK4+E5YKkmb0Nm41ZP/dZfJvs76FCQNz+bzrTHk8kD7Ux25//pg0852uM2n6lo+lQd4tWa2+2IkyD6T3RpdXMbhYxE6cl7ktwVx50HrnU8b3360kDNRfj/T71pQwSC4rz7VZY/q/Tvz+WVmXtmW17WXtc9aeUkkmj/Z08WvZ9ul93JTG/onolu+1Hy4r9glVEwY3bXdOhb7clns+oaeYxM3svdOxdMr2117FsjRhoMrnN51cyN2WECd5IjlanKEBAAABI2EQqJUTBmnfruXyw1BOUo9i02fyLuzYbYWEgXtQbAKX1FmkRQmDRYP16URvs76E+ER6rw9kzyY+7IA1H/AvYta3MGHwsRtf4luWxCgEVuY752fn5pJg7UBGP+BU2sr1xV4irZbo+dAR5C3gCDSSs5fLJuJ7eG4lYWDr8loSBvZ99taF3PKuI9vq/bPAvqwt22162S9+h1pO/r2tPpcKKiu3J/d+FHnuh8uKfUL1hIFyk3anTCdXcqH2Z3Tajx+1aedZKCQMXFf6mDLasbd7mCs33PubT9gu4Egcx1eDLb2iAwAAhGxpwsAOjjKL8+wR1mktCYO071cyeJ4MKmeDczNwXEfCIB5UpupF4fOaK4C3vp7P5kNIlki2n7Sl866b3Ct/WwmDJYP9suDAtQ/FYO3urF5fruRkT2+3a8I1G7hml/m+20uZ7VlME6TQPxTcSsLAnv19PX/X6gkDd1kXlly7KbQD8/qyxb89VU0YeO6Hy4p9Qtn73Ra1u3LTTwPpxHMx2H1JJobt/daJ68J8Gxa0Ra8+0BzPKv2tvXJidluC+my0IVGlzwIAgFCRMAiUbwB4/queDXzJ2e385aULkgBXv+tJ0SomDBxnmv0SBhfSiycxbMjR2aVcT1Kno+x357a50gDWtb7851c8m7g8wLlbqyYMrv6r9y+SzS1zGXfmHmZ38JXe9+n4KD5+8Zlmc2yZDb3oNhIGtm6m2+TqCYMrGegAturcE2XtwFzuPjt7vUzl9lQ1YeC5Hy53cIXB4nZX4utIDuKJCfel/+FKJuk5H0zfPt8Gj4TBuq4wUK7e6fkZzBUk6rhETH4KAEDtcUtCoHwDwGSgtiRYyw8MzcCxeHmuvU83FXiY9zrPFpnvTX+PV8LAfD59pnQmn+TQA9jSe6TP5UhP9PjaJC5c68sPlu39ys5JucrvV14e4NytlRIGdhI6fUm0nSVdHVd3mFTGTGp2OJar+HaEH3NLRujWnzCwSbbs7POrJwwcbT5F3/sfPWpKx16dVNYObILP2T71OvSVQ535DP0e7WnR3ATnr/X3Hsn4m+d+uKzYJ1ROGKzY7uycIa7A3s7NsFLCwJaZa3/z713GzGHS/P0yuR2ByU8BAKg9EgaB8g4AU2efTv52DIYnl3IS35KQGkjbgWJ+1m01oI0Hsen32oFjYTZve6tDdoA+Sxik31sWHNikwM+jJNCfmcjwlf5u9bfU1QvJUxKKM5jHwYB67yxpYtZ39D75Z6wwAFYBwJIZ0TPHxyPAuUv+CQMzO3uqjJKznmVnGssl9yl3pPNztpwwt9aEwfdrGf2SPF4w/xjP1RMGqiWouq0TdzuvzeMRre+O5ERpO9CPPtTtc0eOxrl+6K/k6QUrtyeTWGyotpupY99UP6b7K/O9XvvhtFqfUC1hsHq7s0mB5n/MpK7WN7Vf8SN100lbj4TBrMzy+zt/jGXlhIE6KvFTUp6p/uAnVzIaAADUDQmDQK1yxlgPlONnbKsB3ubunhy87knvTU86L5qyHb/ekIM/0wM4O1DUz/Xuy3A8luG7juxtRbL/3AT8uYRBFKmB9NaedPWzumfPSy/O8m0Ht41fBjIeXyaD69LgwAY1kbTU+/Xzwkenvfi56frZ7Pv6OfLpgW/6Gelv9bPPRzI43pNNvX3PU2fqTCIiet5X33kh13os7DpjtuiZ61squKiS9FDqlDCwQUr2/mlzD3IqmKnEXiGiyo/Z0N1WSxi05EC1X92G7XL0am82gemmClrz4dhNEgbpAHHzWTd5zv9ZP26HhTa+oB3M2tPGpuwd59pTPuHo1Z7s9kXSfJn0V6PTruqv8t/rsR9lVugTqiQMbtTupmqb9NU8qh9P+j3bX+u60M71az4JA6XQpw6l/7IZ9/c6CVs9YTC/EqI4+amtiz+mjwQAAKshYRCoVRIGscmVjN4eyJ5+Xnc8aFMB8yM1CDw8kbFzPDuRc/X+lg1CdtvSe6/C+3gQnBrYmUHm3umlXJ52pGVm5d5sHUhfv79AbcdhKw7iZ5fvLgwyLmWg3p8kNpLt6J7pRIO5BDg/0/b3axm/mc8OHj1SwdXb8/lZv9hULt7um++MpPtRveQaLGtq/cPj9PepY3Y8lMv8rnkFOHfHq76YS6I3dh2XC9uzwBUukZ5TAY9O6kSLLqF/2FZLGDiWrYY0X3TkxN2YHXXQJ2GQuB735eCp7T8i2X7qaOOL2rKm26fuV0x72oi2pfWqn32sq7ZCe7oe62Si2b6y71Uq7ccinn3C0oTBOtqdnhz2RcP0q2af4rpg2mDLTjjomTDQ4v2d95fbTzsy+DTymsMgVnpbCgkDAADqiIRBoFZOGOBB+rH1JZnHYOcNdyuXoT3jwTBzQDD5KQAA9wMJg0ARYMDHj6wv0/dHslO4/BhptGc8FPFtF/krwgAAQG2RMAgUAQZ83H19uZLRbz3pvU7u646cM8rDoj3jXvt2IQM9z8ZhMpdMfjJOAABQXyQMAkWAAR93X1+uZfQymfBye78vF+lnwqOA9oz77UJ68VwPm9I6HC2ehwEAANQKCYNAEWDAB/UlbJQPAAAA6oiEQaAIMOCD+hI2ygcAAAB1RMIgUAQY8EF9CRvlAwAAgDoiYRAoAgz4oL6EjfIBAABAHZEwCBQBBnxQX8JG+QAAAKCOSBgEigADPqgvYaN8AAAAUEckDAJFgAEf1JewUT4AAACoIxIGgSLAgA/qS9goHwAAANQRCYNAEWDAB/UlbJQPAAAA6oiEQaAIMOCD+hI2ygcAAAB1RMIgUAQY8EF9CRvlAwAAgDoiYRAoAgz4oL6EjfIBAABAHZEwCBQBBnxQX8JG+QAAAKCO/qUHsiwsLCwsLCwsLCwsLCwsLCzphSsMAqULB6iK+hI2ygcAAAB1RMIgUAQY8EF9CRvlAwAAgDoiYRAoAgz4oL6EjfIBAABAHZEwCBQBBnxQX8JG+QAAAKCOSBgEigADPqgvYaN8AAAAUEckDAJFgAEf1JewUT4AAACoIxIGgSLAgA/qS9goHwAAANQRCYNAEWDAB/UlbJQPAAAA6oiEQaAIMOCD+hI2ygcAAAB1RMIgUAQY8EF9CRvlAwAAgDoiYRAoAgz4oL6EjfIBAABAHZEwCBQBBnxQX8JG+QAAAKCOSBgEigADPqgvYaN8AAAAUEckDAJFgAEf1JewUT4AAACoIxIGgSLAgA/qS9goHwAAANQRCYNAEWDAB/UlbJQPAAAA6sgjYXAu3Y0N6X4w/8St8g4wvgxkT5XPhl6eDeTavOz0z4k0zXv3The+s9T5sf58V9WKlOuxdN9dmH8kkvftyeCLecGH2af0Nt7o+3xMLmXwdpQ5jne27hXcdkB6fbq3vF6hlF/5JH1t3JYdy+ZuU9rHQ7mcmLffFUd7vC3X466cfDT/WKfJhfRfNGQzPpaRtM/uS402deY40yMDAADcmEfC4EJ6j3ek95f5J27VjRIGS4Laq9+bs+BjfQkD94C1ngmDaxk8U+vJBcgPOWEw+fNANl6N5K5j1PtitYRBSw7e9KSXWY7k4Om2RPrvW20Z3mVdvKuEwYeu2vfbSE5PZPRzpL67IQfvRjIej+Xyq/lT7ZEwAAAAt2N5wuCvnuxsNaT5bF9aj3ektb8nzd1NiX4Zy9S8Beu3csLgp2Z89UD7rCy0u5KTnzZkR5XlXSQMbuQOz2hmuRMGIbudhMFEhi8i2X7SlPazlmy09qSt6td21JKTf8xbUMlqCYPcFTwpV//di9vvzpvsFT23qvYJA530Vsd1b6B6wfuGhAEAALgdla4wmE4mcvEfFTDoAcnTnlxcT2T63fwRt2LlhMHxSZwQKD0b/M+JtDZ2pPdbMignYeBCwmBmOpHJl5F0/o8u7205OLuSyYRUoa91JwxkOpaOfs9j1R+bl25d7RMG5rjey1trSBgAAIDbUe2WhM8D2Y92pDsaydHjSFq/XXB1wS1bPWFwLhe/6asHDmTkyBhcvWslQYYZlM8H/wuCZEegkEkYmO9KL/a9hcv4bTDwfiLnb9rS2NJ/j2T76YH01WsZpest3hZwPe7PL9WOtqX1qi/n+cuNJ5cyPG7HV8jY7dzc3ZODt+fz5Io9junFDMLL1j35eCKdZ/P7ouN9GeeOovleHQRdj3vSttuw1ZD2m7Fc3zAB51dfruSkpbe1UbjF6Op0Pz6Grd/tOdip2u9GXC/O9VntXVWvPid/iec1UO/t/M/RG0xGcqD+dqdnwAO29oSB4z1x/VTldPlXX/Yf6UvvN6X1ejyr25XqqTH9NJSuvdd/qyWd00uZFtqjX58R+34t47cH0oq3b0OiR61M+0vaWHqpcAvQtysZqb6kab4zblO5OR5sXc0spYkDn/ZRLu6Tnukrcsz6VL/UfNGV4adse7HldqXnTTlsmffr8unI4O9cn6h9PZf+K/M+9Z37b/Txq5YwOD/Wx6jpvkJIX02ovqP86jQAAPAQVUoYTFSQt2duQZiq/2//mgqwcCtukjCwA79iIJcMhHd+U0HcOhMGXy9lrAbHbb3+l/343uCLL8m6C0G2WW9jVwWhW3vSPR3JeKQCmSd6IBvJ/h+ptZeuNx1EmIBWvW/zWVcGo7GMTo+kpQfTWyq4tUmDryqA1cmJSAU/74bxNo7PdACVBO4NfUy06bVcjIdypK/S+OlIhvp9n5LaXlz3PIDYfNaRkzP13tFAuvF35hJrdl+eq/fb/Vbr6b9sxp+Pbjg/gHd9ia80UfvTOplfnv3Z1CEdvJiXZHolw5/bJsC4ksG/VRBjA56vw6TMD4u3J03O2uoYMOeJtfaEgS2/VL2J6+fjhjS2mqqOq/p11pf+OPlr5XqqTD92paG/e7ct/fi9SftsHXZy7dEzYfBN7deu3q9N2TseyGg8ksEvrWS7fk72Y/JJre8/uu6owPU/6v/HF3Kdr1xp9jujprTf6O8cy/BtW5q6/aeSW9MvF/M+yrbrj9eFejtTtX2UuHibtOvGi17cJ431vuqkRhzkp/olJS63n/ZlfzeSpuo/9baNTtVvbpxMzSUtvgxlP/6OlhyZPqSnyjFSZaMTdEuvMDC/DU1HwuPijU40t2V4b+Z1AAAA6+Ax6SHu0o0SBvZe3XwgZ29H0APQdSYMYu4zXIUg26x3I9qXgRnMJ8xZvehIxnajqyQMzAB45/W5Y1/nZ7ivTvXVDK4A9lL6OjkQdVOXdruPRWHdZh3R83wAMZHRoU6ApAb7tnwK+63nCdDf674ipCrv+qJc/Z7cZpQc36tknwvbt4jd9s68zGLm9bu8XD5w60sYTFVQPZQjk2BLJwWT+uk4Q+xTT207fHwk59/MSzFTP2b1RfPrM5KAdEeO3mcqi6mHqbZp+ojltyRMZfxLsv3dD9nvlE/9ZJ8ziThzXF3b67By+/h+Lr0n2xK9GKbWnZiODuLvTCdGbbk1VN+Z2Qvbt9lk5mx/VR+U2YapnL9O5qRZmjCwvw0/pRIhMfM6E5sCAIAcEgaBulnCwAzO08G3El+Wa4O4H5wwcJ3hmv6vE//t4E8zZK2QMLj41Qyg7ffP6P3ZlMb+iVyaV8oU96VawiC59aPk8l4VpOnJJ6NfzWDflo/jbHwygZ1rH6pbJWGgg6AkSXMgvTd6GyLZPy2WyyLx0xPUfmWuZjFXHrTe+X3XfbZawmDRsil7b7NXBszqZy6g9aqn5t+L2udqfcaFdPWZ8bL3bjVk/51pqVUTBua2F1ebioPrQ3089mU4W6FfwmAd7aOgtE9zlc+5HOnttX2qnbfCtb+m3JYnDErqQ5yciOQom/kDAAAgYRCqmyYMigPAZHA/u6f8BycMnMGAWU8+yC6u136f2WbnmdgS04lcfzqPL+U90Y+om93T7ZswuJbhc/3vo5J154ITsy/zs4Vzyf3VN7t8f7WEgWLOPusyiZ4PM/tbiSOISW5H4EkKaaslDFyPVezLYHTufBxgUj/zV3v41VObADp6n/w1o9AePfoM8+8qAW3lhMHHbnzZ/95/3UG8nbdg/j2+CQPlhu1jOrmSi/gWg770DufzLBT7NNcVRmZ77Vl/c8WBe3/Ne6scX0dSyJVgBgAA0EgYBOrGCQM9gIzUINf+O/578bLflQb/SjLIXTVhUDwLGsvvQ+l6V0kY6EkW90xyIFmiR01pH55I92X+O6olDBavOxecOPbFKgY2/lZOGOizqHt6P6pN5FZkL5O2geqCevSArZYwqFKv54ptUvOrpwvrYqEOLyjr/HvzbXuRqgmDQh+WtZaEwYrtY/ppYOZlST6rrwhpPDuQ3m+dOFgv9mmu8slt78L9Ne+tcnztlROz2xLUZ9O/FQAAACkkDAJ184SBHoiqAWuUDETjwXP6nnKfhIE5I7V4kOsesGaDbGVRMGAmFZudhXcE2X5B+9zFb8nEiI1fhnKpHwtqXo8D3vjS5fR3uI9Fft2rXGHgGuz/yIRBcjtEJJtb5taOyvMXzE3HR/GZ3vi2BLOfzLSe9SMTBj/kCoN8n+Hon0pVTRjcwRUGK7UPPcFqPDHhvvQ/XMkkPRdEpb7Uym3vuq4wUOKn5djbEtTxjm54hRMAALi/SBgEah0Jg/lAUAUNL1K3I2hlCYPCZFgqICzcu+wa5LoHrNkgWymsd86uZ3Y/vCPIzn9f8piw1PennL+OZPvJkYy/mQm9nEHTlZzoSQ8z+1IlYWDvBS4ZaJvAYNHtFdYPSxiYBE18qbWdfV3tc/XzqNZ8ks2r+HaEm03geB/9uISBZz01/3bdOpP0J6v2GWqfyuYwUH870o8cfG1uazF9xNL2YOcwcE7Ut4Y5DFZsHzbp4grsq/WlVm577e0/rv31SchoZp6R5u+Xye0ITFAKAABKkDAI1FoSBmaQvhM/cisXMBQCdzvAzj9W60oGz5NLaxcPcs3g9nV2wJoPsu16N3bVZ9Nn3r5fSj+enV29bk//V0gY2LNuhRnGv6nBtR7gxzOV26SACmQzM7+rwf3ZQRwEZe/9NoHQXjY4KKxbBVeLZ59PHfPgEgZ21nu1P+asaXI2VW1jyRnbRZJ7oDvS+Vl9p3MSuoftRyYMvOqprfuOp5gU+wG/PiN5SkLxiQY6iNZtcHZViukjnFc5ZNjbYcqfkpC0f8snYbB6+7BJgeZ/ctOt6sSl7uP031K3N5SWW2F79SNkXcdw/mjZygkDdVTiJ5k8U21W9Y2uSS4BAAA0EgaBWk/CwA6o1evm1oSZQsJAvVu9poPv2fPXz06ko5/x/Xy/JHBPf6cJyvVluKOxXHxJBrSFINusN4oiiZ7Y9fSlHd/vmxsIV0kYzAbLjmeYp4IeG5RHT4+S56KPBtJ72VTb0ZT282bhO5NAqCFHp+q9n5KQo7hutdcLnm/f/DWVxAgsYWCDn+x92ebe5lSQVJlJ3Oj9Zqb1oh+aMFAq11Pt8yA5m761J139rH/7Xt1m1Xes2mfIN7Vfu+q9us29Hcp4PJLBcTKvSCaZYa96eN6X0fhCrhdVp/R3vhmo949l+LYtzXj72zLM1OPqCYMbtY+pWk98RVPD7KfapneduE/afNEu9NPl5ebY3sIxHEo/7seSsqmeMJhfCVGcoNQkjXJ9HQAAeJhIGARqPQkDNXY195cXJrRyJAy0yfu+HLR0IKG+a0sNeN+cy8QMXIuBe3aQO/2rL/tmFnB7iXMhyDbr7b7XkxC2paEDez0h2IuuDD/lIoNKCYPE9bgnbf3sc73d0ba0XvXlPHPWcyqXpx1pme2L9+14KJcT9Zf4jGCUDXQ/j6Rjj4OZHb1s3fExmz1tIZncrD/OHtegEgbmUuuNXcdlyCrwb+i/qSDF75yjTRj5BbkPxY9OGGiV6qn19Vz6r1rz977oyflHdx2u2mfEvl/LWLV7+7SA6FFLDt7q96dN5eLtvmzroF+1y+5H83KZb5cyPE5/pwqmTdvOcgTgLutoH+r49V7YYx3J9lN7rE07ac1v4ygvt5Ltjfd3fny2n3Zk8GmUvNcjYTC7xaFwPEgYAACAORIGgfJOGNSFTRjcIDhG0Y+vL8k8Bpl5MjBzb9sz6svMAcEEpQAAYBESBoEiYQAfP7q+TN8fyU7h0mZYJAwQmvi2i+goNXcLAABAEQmDQJEwgI8fU1+uZPRbT3qvk3vGI+ds9dBIGCAI3y5k8Ea12cNk7oiG62kYAAAAKSQMAkXCAD5+TH25ltHLZOK87f2+XOSeQIE5EgYIw4X04rkeNqV1OFo8DwMAAIBCwiBQBBjwQX0JG+UDAACAOiJhECgCDPigvoSN8gEAAEAdkTAIFAEGfFBfwkb5AAAAoI5IGASKAAM+qC9ho3wAAABQRyQMAkWAAR/Ul7BRPgAAAKgjEgaBIsCAD+pL2CgfAAAA1BEJg0ARYMAH9SVslA8AAADqiIRBoAgw4IP6EjbKBwAAAHVEwiBQBBjwQX0JG+UDAACAOiJhECgCDPigvoSN8gEAAEAdkTAIFAEGfFBfwkb5AAAAoI5IGASKAAM+qC9ho3wAAABQRyQMAkWAAR/Ul7BRPgAAAKgjEgaBIsCAD+pL2CgfAAAA1NG/9ECWhYWFhYWFhYWFhYWFhYWFJb1whUGgdOEAVVFfwkb5AAAAoI5IGASKAAM+qC9ho3wAAABQRyQMAkWAAR/Ul7BRPgAAAKgjEgaBIsCAD+pL2CgfAAAA1BEJg0ARYMAH9SVslA8AAADqiIRBoAgw4IP6EjbKBwAAAHVEwiBQBBjwQX0JG+UDAACAOiJhECgCDPigvoSN8gEAAEAdkTAIFAEGfFBfwkb5AAAAoI5IGASKAAM+qC9ho3wAAABQRyQMAkWAAR/Ul7BRPgAAAKgjEgaBIsCAD+pL2CgfAAAA1BEJg0ARYMAH9SVslA8AAADqiIRBoAgw4IP6EjbKBwAAAHVEwiBQBBjwQX0JG+UDAACAOiJhECgCDPigvoSN8gEAAEAd+SUMvgxkb2NHen+Zf+PWeAcYcdlsyIZr2WpI80VXBh+uzZtT7OeOz80L1Z0f6+/fk8EX80JVN1gn3O4iID0/jmTj1Ugm5t+obuXy+X4t56c9OXjWkE3TnqNHTWkfD+Tc0Zxv3eRSBm9Hkl71yv3ASiZyedqX0S2sa/KxL+3dzaTPjNoy/BHH9zaY/nbv9L7sEAAAuEteCYPJnwdqINUVwrzbt3LC4PG+HL3pSS+1HL1qyXakB/WRNH89l6n5SIyEwb1w+wmDC+k9JuhY1Url83koB7u6jW1K61VPBqOxjMcjGbw5kNZW8nr73WW2Pd+qaxk8U+t9NvhhCYPr073bWddkJAe6j9w9kJP4OF/en8QYCQMAAHADHgmDqYwP1YDqcHyHA9SHa+WEQW4wP/PtUk6eR2qwHcn+Hwwc75tbTxj8cyLNjaac/GP+DS/+7Xko+zqA3WrL4LN5Le37lQx/biTt+fTKvHjb3AmDu3RrCYO/erKjg+r/3tWxvEMkDAAAwA14JAzOpasGsAd/ckHyXVh7wkD7NpaODkKiIxmT9blXbjthEAdqj3tyYf4NP37lo5OzOrnXkO7HRQ31Sk5aqj1vtGX41bx0q+5xwuBDV33vPQ2qSRgAAIAbqJ4wiM/A3M1lp7ilhIFy8WZHDYwj6X4wL9jPmdsDrn5vqr+XzFPxz4m01Ht3fkvCRuelyNdj6c9ugbD3Ww/l8pv5u5Zb58y3Kxm9aUvzkQ6W1N+3GslnczmqeL1qP6/0/dSH89sttp92ZPD3w0xo+dUXG2g2CuV8dbovkTr2rd/TZ1onMnqlytKUVxK0bUjnf45gVl/arf6284bUQppX+dj28WK49LL46f86cVk00+Vlgt9ZG09J2mz+trKpXI160n6yHZe9vtWh8aIrw3RbstuUXkx9KLslYfL3ULov7NwLun0eSP99bo/M9+ptvR6rbbBzCOi2/2Ys19/N+2yywq47XircHvf1Qk4O96QR38Kh+6OWHLxd9r0LgmvTB27s5pNnVzKIr+BqLb8K5/u1jN8eyN7seJf0k3bb9HFW/Wpvdix1+fRk7NjE6afUMd9qSef0UqbmGC9OGCQnBDZ+OlF7UnTxm/7duKvEFAAACEnlhEEcSJYMJrB+t5UwKAQY9nM2eM8lBdKSZML8svRCoGAuo46etKV/Zu63Pt5LBq+tVN3Jr1P7pgas+n7tSA2c3wxkNB7L8G1bmnoQu3sgo9Rl2fF6f9qX/d1Imi/7MlTvHZ12ZS8OCopB8EPgXV9s4JMul8/zOpRp59OxdNTrswTB16G09fsctydNztqqDJgYNc+nfOK5YtTxrXR5vEnQbOylyswrYTBVryW3NjRfmnkSzvrSfpJc4XDwp/nW6bVcjIdy9JP6/E9HcZsbf0qCf1fC4OqPdtzuZ33BaCDdZzoZkLuFwgazz/cl2tqT7ulI9RtD6b9sxsF0NJtkcyrXH1Wf8Drpg47+qDDPgKrPyW0de9J5N8z0R9FTFfDHwXnyveP/6Hqr+sXX+n1jufhSfmXH1e+t+L3ppNrVf5Mk2vIyu5C+Oba2n9PHplfYX81e0aH6umhT9o5z/WKk+sVUAD/92JWG+o6NXXvMT6Sj1tU67CTHeMkVBkky2XXbUTJ/SZUEFgAAuH8qJgySgYsriMTtuK2EgQ0mZsF6IXg3Z58Ll5+r13WwkAow84FCMmhW/87dc60H2Ju7+3LyybxQWOdUxr+YS7A/5Abqn/pxYJseSCfr3ZCG+nzm3eY+5IdYT73ri2IDnySQuEqCk2i/eM+8qjPRhgpOZtHCRIYvdBl0cre2mNe5daHAp3ySs7nugL/oXLrqvZkkgEfCYDo+igPVQlv6fil93Q9kglIbwGb7mELC4KuZQDCfeFJrOH+t9y11Ft72BYV6Z+tYut6pLah8S4Lpxxz1eTLqJPuc7ifMMat22b69Qsdsh0m0Rc/z++vwoRdfQdU+y4feUxn9rL9zP/V0Bnv1Q3GeiiQxl75F0PbbR3KeuUrBtOsq+2b6z8zVKpp5ndsRAQB4mKolDOKzWKnL2HHrbi1hYM8ilyYM7KA8d5Y4nvRuQ1rv5oNJd8JgRzp/LhmY5tdpz5I6J9Q0k22mBtLJel1nws7lKLcvD8UqCYN5UHUgvTe67NwT6MUBbK5e2bPgmdsSzJUH6TqChE/52IRYtf7WBpWrJAySW02KiZ+EvRppPklqtYRB0n+U/F6YfqRwhZOj7c8SkKnkQOWEQVnwGzPJz6g7T2x5JQwUc4VO9KonPX1MXIk2T8V9s2XrKB/Tj8+2N39cU2w5Lt83cyVB7krC+MoD5r0BAODBqpQwSAYc7kElbsetJQzMwHhRwsAGfun70JPbEbID9XygMJvZXX+fvgf58ESGHy5lMrtf2Miv86M+g60GtCWX8yYD6XkAlKw3e+YxYc62Zi7rfRhWSxgo9tYEtUTPh466kwRXhUDE3KaQDvSSs54V7uF+gHzK5+6uMLhI7ltP386QVugbqiUMkn/b2wZyy6iXfKetN2YdrquCXInLqgmD6z/21fs25Oi9eSGn0Hf5JgwUe4VOnGjzffLM96lMPl+oYzKSwduedF40zVws6X0zx9t1xU7uuNkEnnN/zXur7Fv+tjObRIh+cSVzAQDAQ1ApYXB+HD3IIOxHuq2Ewexskw3OC0GBlr+03JyRy93DWhh0a18vZHDcnk0yliybsvfmfP7Z/DqXDNbdCYNUgDRjgqdlSZN7aOWEgS7bvaScshMdGnFZueYksLeR2ESiO5hEwqd87m4OgyXtpdA3VEkY2LPiSxb7HWYdrrafb/da5YSB47Np60gYyOeT5Ph4JcmmcnnaSeYgiD+rlq2G7OkrFQ7zSdkFbSpXNgv3d8ExLjAJxFmCUB2XiKsLAQB40CokDJIzDF4DKdzYbSUM4uRPegBYCAoSSWLBBIrmctf8fbfOhEHK9PNFPBnhvnnqwexS9fw6V7rCgIRB2qoJg+Sy70g2t3QZqbLM3++tg9fIdaxV+Zr73+PbEkyZFu/NhuZVPnZSySpPSTBlkDlDX5owsLf33PIVBq/1v11XADmYdaw9YXDrVxjYOT82ZVMfQ3VM3L1Xlm5Puryi5305/zyRaerqq+TsfnrfqicM1nWFQZxA1LcpmdsS4t8L5iQBAOBBW54wiINF1/3iuE23kjCwk5GlB4CFoMCYjuVIvVcHIslAthgAZAfd1zL6d1O2C48bU/LryP/bniV1XsVSNocBCYO0lRIGs8nahnJtbyfJBD7m2DvnltDMPc/q71fx7QgVg8QHyK987NUbxUlAr97txY/UG/2jD7QJ7vIBtAl+i4+9NFcKzdqOncPAXW6rzmGQ9BcL5jDYakjrP6aXWBDM3iRhsHgCVHMcbjCHgU206WOjkxOLEp5z9nir7S/Md2D7ufS+VU8Y2KSuc3/jqwSq71tya5H6zf+UtG/3MQQAAA/F0oRBPEDjDMOdW3vCYHIpJ/FzwqPsbNf5geeMCVp+aktbD64dQWMhUHin7+ndkaP3uXd+6mcHs4V1lgdI9ikJ6bOtJAyK/BMGdvb0efCSBEHpwEcdz2jx7OjJhGgd6egZ3ksTC/AuH5vci/TTRVJHdXoto9f6EXyRNJ8kj0MsTFRpg8fUHCTaVAWO8WP3Um1n6VMSMs/eNwFs7oqEfD8w74tO5Cozf8m1DF/pdp66xcW81zthsHSCQZNMWfCUhMzx8UkY2IljZ8m1Yltys0mBpvTtE2OM6V89M5dIOjnvkTCw7y3sr9q2uN+vnjCwV7jsHXY4WQAAAJYlDJIzIlEhmMRtWzlh8Hhfjt70pJda5hNqqSDj11xgUBh4ppgzU/pzR44ZLwuBwjcVYO6q16KmtN8mzzPXtyTs6fkM0o9nc60z/VnzfPLZ88a3VNCSGgSTMCjyrS82OZCdtyB1xlof7/gsbap8XcyZ3LI6goR/Qkf5PJID3SY2NqX1qieDkZ44cCSDN20T+Cdl1U8nFGImeFRl0vpFt6XkM82oIfvP9dn/dNuZqvaUJB6aL806zvrSfqKDzE1p/5GuHzbgbcjRqXrfpySRVOgHlKvT5Kx79KQt/TM92eFAus821ftyyQnPhIG96qGh9ms8vnRckZSiAvv4qpmtPem80/2ROg7He7IZb5c6BunHD1ZOGNjkQG7egn/M5KGzJIKbTtrE7WXXHJfxUE4O9TapY/0iv78+CQMltb/d09H8mEdRXBaVEwazKyHUknqMbsyu9wH2sQAAPFSLEwZmJvTipa24bSsnDBxL9KgZT6o1/NsxvHYNPGfMJeclj9RyBQr6SoaBGgDPJj3UT0s4HspletVl6/x2KcNjFdiYOQ/0dhc+q5AwKPKqL/YMqev2kb96STCqjuH/oy8tzz1irWh+eberBiGxUsJA+z6Ri7OeHDxrxIGubhebu7pdDOT8s2ovP+tgvyEHp7ngOW5L+7NE4fbTjgw+TU0Qni+rqVyedaX9ZDtJEEbb0nzRdfcXn0fSaSWB/4Z5qoazH1Amfw+l+yK93W3pnl06E5ZVEwa6vo0OW+Y757cplfp6Lv1X8/5oc3dPDt6O5Tr/5JaKCQObaGs4LtO/+E2XhfqOJbcmTN73pL1rjqE61q1XfRnr1ZorQ+aPJfVMGGjx/trjsxnfvnL+sfwYl5lNjpv/jF0vCQMAAB6MCpMe4kdYOcDAg/Tj6ou5zzl3+TuybrN8rsd9abeOZJw+Yw7cQDKJYvp2FAAA8FCRMAgUCQP4+FH1Zfr+SHa8Hiv3MNGeUR/JbRfRL8xJAgAASBgEiwADPu62vlzJ6Lee9F4nc0xEzqdbII32jNBNPw6SOW/iuSYa84kpAQDAg0bCIFAEGPBxt/XlWkYvdVARyfZ+Xy64FH4p2jOC97GXzHmx1ZLOn4vnYQAAAA8HCYNAEWDAB/UlbJQPAAAA6oiEQaAIMOCD+hI2ygcAAAB1RMIgUAQY8EF9CRvlAwAAgDoiYRAoAgz4oL6EjfIBAABAHZEwCBQBBnxQX8JG+QAAAKCOSBgEigADPqgvYaN8AAAAUEckDAJFgAEf1JewUT4AAACoIxIGgSLAgA/qS9goHwAAANQRCYNAEWDAB/UlbJQPAAAA6oiEQaAIMOCD+hI2ygcAAAB1RMIgUAQY8EF9CRvlAwAAgDoiYRAoAgz4oL6EjfIBAABAHZEwCBQBBnxQX8JG+QAAAKCO/qUHsiwsLCwsLCwsLCwsLCwsLCzphSsMAqULB6iK+hI2ygcAAAB1RMIgUAQY8EF9CRvlAwAAgDoiYRAoAgz4oL6EjfIBAABAHZEwCBQBBnxQX8JG+QAAAKCOSBgEigADPqgvYaN8AAAAUEckDAJFgAEf1JewUT4AAACoIxIGgSLAgA/qS9goHwAAANQRCYNAEWDAB/UlbJQPAAAA6oiEQaAIMOCD+hI2ygcAAAB1RMIgUAQY8EF9CRvlAwAAgDoiYRAoAgz4oL6EjfIBAABAHZEwCBQBBnxQX8JG+QAAAKCOSBgEigADPqgvYaN8AAAAUEckDAJFgAEf1JewUT4AAACoIxIGgSLAgA/qS9goHwAAANQRCYNAEWDAB/UlbJQPAAAA6qhiwmAqF2/3ZTvakI1oW/bfnMvE/CVtOj6SKOrI+Jt5ASvzDjC+DGRvQ5WPXp4N5Nq87PTPiTTNe/dOF75zBefS1d99fG7+7elDN96u7gfzb1RyqwHp55F0WptxuWy2OjL4NDV/SLuSk9aGtH6/Mv9Gml/5mDZUukSy/aQt3bNLZz8cqvNjve17MvhiXliT69O9W/nedZl87Et7N2k/G1Fbhuvucpcxvw3pvn7lsjD9c6XfDcd616Pqb8y1DJ6p9y37PQQAAAtVShhM/jyQaKMl3fGVXP91IvuRKzAwAcM7AoZ1uFHCYMlA8Or3pnkfCYP74vYSBhfS292QnVcDubi+ktEvDRX0FJOC0/91JIqOZOzKJWDFhEFb+uOxjHPL6LQn7SdR3E4aqp3V5ZA/yITBZCQHOtG+eyAnI11+PyDJQ8KAhAEAADdQIWFgfnRfz3+c44DzcU+FEnNxwPC4K+cEDGuxcsLgp2Z89UD7rGxYeiUnP6kA8PFO9YGfFxIGP8KtJQxUeUQ6sPhs/j0dS0eVz8Gf6fqVJAvXX5fuj9USBqo/Na8UfL+UvjrmGxstOfnHvPZABZ0w+KsnO7qf/e8PTKTfWuC+BAkDAADuhQoJg+THOT3gSQZo+6lLK5OzkAQM67NywuD4JE4IbLwauc9k/XMirY0d6f3mcabICwmDH+G2EgZJWz9KBa5J+Ua/ztOF8RVIJAsXWnvCQLn6ry6bDdn/42H3u0EnDHzOyN8WEgYkDAAAuIHqCYPUj34yQDuQkYlIk4Ahe8UBbmb1hMG5XPymrx6Yl0/a1btWcnVI2UD264WcHO5JY0sHLCowfNSSg7djuf5u/p729Vz6r1q5uS2Kg7nk8ldX8OMY+OUTBgsGnc5A4fu1jN8eSOtRcsm23q7mi64Mnffd3x9+9SW5ImBjoyG9v8xLxtXpvkTquNlbjpJjnC67pMx2frOtPUkWll/RYr9jQzr/c5SBvmRbf9+b+9173EbCwB7XQtvIt4GthrSPh3KZn1smbmv66hHValPv39xtS+99Up5Xo+7s/vvo0b50/1c8U3497svBs2bSD+j1lbS5wmXwpm3rtn497s3v89fb+8bV50zl8my+PXY+DWc/oE0uZXjczvVl+fl3TFCp+qCrPzvS0u9V299+d7n4Vo9vVzJ605Zm/hjPvtx8r/5baikPnqu3yUWmn4bSfdGQTb2+rZZ0TtV+OPrQTFmYOW3mbTrNbJf9fS/53ai63ljV+qlV/I1xmycMLvX27W/Hx9G1vvNjvS1N99U65iqR8j5ObY/evp9O1NEqSn6P2zL8al4AAKBm1nBLggoYHi8OGODvJgkDO8ApBmjJ4C8eGLoGfp8H8fwUG1t70nk3lPF4JIPjvXgQGD1V5Z0e0H0ZJu+NWnJ0OlLvHUrv2aZEh504APwxCYNrGT5XA7+oKe23evv1/d5d2YsDhvt96bZ3fYmvNFHHpZUa5Kryj+uQGmDPXlPlseiWhMlZu3B7UsHXobT19x6OC0FY/Hl9xUsuSLpv1p8wmMr4UAc5uWP3TX02nt9gU/aOBzJSbWD4VgW2uq3uqu9Lt+G4rTVl/3lDoidt6Z+NZXzWm7WXo9cqUN21r+uJ+/Tr2YD24m0zDsIaL3oyiO/RV32GDqTjvuFARqkgqSxhsPdcrUf1OV3Tj/RfJt8ZZa6SmsrFrw31eb2uvgx1237XUetRwemhI2HwWdW5OPi3fUGqL3ueqt/29223IQ21DT21r3qOiMGi+qiPsT4W+rvf5I+x2ue4rUzl+qM6Hv/R9XtDmq+T/ujiy4I0RNU2WWL6sSsN/V5bZqMT6ai60FJ9cr4PzZZFLimQZpIJTZuscPxu+KzXq356/Ma4mbJ9rMo2iqT575NkfW+SeqDXd2GLw/xmzvYz5eLN8oA/eY8r4ZCMjzZeDN1X/AEAUAPVJz1UP9q9D9fzSQ/N5IZx0La7JGCAtxslDOwgJR+g2dsR9GC4MPAzg8Zofx4cGpNRJwkKZmegVLDyix70pQLJ2FTOXydzI/yQhIEZXBfuF9b7vdWQ/XeX5oX7x7u+KFe/t+JjnRzbq2RwXSj/5AqCxs/67Kmd9NBMbjhV5fc4ys1n4DKR4QtdBzq5SRHN68sSDvfAWhMG365k/GsrCaqfD1VYNHfxmw6qd+TofS4wNW0j+iXVJ5i2FvffqbP5ej6a+PX85JYmeJydif5+Lr0n2xI5gqHp6CD+jvTtEmUJg2Kds/UldZWUCaZ3XucmebQBdSZhMJHRK1f/pLbr/VEcGM4n57VXAlRNWtm+r6H6qNwx/tSPtzGT6HAE2ItUa5MuNug/ygbd9jty25Avi/jKM8cxiE8OpJOtZb8bFddbvX76/ca42bJV25D7TYjnXFKvz+uB+c0sXCVgXi+7xc8qSziY15f3kQAAhKtSwkD/SF++O0gu7dSXBb69SH48cwHD5H1P9uPLDDfjs0CZM9LwcrOEgRrm6DMeuVnr4wC77NLSBWdY4kGhnhch6iafNWeZXWeMbVDxIxMGO4cj9y0U99gqCYPZYD86kN4bfSwj2T91lP/XsXSfJpfz6svAh2YAn0kWfruUwWErOYP7qCWdP7Pfo5OOulwzV72YKw8ewpNVVksYLFr0GdqRXGXqufqcPiPrvGdbX5GgP5dK2pi2Vmjzti9JXVWWOJcj/frSQE1xtNvShIGjH0nmZ0gFtHHg6jqDa/er+L2RcztNXzYLDG1QmZ6nYwFzC42z75ttS2p+H8+EQeU2mWf6XVf/bRNAVcoie1uCOVbpKx7y++O1Xo/66fkb42bK1vn0lnw90MkMx1UC8e9iJEfFL8hxJxxcv8MAANRNxYSBW3xWwg4m4gGHGtz8fiHX1xdy8jwqnP1CdTdNGBQHOsngaXaveG7gd/3Hfvzvo/fxPwsyA0yTXHDP/F1MAtxZwkDtY3xLgv7OOGnVkZOzc7l8APeOrpYwUMyZW33MvNqrGtAfRZFJAExVGauB8e6RjD5P5Gp0JA19BvZjapTsCACS2xEexiz/qyUMso9VtJdub7e6MnbVadsHvOzPPpNeTv69rb4zFRCVBbO2zRXat6O9GtPJlVyodYxO+9I7VNtp7k9Pf3e1IDWRtG17xltfMaA/6w7qC/2A2S97G0B2GUkvThDYxIkJKkvuPy/4qG/RKev77Lak+q+yY7zICm3SJuSc/bejDy2UhTrGhat9TGCe2fbc/nit16d+ev7GuJmydSYo1Le81scgexVLPvnhE/AXk1pJEiFzVQ8AADW0esLgmwoAZgGD+bFMDzbUwCJynhFCFTdOGOhBlQouZmfZ4r+nLjnNDfwKA92czABz4SC4OJi7u4SBNpGL0/nEaHbZfNaT83ucOFg5YaDPtO0lx6jKpGpWfOm0TRbm5jWYDdQzZwftJca5QK1kMH/frJYwKLaZ6ad+0s632rMrPWZM21m25IPZQpsvbXPF9jr9NIjvV59//6Y0nh1I77dOIdgsSxiUt227baauOPuQYj9gP7t4se/3rIcL+778ditL3u/m3yYL601zHOdiwkD1nLn5RJIAOHfvfm5/vNbrUz8XHjfH74bTkoRB4RiYqztmySO1nvRv6DIm0TNLOKh9iDYi97EBAKBGVk4YxPcipi5VjH980z/MZrDAj+Vqbp4w0GWiBvJRMsiOB3a5hE56QPZDrjCwZ53TAzKzXbN6syCoSAa02UFvxrcruRgN5rNjpy+tvWdWTRgkl35Hsrmlgz51LJfeK618HclBFM2vXnG09UJ/oEzHR3E5xElG85mHMlnquhIGmp01Xx/fTH22t+Q4ztg75duaVdrmcm07rgfq39G+9D9cycQx30H6OwoB2oK2nQ1EPa8weH8Uf7bafeOeCYM7uMJglTZ58ysMFNMfJ1ehmUv28/NT5PbHa70+9fPWrzBw3KKjJHM5mBMdal8jx7wO5bIJh/j39wHMzwIAuP9WSxjEA8UdNSia/9IWAgQzWCgMRlHJOhIG8wHPdXy5aebRdfmBrBmguQdzZvCYn8PANRGUYzuSwWl2YBYzQUWVhEHxHtnivcvXf3ak+aj4WLLZwLEkALsPVkoY2InG9GXPdkbyfBDqECcLl7R1V8LAXqKrrzy4is9mpi4HvufWmTDQ7TGpz7mAyrbL0gApku0nnfmTC/JtzTLlWQxys4GaDRZdQZ3PffPF9RQD7yQ56A7ekkfipb7X9CvlcxhsSuNp3wRyngkDO4eBcxI82yfdYA6DFduk3Wdn/x3/Diwpi5i5CkgHueb7CkmX/P74rNenfnr+xriZsjVJ86ySSQ7NvCrN3y+T2xE8A/7kKo2mnHxKvr9y8g4AgICtlDCIf0hzP/rxgI5bEtZmLQkDPcBXA86d+DFUucF2YSBrzo4seErCPOFg7lkvzBSuX9ezYGe3wz3Yd7/XbtcsiLEDx/yZLjWwjgfTuUBBXxJamEldLqWvEx73+GyPf8LABp3q+JnyTs5sqjpRcvY0Fg+os8lCW0aLb0lIJPcEd6Tzs/vv99V6EwaKqeu6vQ5nQZ9tlztyNM6FWX/1kkffpdtRvq1ZFRMGNinQ/E/u6SPfVLCk+xL9t1Si7yYJA/ve7CMRFVc/YOufeu0k15ddnx3k+jLPhIE6xsuekuA6xq59LFqxTcZscJzvv9V3mnld0tvgThjopqyvAmpK+6Xusx1J3sL++KzXp376/ca42XpQnDjSXqVTLBczl8Mz1Uep3wzXZI4LmYTDnvrNbTL+AQDcE/4Jg3jg5jjTE7/OpIfrsp6EgR3cqtfzZ1lcA1k7+N7ak8673LPLn6jPpy85Tj+LPH7OuXl+eqTKPb8ddtvs87RHA+np9+7uy74O5BclDGYDx/nz14fvOrK3peracz2YTg967WAykubL5L16Xd1nej6DKo//qy/f+mIDkew90iZplApYskxZ5JM39vVFkx5a5koWXR7LZx6/P9aeMFCSR9Sptpk+C2vbpes59/mg7oYJg+QpOXpdDdMH2La5IZsv2oX+6EYJA8UGeZvPujIY6QkWu/G6dJ9TCH5tXzbrn+Z9WfZ5/74JAyXd973JHeP83BIeCYPV2mRKqv/umn427vtMn5zehrKEQVzG+jvU+52T9S353Vi2Xq/66fMb42STGfr9dn2p37R88smwV86sNiGrvX1GLflb4OzvoE9dAwAgAJ4JgyQwyAxQUyYf+7PHKrYOB3LJYxVXtp6EgSoxc9944fLcsoHs13Ppv9pLHqGp/r65uycHb8fuxxR+u5Th8b5sxwPMSLafdmTwaZQNKozpp+F8LoFo29QPM6BLv9cZxEzk/O2BtGbb1Jbee1UD4/fmB70TuTxVQcts0kP9tISuDP++v8kCzau+qAF+XFfsIxHT7Jk+NagtDKbjOua65UP5fiXD2WMV95PycZrf3rJsuH+f3EbCQKYXJviaTz4b+34tY91ezJMK4vb2ql+c9NPZ1pSqCQNN9Re9F40kEI/7gAPpj/XnTDnn57m5QcJAm7zvy0HLtO2thgrYz+UiDrQdwe9E90/tWV8Wv/94mPtdWiFhoMV93/xpENEjFdTq785X+7J+Nm/VNpkX999JO0z6vp6cfywe5/KEgbkKqCyht/B3Y/l6Y1Xrp+bxG1M0L9tLPTmneTTsxlZL/aadO8cwsYW3Tiznuh0nRsIAAFBTK096iNvlnTDAg1af+mLu7U3Pp/EA0J6BmjDzVKw6IWtyhULu6RIAANQYCYNAEWDAR13qy/T9keysdKlvvdGegXqIbw2JjorzN1SSzEPhvJ0DAICaImEQKAIM+Ai7vlzJ6Lee9F4n9yqX3dJ0n9GegYB9u5DBG9VHHSbzGzQ8n24w/TiQnvp8J54vp+S2LQAAaoqEQaAIMOAj7PpyLaOXeiAdyfZ+Xy4e4NwmtGcgZBfSm82/NFo+V0Tex14yz8JWSzp/en8aAICgkTAIFAEGfFBfwkb5AAAAoI5IGASKAAM+qC9ho3wAAABQRyQMAkWAAR/Ul7BRPgAAAKgjEgaBIsCAD+pL2CgfAAAA1BEJg0ARYMAH9SVslA8AAADqiIRBoAgw4IP6EjbKBwAAAHVEwiBQBBjwQX0JG+UDAACAOiJhECgCDPigvoSN8gEAAEAdkTAIFAEGfFBfwkb5AAAAoI5IGASKAAM+qC9ho3wAAABQRyQMAkWAAR/Ul7BRPgAAAKgjEgaBIsCAD+pL2CgfAAAA1BEJg0ARYMAH9SVslA8AAADqiIRBoAgw4IP6EjbKBwAAAHX0Lz2QZWFhYWFhYWFhYWFhYWFhYUkvXGEQKF04QFXUl7BRPgAAAKgjEgaBIsCAD+pL2CgfAAAA1BEJg0ARYMAH9SVslA8AAADqiIRBoAgw4IP6EjbKBwAAAHVEwiBQBBjwQX0JG+UDAACAOiJhECgCDPigvoSN8gEAAEAdkTAIFAEGfFBfwkb5AAAAoI5IGASKAAM+qC9ho3wAAABQRyQMAkWAAR/Ul7BRPgAAAKgjEgaBIsCAD+pL2CgfAAAA1BEJg0ARYMAH9SVslA8AAADqiIRBoAgw4IP6EjbKBwAAAHVEwiBQBBjwQX0JG+UDAACAOiJhECgCDPigvoSN8gEAAEAdkTAIFAEGfFBfwkb5AAAAoI5IGASKAAM+qC9ho3wAAABQRx4Jg3PpbmxI94P5Z96HrmxsdNW7sA7eAcaXgeyp8tmosJSW4QN2Pe7KyUfzjxq67YD0+nRPNp4N5Nr8O+taBs82ZO/U/Vfccvks63tD65vj7UnVF9N3pevP+bHuq9a8zfn11spELk/7Mvpi/rlGxb4vac/l7R0AADwkHgmDC+k93pHeX+afeX/1ZOdxT70L67BywuDxvhy96UlvwTL6x3wGCRNI1DmRctsJg8mfB7LxaqTCFpeJjF5tyMGf7r/ilstnWd8bWt9MwsBbnLDb2JPBuhMGzr6PhAEAAJhbnjDQg82thjSf7Uvr8Y609vekubsp0S9jmao/X7zZkc3dpuztt9SgtCX7z5rS2IrkaKz/ilWtnDBgkOePhEGJiQxfRLL9pCntZy3ZaO1J+6embEctOdFJp69DaUfb0vypLXutDWk9a0vzybZErRO5Sr4Axm2Uz7K+tzZ9810lDGqMhAEAAPhRKl1hMJ1M5OI/KmDQAenTnlxcT2T63fzx+1QmkwvpP9UDPBU0/HYh1xOSBTdFwuAOkTAoN53I5MtIOv9Ht+9tOTi7Uu193r5133A96si2rnv/50CG/6j30/wLbqV8lvW9dembSRgsRcIAAAD8KNVuSfg8kP1oR7qjkRw9juKBZ3rYeXW6L9HjroxGR7ITtaT3FxHDTd1+wmAq48NIDRajwqXkUzWIbKjvig6Tq0jmA/pLuTztSOuR/tyGbO62pXt2makL1uTjiXSeNWRTb5Nax/bTA+mP81tmBqbHKiy4HkvvhX3/pjRe9KTwdm1yKcPjtjS29PvUNj5qycHb88Kl8nHAoY7FlXr/4LAl25Hdjo4M/p6/OwlM0sstDMrvgF99uZKTlt7XRuEWo7gtq+PQ+t1eIzBVx6gRH8vz/6qgZfdARp/Nn7Rv59LdVXXjv+dxWTZ+Hs2uLkiCnA3p/M9RQyYjOVB/23nzMG5iql4+Hu1SWdb3lv7d9hep75pLbjHZKL2NQd+epv5e6GtUXYjbWUeyFzHkvs8EqWu7JWFyISevbBu3fcdVMehNr3c6lo7ef+dtNqoMftFloOp66o+Tv4fSnfVRpk97X/x0kU97yzN9ZLxOu2SPS7W+tqi875snDK7W3C873crvyw3rqHE97svB0+24jJL978rwU26L4nqljt2nC+nvJ+/dbB3J+Kv5e4ZZ/0/uq7AufttR39WWofOzAAD8GJUSBhP1g7hnbkHQg9b2r+mBwETOf92TozgoUMHFr+pHvtIgCovcfsJA+aYGzXrwEqnB0zf72rkc6YHW4yM5t6+Z797ZbUgUNaX9dijj8VB6zzbV4EYFib86Ekh60PSsIydnYxmPBtKN35tPNtmB6b7sR5uydzyQ0Xgsw7dtacbbpQbs6YHT56G09YB0tg0jGRzvxYPG6Lka3Jq3afFg+Cf1vbuRNF/2Zai+d3Sq6nE8oJ0P3Cef1Pb9px3vR/s/6v/HF3KdGw/WgXd9+edEWmqfN9K3D3ye16HZa9MrGf7cTm5BUK8O/t1RA+P5AZr+M5SDF+Y71Oc7/x7Ipa03+pYF/X2OoHRypo/5gjlR7hmv8qnaLpf2vYv+rm83Ud9XCJwUU26Lkjnnx8WAWteppi5v1c676Un0THAe6cSgts6EwZd8nzCUvgpwN6KGNPIBY2a97qRAzCYT0omZP9pJP/OkLf1cn7Z/6gr9cqq2t4KpXH9UfeLrplpXU47+0H3U5ez3t3pfW1Te95l++bE6htG8/1xHv+x0S78vN6qj6lvOf22a9XRlMFLrOetL+4n+zoZ0P6S2KK5XO9LY3ZTmv0/Ub5iqg2/HszLK07cK6bJM+tQ0k+R4MSz9LAAAP4LHpIe4SysnDJYtswFRYvq/Tjwo2lGvT/Ug6bUezOQGRLPvzr2u3p+cDTX3tGtmYFwcKE5kFL83fZbNnj0rDrqTgDI9kZ4+A6Q/vyeD9BluZfr+SHbUe1vv5t9hz5414v1K0XNyqNd31MByxgQSD+2WhKvfk9uMkgDKnJGN9gvHd3VlQal5PaSJ+G6Zb/lUapc3ZNtY/gqQKskcvX1x0JVqM/EVJSrA1NvdTJ8xV+0rSr93bQkDG/Tn+wR1vPRVMeo7yxMG6l3jo3hbC1dymH2bzfXwdSQHOlAuBPa2XFL93wI3aW/OWxK8+toSzr7v9vplp1v6fblRHVW/E/pqnp3Xud+PWbkdzfs0cwwrB/rmNyizfs28nq+PAAD8aCQMArVywmDZUxL+zA/e7KBMDdZ+SwZ4hSDbfrfr8mVzxsYG4Mklla6zJ4p5b/SrDRPtwNRxltOcfcsHFfMzQGlXcvKT+p7UZZ5JwOHajnM50vuS/h7noLleVkkYxMdNXyodHai6oQOSimdLPcRPV1DHNhOUmjPYSwOJe8S/fCq0y5syt4Vk27VJ5iybuNLeUjJLvOntVZ97dSIn+tLu58NZoJ70Cak2ngvcV04YOLffsFe3LEgY6L4gvjw8c1uC2Y9UQJgE69nAc8b0aYXgz2n19uZKGPj1tSWcfd+CftmU1Wx/Pftlp9v6fblBHU2uTsglaIwkEZHq02y9+m+1slRrS64kyB2X+MqDdCICAIBAkDAI1MoJg/QAuSp7CbT+/G5XLkoGiekB/ZwadOvPxYOvaxk+199zVDLQN++dbaO99NVxptmsczbYM4Oy5mt9uaq+fDa9jKSXG+AmAYfjcmO7DekgwTlorpfVEgaKGmTHl0qrJUoNoNfGcXl3cpay2lnZ+2Kl8lnWLm/MBFDpwLByMse03VlbvoiDb91HXP2uL5+332mCRkd7u3HC4KM+K1zWLznuYc+vV0kuD0/dM164NN1ui70dILeMeuXBrsuK7a2YMPDta0s4+77l/fIs4erZLzvd9u+Ldx21CZO29Av7pJZ3ySSvs6SJOQbOuVpKJOtPJz6S+mqfPgUAQEhIGATqThMGOnD4ZTse9KQnVJsx33303vw7Iz1IswOtsoH+sgFdSm5gmgyY9XcvWuYD6vKAwzGQdg6a62XlhIEeLO8lx6984rWb0HVLn62zg/MFZX6PrVY+S9rlGtjL8m2w4zqTXSYJekxSLj67a25jiAN58/+mHbfPUpm7fODuCBgrJQzy35PhqGeu95vLwO32JWeP07dj2D5tyVK5Pq/W3lwJA7++toSz77u9ftnp1n5fVq2j5nuWLbmkidfvh0kcpZMOmVsiAAAICAmDQN1lwsDea7q5pSeO2lEDt1xo4hjQz5lL/OOzMzc9A5SSG5iK2kY9KKt6fycJg2qu9JMP1EB1c8tcgru2+QvmMkFpYXD+MKxSPkvb5TpMx3Kkr2KIExKmPXrei60Dves/9mUjMu3NnKXXl2gnt6TkAsZ84O7oX25+hYE5a+xo59n3m/fF+2yuuMidWT9/rbfFdbWSv1Xb2w+5wuAW+mWnW/t9UVaqo1cy0EmdqnOsrPT7oeqdvj3F3JYQ3wLxgOZ0AQDUCwmDQN1ZwsDOvq4vef56ET8iLzsTu2K+23mfanzWZn6mJLkXNH2GLsW8tzCHQZWBqf2saxviQf+mNJ72ZwMuEgYVmHki4kujvwxlXweO6ris/zoDc3m4Ckqv4tsR1hN81Yl3+VRpl2uSXJbfkbGe7V7Vh+rBn2pLqs7s/HZu7g3PXdL9aiAD/Xr+HvZ1JQxuPIdB4uqdnoxQ1ckvSRA5v+c9kZylXjCHwVZDWv+pEOrdoL25rvzw62tL3DRh4NkvO93a74u2Sh21t+rkEl2GvgoletSUjm0nK/5+JLdmNeXkU9I/5usdAAChIGEQqLtJGNhZvudnL+1Zzczs0Pa7CzN625mpUwMrNWhbPIt1erDnMTC171XrOsmdlbs+O4jPNKYfA7dKwsB9SWw9+CcMzGzfuuzM8UzOfiZn3dYtmdCrI52f1Tpv6fL6kPmVT8V2uS7xWdhIOof6TOuS+80zTGD1U0taKihLB+JxYBdtymYcrOUCoXUlDPT6b/CUhBnTZ7VfmgAuP7fGrG9VQeV381rsWobxEwJKAtiMm7W3WcIgvZ9efW0JZ993e/2y0639vmir1VH9+OikveUej/hdBfc6eZee98IcQ++Es0lq7R12pFk2kSMAAAEgYRColRMGy56SoBfzpAQbhGTvj9YDrGTgNbsE2nx3FKnXt/akezpa+BzyRc/Jbv6aDnh8BqbK50FyVs7xvG99JjZ99tUrYWDPTD3vy2j2LPJ68a0vNljJ3kdtLpMtBGBrYC4N1nVg9ri6B8SnfCq3y7UxV4DodXpOumafglEI1Myl6s6gdW0JA8WeqU89v7//shn3VboPqpQwmAW9ail5OoTt06Inbeln+rRqT6+4aXuzM/M3fhmofbycBbHV+9oSzr7v9vplp1v7fUmsVEfVt9ik0+azrgxGaj1nfWk/0W0wt02rJgx0kkM/rUFvw7KnkgAA8AORMAjUygmDKose7NlLnqMDGdkzJZZ97ri9BHo2oL+Uy9OOtB4lg6btpwfSf585/zIzed+Xg2eNZNC4sSmNZ+q945KBetWBqTa5lOFxWxpb+nvVstWQ9vFQLnODUq+EgRocXrzdl229z2q/uh/NyzXiVV/MpdEbu457ZlVgr58/ro/Pegew+vJk9b32HuIHpnL5+LTLNVp42f0is34nd1+5vV3AVd7rTBhoX8+l/6pl2q/qa170ZHw9Ttp5OulSmjBQmxtfHr746RCTv4fSfWH7NBVI7rale3a5PChfS3u7ktFhy6x7X4apXajW15Zx9X231y873drvi7FKHTWux2o9T7eT5FPZNq2cMJgnglx1EgCAUJAwCJR3wuA2OQb0CEtQ9cXJ3Ke77PLkeyr08okvz75Pk67ZxyMuu4cfP94D/n1Jrn5I3d4AAECASBgEioQBfIQekCaX2bce7H26QZePuaph0dn1MF1Id2tbmod2Irs5HYjpx9Q9xNtfaufB/r4k81r43gYEAMBdI2EQKBIG8BFmQHolo9960nvdlmakBsazGcofnhDL52qk5zQ5Su7Ldt0CEbypXPyq7zOPpPmyl9xnPh7KyWFy/3xxYjwE6YH9vkw/DuK5hDrxvAsNx/wJAACEhYRBoEgYwEeYCYNrGb1MJiPb3u/LxZrvu6+TEMvn+s92Elg/2pf+X3U9xzmRy7OutJ/Y+8zncws81ORU7Ty035ePvWTOiK2WdMwExAAAhIyEQaDCDAARKupL2CgfAAAA1BEJg0ARYMAH9SVslA8AAADqiIRBoAgw4IP6EjbKBwAAAHVEwiBQBBjwQX0JG+UDAACAOiJhECgCDPigvoSN8gEAAEAdkTAIFAEGfFBfwkb5AAAAoI5IGASKAAM+qC9ho3wAAABQRyQMAkWAAR/Ul7BRPgAAAKgjEgaBIsCAD+pL2CgfAAAA1BEJg0ARYMAH9SVslA8AAADqiIRBoAgw4IP6EjbKBwAAAHVEwiBQBBjwQX0JG+UDAACAOiJhECgCDPigvoSN8gEAAEAd/UsPZFlYWFhYWFhYWFhYWFhYWFjSC1cYBEoXDlAV9SVslA8AAADqiIRBoAgw4IP6EjbKBwAAAHVEwiBQBBjwQX0JG+UDAACAOiJhECgCDPigvoSN8gEAAEAdkTAIFAEGfFBfwkb5AAAAoI5IGASKAAM+qC9ho3wAAABQRyQMAkWAAR/Ul7BRPgAAAKgjEgaBIsCAD+pL2CgfAAAA1BEJg0ARYMAH9SVslA8AAADqiIRBoAgw4IP6EjbKBwAAAHVEwiBQBBjwQX0JG+UDAACAOiJhECgCDPigvoSN8gEAAEAdkTAIFAEGfFBfwkb5AAAAoI5IGASKAAM+qC9ho3wAAABQRyQMAkWAAR/Ul7BRPgAAAKgjEgaBIsCAD+pL2CgfAAAA1JFfwuDLQPY2dqT3l/m3cX4cycarkUzMv3Fz/gHGuXQ3NmRj2XJ8nrz9Qzf+d/dD8k/U210EpLTz1VUvn4rt2CxJ+72WwTP172cD9X8/1vXpntquPRl8MS/Ybdvoqj3zZPqovVPPvYp/p9Q6bV9XA5OPfWnvbiblGrVl+KMLskaKde4HMfXOu74G4HrclZOP5h+xcPqUH845VprI5WlfRhXq3Pmx7v/WWz8L5VXjunczjnJY9XdjRcW243Yb9WBlXvXl5r/hN4szyss4hPglKdfUsblR/Ss51tdj6b67MP/4cbwSBpM/D9RgJl9pLqT3+CF2VLdr5YTB4305etOTXtny51Xy9oAaHG7u9hMGtPObqF4+VzLKt9lXrbit7jw/yr6ultE/+jMkDDLqljCYjOQgUtu7eyAno7GMx5ck5TyQMLgh51iAhMGM4/j41Lm1B4qu8nqgCQNnOaz6u7EKZ9txI2GwmkVlfJPvXZfbTxiY2C6A8YxHwmAq40O10Ydj9X8p/5xIc6MpJ/HAFeuycsKg6g98QA0ON3frCQPa+Y3cqHyW/gCFnDDAUn/1ZEeX739NMhdeSBjckHMsQMJgxnF8fmidc5UXCYMfo67j6LuqL2s4PrVLGKxdLRMGaqOjDTn4M3vuIy7Mxz358RdL3C8kDODjthMGtPObIWGAUkvLF4sEU+dIGNxPjuPzQ+ucq7xIGPwYzrZTAyQM1oaEgUt8FiTfMCcyerUhUY3uFa2LH5Yw+HohJ4d70tjSjUCV7aOWHLwdy/V38/e0b/ry6bY0H0Xxeze2GtI+Hspl7nrauEGp7br8qy/78Xs3pfV6zGW3a+RXX67kpKXLt1GYj+TqdF8iVZat39NnO6u08yShuPHTifr2oovfdtT62jL8al54YO4qYXB1PZbei4Zs6vao2lnjRU/Gro99v5bx2wNp5dvuN/P3paZyedad3Xe/2erI4NPU8eNuts3+oMZXqmzIzm+u1JOplzYx5dpvtX/9Vy3Z1nVN/S161CxutxkMFX5gK/ZXyXrVPnzW9052ZsdI94WdU4/bBZb2pfbYZJelgziv/VB9/PuJnKv3J9sRyfbTA+mr11yux305eLod9wFJ/enKUJVrhjm+3fdqOw5bcV2LHrXlxL5vcinDY7V9dk4GtWzu7ql9P88eO+/jXLXOKVXqSUHSzxVvu7TlVLzCKunXDmSkN3Y2CL9Sq+/N56TQ5fOm5DfUHKtsHckdJ7t+VZ+v/lTHSb832pb2u8vZ1Z6Tv4fSnbX7xWWclgx204s9jiv0KZX2pcSyOuXRX2WPxaK65w44yi4xTt7rarOLg4Xk+7L1s9I2OpSW1wp1b9U6M6f6lVSZbLYO5OTjRI0hdHtMHZPZthUrTVnAP/l4Ip1nuW3LVLoF5WDKq7A+z7am+5BF9b687bgV6oGt86peVe4vZu6yr7LfWaznmd8L1Se1XvXlPD3GS/0G+f+WLi9jn+9db31Xn9/vxfta1l8U6t/n0Xz9+lgdqphokk8G5I61+a70MvvefJ+ovrPp+r1eo8oJg6vfm8VgYDqWjtrQzv9ubwMfqh+SMPg8kH09wNrak867oYzHIxkc78UVPHqqBvHpH+dvan27upKqgdibgYzGYxm+VYNE/fld1Sl9Nu9T4gb1uKE66qb63pGMz/qq8/dpqFjGu76owK2l60sr1aZV+esfkXiQaF6KVWznF2/0D5LrtoVk/oONF8MlPxD3150kDHQbiyJpvuzLMN0eI9Ue0z/iuu0+0T8ym7J3nG+76odqadJgKhe/NuJtarxI1jV611GfVz/WKkDODpzyg41cUiDNJBOaNlmV3+8vw7h/ip60pX+m7/Wf90+ZemwGQ5mEgUd/lay3KfvPG/N1jQbSfZYMqhrOZEdOpb5UBbsf1Xf/px1/b/O1ft9YLr4saGfe+6G2d1eVldqO7qnqe0dqIB6XfST7f6Tr01TOf23GA7/NZ10ZjNR2qX66Hb+3oX4nUttkjq/+3s1nPVX+at/UtsRH5etIDuKAVtWFeL/19+jBv+PYeR1njzpXtZ44JAFMbmJn0//pdWePmarLP6nX7W+uOS476rhEunze6v0fSv9lclyj/ISxn4fSjo+VfW+qjjxP98GmDanvbahy7Kl9Gp32ZGC28eqPdvKZwjFUZawCgkUmn9T7Tf1r/0cfqwu5jovas0+pvC8lFtUpj/5q+rErDfU9szqcPv7p22lN2/BPGCRtdvhajYdV3T36Q69jceCTDxQrb6NDaXl51r2b1JnElQyeJ/1I898nqkxseTdUe9bHJnX8zLa5fr9cCQN70mLzWUdOctvWUn1CcnwWlIMpr8z6fNvas33VhzjqW6rel7cdt7KEwd5ztb+2f17UX+TcXV+V/w3X1O/FcdIf23o8Oj2Slj5GW6m+wfkbVPW3dHkZV/3em9f3axma+t76xdSJN6r+RB3p/Jw7No76N/3YS+pPaluPnqrvU9uv+4LShMHXS7XP6ndYv0f1wfPxgdmeWdnp49+VvTgZ1rq1W4crJgySnSicFVIHJrIZK6zVygmDRUt6AG0q9fwH0wzko30ZpAedymTUiTuReSOcyvgX3XhyA0ntUz8ORNMdTtJRqk71jIpyW1YJSK9+TybTSzo2NQDQHZWj/Cu3c3Mv9izgs8zr+duZHpI7SRg4fvwmZ8mAJn3sL37TP/Q7cvQ+13ZNwij6ZfGg1Sabdl6fZ99nE04LEwaqpr3T9a74tJ04KZ3+scvt99V/zeAyVz91Pd7c3ZeTT+YFMxia93d+/ZVdbzF5YhJfS2/N8elLlaXla624H4XtsNt3JGP7NaqN6oFLoUxn/ULqvfb4Oo7D1ak+g1csW5FL6esBa9Sdf8bnOHvUucr1xMUkrTJlobYzUm0r0gO+dECXD4TscSkc74kMX+htTPeh+gyhLsvidk7fH8X9Zeudbcu2DTmOq07Q6O3KJ3nVVp6/1gncCoNHUw7Z4NmnT/HZlxIL6pRPf3X+Wm/zUSqw0fT8W5uy/UTVYVvPnPucWJwwSJSdGXfJB4qVt7GMa9t96t4a6sx0fBT3Y9krEdXaTP+WOX75dpJSOI6mnReTTKqOHSZ9X7oNOMvBHJ/5+lZpa9V+SxfVo7yyhEG1/sLhzvqq4m+4HdMV+mPbT78xrdgcn9V/SxeXcaXvXWN9z88zZOuPq7+Yl4v5vX2s2nxmW23STf2tLGEQM7FdOn4zfV9h3iN9/Lcasv/u0rywXtUSBnoWZ1UJ840ivsTFZqywVisnDBY9JcE+IUHLd3RlwV7MZCftYC+uD+rfzmy4/uHTFX5/9miwWUeZ66yxPqsFpDZwOFD1Q3fK7mxr9XZuOuvclUjxlQfpgOMBupuEQad4jM3AYN6uVT9hfjyL32bbruN7UpLA3nUlif18+sfd8QNotimbgDZ9TPoMcG6/k0BwRzp/LqmJdjBkf2A9+yu7XldfmAz20z/mDj59qba0fI017sf0f534b3bwGz8yNT8oM+x7Z1cY2eOrBos+ygKxKsfZp85VridOpg9LJV7idasB6InuB1PlFj81Kr1N9rg4yicZ9Bbf677Ny9SRWT9q21A+yLTfWxybxUxA4a6HKaYcst/h0ad47UuJ0jrl118l9WZP+n8virQU5z4n7iZhUGEby7i23aPu3bzO2OPuCmjNmMLR37v6t/xxTC6bd7VzxWxb9Ov8d8NZDub4zNbnVT8X1HsbpKX3Y0E9yitNGDjKbJb0XFi/7qivcvyGX/xa9nuh37spjf0TiUNWc3ycfXx8PBaPNbRFZVzle9dX313bauqPo7+Y1ZNF4wHzt1UTBjuHoyW3rqxXpYRBMmDIH6zkQC0+0FjVygmDqgmcXEd3/cd+/O+j98m/8zKd3UedxVQNomRW76SBzr+7aseA1a0ckOqMpK43aomeDx11x6+dFwf2yY/a0rPW99ydJAxc2Xo7MLA/Nvbf5vK2/HLy7+1c+eWZeycdwYtW/HF3/QCasxjp7TU/3K7B2Hzgl1xqrl+L77U8PJHhh0uZ5H8w8/vs2V/Z9bquiEn6ssVnfrz6Um1p+Ror7odzoGSOUTL4tmXUlr6jTozfdWRbvXfWB5jPLuwTphO5/nSuPj+UkzdHcjC7H7k4sFp+nD3rXNV6UiJOnqjBdrIufelnEmwk4yDbNswgMl2HzXFxzc9RVjb2NpTsMpJeXB72N9OUjyPoTo6TvVw3t4x6STtwJphSnPXEo0/x2pcSZXXKrqtif2Uv99fbE9+jrm/b+eu6uP8L2kZyTIv1NP3eYj9XLt/eK29jGde2e9S9m9cZ94kBq3D8zLa5+rfscUzaWlk7V99cGOM6y8Ecn9n6vOrn8nqfOcYL6lFevh4sLzPXlVpZd9JX2WMyK9P8vxcwx6e8j1/ehhaVcZXvXVt938tfoZAo1Pdc/bPjAWcdsScBbF/qPLaOhEFc1ubqhHh+DX37zrlcpm8TuwWVEgZxpUxf6qjFFW55hcZq7jxhUOgksjKNMNcg8vLfVWhQWLvVA9IrOdnT5VO8vDDm285NAmI28FN1RV8iV1avHoo7SRi42r4ZGOQH98uW8vJaPFgo/ri7359c3jmvV0miKTcppmu/v17IIDVxVbJsyt6b1ORVJftctb+y73cdg/xgxMWrL9WWlq+x0n6o9biu7MocI/PbsWyxx9N81r0deoLF5N5g+7l4wkEVtHdf6n8XB1bLj7NvnVOq1JMSyWDb1E1zT3A8ML0eyr79f33MIjXgtpfeaguOS75s7L8XL7n9L7Rve1yWLMvGBM5yKFunkmtffvtSouzYmW1btqS3ffp5lJnwMl6iZjwZ2iwoWFr3FtdTZ50r4eozKm1jGde2V65766gzi8eayfpSx2/ptuXqeUk7d63XWQ7m+Nj12f1fvOS2oUK9jy2oR3mFelC5zMrdRV81OyazcllWTilL21mu7BwWlfHy7739+l7WX+Trn7sszXfP6pTr2ObfY03k4nQ+CbBd9BwwmYkn16hCwiDJruQrVnyJyyyzhXW784TBrV9hQF25TasGpMmlb5FsbplLzHLBhX87v0ouSTRnH+Jkoytb/8AEkzCwl7I5zixUs44rDBQzuEkGMeayvvykmEv2e/r5Ip7oJ3nySuo+1Pw+r/HMfJVBTi2uMMjUgysZ6KRh1Xa6YLCZ3G++IY1fhnJ5PUkFP/ayzlQ9qHycfetcVmk9KWPO+sTHOT7m9rtNPdWXzceXkuYSoT6D8PdH8b9dZ8iKytt3cnn74itelnKWg0ef4rUvJcqO3Y36q6lMPp3LUM8kHieOIjmylzmU1r1q9XRZnUtb3Gcs2MYyrm33qHs3rzOmHZRcYZDcVpA6fgu2LUkU22NzS1cYrKmtFeq9VlqPigr1wKPMSt1FX2WPyaxMS37TXRYcnyq/pdqiMq7yvTev77d4hYGdpHJWp1zHtixhkPLtSi70RI775okVSyb3XdXyhEF8qWj+ElXTqS671A0ru+uEgb2Xxv3DbDofe0+UvYwmf9VJzP7g5ucwqNC5YGUrBaRmMBbfimAv41X1Z97RrNbOk7PHqs/4lHS0qwen90cwCQP7A+XsJ3R5R7L9pJOdAT0nGeS5rzop3gtfNrhQ69IT+Okg1dyOUBjQZfb7Wkb/bsr2bvmlorN9zP/bs7/yGYw4+fSl2tLyNVbcD9f3Jmem7LwE9rPu/dLv1VcJdGz5lA42zcDKOeA3++0YWFU5ztXrnEc9KWXqrDrO53q9qUSKTYAO4u3JXWZfelzUN+YH4abOl99XvSmNp32z3vL2nRyXBffnbjWk9R9XPUxxloNHn+K1LyXKjp1Xf3Uh/Z8asulqH2of42Sb/X6zz8Un/1Srp84gpkS2LntsYxlXeXnUvZvXGdN3Ox+TbCfNSx0/s23FW5iK/U6SbHC381k9853DYE1trVDvNVdZlCj8dniUWbk76KvsOlJlWvydnzt/rdukmbxzwfGp9FuqLCrjKt+7lvoe11NX0qF4bAr1z4wHnLfwmb/N65Tj+9T/5RMG1392pPmo+Fh09+fXZ2nCIC6sVCVMqB1QwcWNMspY6M4TBrrjjCfAy8+aqsepycy380ua7A9G+Wzd6bOFSQO+nQqMhH99MbOf647VlHdytYHq6GZnMFds51+H8WNg9g5Vp1ZINj5MwSQMVNs9P04GZUf5R5uqH6/43tplj78031mYyfqzeZRg5se9/AcsmXm4Ke2XjgGNlttv+3SFwmzpqs/RA8JZgO7YZ5/+ymcw4ubTlypLy9dabT8KM0l/v5S+3r7H6nXzNVP13jjJ8XqcLfvvF9LTj3FMBwelg00bbKmBVWY2aLXfZwfxfmfK2ec4e9S5yvVkgWSQ2ZKWOk7pQCOZPGxTNvXZ4HzQV3pczDgqs6+2XezJSa6OXJtjNa8jFdr3sxO5yj07fRjPDF8SfKWZcsheEePTp/jsS4nSY+fTX9n2Mf9Ns6YjXW6p3zITROa3S7eDZH6BVH/lqKezICa3HpdsXfbYxjKu8vKpe+uoM+bYN1QdSLcy5/GzSZ/874rr90KVi+7Hyp+SkN02ZzmY4zM/Fmtua6n+wN123Mr6tGr9Rbm766tSZWoC3Xz5yzdV1rpMbVk72o5V7bfUbo+7jCt97xrqu/19rFTfzbbNj60ZD9z0KQnpCWFNOyk+1cg8jagQs6/HkoRBcilgITMXV5blBY3V3X3CQLEd+Jbj2eFPVAVOV/ZFzwPfUoPLVONOGnC6AWDdfOuLTQ5k5y0wHZvtnFdu5/YSYrXc0qVRdRNOwkCxbVff0114znQxyHWZPyvbPoM5eQZwFJnB8KzOuH4ArSQhpffNOSlmfr/TfU7+2cPp58Iv2ucK/ZXXYKSMT1+6tHxTVtgPXSaz50+f9aUdP9M+n3TQgVlyO8Hs+fCz9+aenlJhsBk9PUq+YzSQnn62t97e+PnsqWPneZwr17mq9WQRMyDW25cJ4FS5xnUr/7rmNQhXbB2Zbee8jmSTPAvat2KPS/EZ444BvYs9A/u8r+qTfZa8Z59SeV9KLDh2Xv1Vqt0lz7VPvTdz1Yntl+xz1dX2vtHva8h+XE9T/ZWjntordBrqs7Nnw5co1OXK21jCVV6ede/GdUb3F7/qZ/ZH0nzZl+FsH8wj/TL9vU36qO9+Yd77rqPao+pXnptg0NnO9URu6W1T6/o1F7C5ysHVn66jrbnqvbPtuJUFspX7izK33le5fsPt78W8/Od9bKpNevbxLovKuOr3rqW+5/a3tL476t9solPb5u369ef167M65TrWJhGvjmtf/e5dfNFbW9yedDtZmnRc0eKEgckM5i/bijNaJfcvYT1+SMJA+3ou/Vd7s8miNnf35ODt2P3ojm+XMjxWjcbcGxpPbnU8lMtcXU0acLoBYN286ov9IXENTtSPT9yxqXr0/9ygndtO3vWD9BAFlTDQvl/LWN83a9ruRrQtrVd9r8lyJu/7ctBKfnTj2ejfnMtF4XFQrh/AufiRm+oHznnfrmu/J5cyOJz3T/F6831O2T5X7K98ByOlqvalS8s3x3c/3uuJCO0EgHpG5a4MP7mHSNdjVaZPzX2Qqly2nx5IX30+Y8FgUw9kLk8783qVKp+kT4gq3Edefpyr1TmlSj1ZSP2exgNB9b2ZBJq97cJRB1YJANR26rIsbGcmwF7Qvo3J30PpvrBPotB1rS3dswoT6MWmcvF230zAF0n3o35thT6l0r6UWFinFJ/+6nosvRfN2YSC8ZMIXO0ubkfz/d5+2pGBahdJWRUDgGzZXcnosGWOd+o2IAdnXa66jU6O8lqh7t2sziSux73ZpGv68z3d1zjHe+r12TwN8/cmx7aknc+erKL6rGeqHxq7DrKjHMr605u2NWe9d7Udt0I9WKW/cLrtvqr8Nzwu/yfm98LVJlfo44vKy9jne29e39Vv29l8LhzdZvUkpaN8fS+pf9NPqfXrY3U4kMu/k3KY367gPtbTv/rz9c5uyZnEv7V7pv3NfttXfVxrBRUmPcSPcKMAAw9OaPUluRzOdY/jw0R7xp1bMKgCgNvgThgAKDBXqOz/UUzchIiEQaAIMOAjrPqSzI/gvMz8gaI9486RMABwx0gYACn6EZdbDdlzTKyYPFWoVZt5vkgYBIoAAz5CqC/TjwPpvelJJ76PyjWD68NFe8adI2EA4I6RMADS9ONC9e0Em7J3eDKbbyCe20f9PlebQyEMJAwCRYABH0HUl4+95F6+rZZ0/mSGkzTaM+4cCQMAd4yEAZBj5mCZzzdg5gdyzssRLhIGgSLAgA/qS9goHwAAANQRCYNAEWDAB/UlbJQPAAAA6oiEQaAIMOCD+hI2ygcAAAB1RMIgUAQY8EF9CRvlAwAAgDoiYRAoAgz4oL6EjfIBAABAHZEwCBQBBnxQX8JG+QAAAKCOSBgEigADPqgvYaN8AAAAUEckDAJFgAEf1JewUT4AAACoIxIGgSLAgA/qS9goHwAAANQRCYNAEWDAB/UlbJQPAAAA6oiEQaC8A4wvA9nb2JAN17LVkOaLrgw+XJs3p9jPHZ+bF6o7P9bfvyeDL+aFqm6wTrgRkIbttsvn6qwjrUeRae89udAvXo+l+y7+v7tTWOe1DJ6pbXo2UP/3Y12f7q3WX3kx+7vRlR/VuyX98o9bv3zoxvVw73TVEp/I5WlfRrdaTrh759Lldx8AaomEQaBWThg83pejNz3ppZajVy3ZjvQgMpLmr+cyNR+JkTC4F0gYhO1Wy+fvvjRUe4qedmU4Hsv447Vq4z9icO5aJwmDu1b3hMHdlBPuHgkDAKgrEgaBWjlhUDYw/3YpJ8/1GchI9v/40UN3rBsJg7DdZvlM/jyIA7Sj9+aFGAmDvIcSiP7whMENkTC4r0gYAEBdkTAI1NoTBtq3sXT0lQbRkYwzlxmg7kgYhO02yycJsDak+8G8ECNhkEfCoB5IGNxXJAwAoK5IGATqVhIGysWbHTUYi+bBRe72gKvfm+rvO9L7K/5n1j8n0lLv3fktuUfZeUvC9Vj6s1sgNiR61JT28VAuv5m/a2W3JHy7ktGbtjRn92I3ks9OzN+NeL1qP68mlzI4nN9usf20I4O/c29+IEgYhM27fL5fy/jtgew92ZZItwVnWzID8NzS/f8ll4Snl8zl4ardDI/b0thK/hY9asnB23PJtxzbzi7/6st+3CY3pfV6XHhfzFyGXlznPGFwpfqG3ouGbMZ/35TGi56MXZ1Vxe0rN5XLs660dzfjz2+2VL/waVoeiPqsL/fezd22dM8uU7d5OW5JiI+NWu/niZyrMrVzTejP9t4na7kazbc3erQv3f9dxa+nTf4eSvdFc7bu+Bg+O5C++Q6rasJg9r6v5/Nyibal9aqvXjNvypiq7exJe1YndRl2ZZjvcwu3JJhjovv7hXXAHrv0snw/vI7Lovp8k3pnftO679VvmPpN0vsXPWrLiap3MdOe5/OMmN+29O+itqa6Il8v5ORwL7cvY7n+bv6u+PzWx6rug6bq1GwcoOrU/ht9HEkYAEBdkTAI1G0lDKb/68Q/9s3fzSAjH7y7BgpGMsBoysk/yb+TAWdqAP5lKPtqgBA9aUv/bCzj8UgGx3vJ4LB1IrNhjSth8E0NJnbVa5EKit4MZDQey/BtW5p6wLF7IKPP5n1KvN6f9mV/N5Lmy3583/botCt78eCo4R4A3XMkDMLmVz4X0n+iB+VqQG7awng0kN7LZhyoRa9GJoiZyKVuJ691u9yQ9n90mxvL5f93qf7bl7ZuY6p96NcuvpjA5fNQ2rqd6Hb2dphpo9FzFdQn74rF7exxQwUdTem8G8n4rC/9cUn49LVsnSYI1N8TzdvrrG1Hqm2ng1OP7XObysWvjfh4NF6YvuFdR62rJR0VQBUSBj7r+zyI+7f5e4fSV8FvPDfMW9tfliUMmrL/vDHvG896pr9qydHrfYlUQJi8ro6h7gdz/dhkdJBs09OOnMR9qzqGar9cfd4sEWD+XSZ5nyoXtb7NZ10ZjOyxUq9H+zLMJFam6v1mX1/24vfG22rq6cGfqSNVljB4pvrsaFP2jnP9+6wOTOX6o63PTTn6Q+/n5cKA3fu4lNXnm9Y785vW2G2oY9lT9U59XrXduFbo37b4ODn2fVeVUzrgXkNdmdXTrT21n7l9edqTC7s+j996r30w44AN1eaOTtVxVu2k92xTosOOHKj1kTAAgPohYRCo20oY2MHc7Ee7ELxfyUlL/fuxmWl9Rr3+k3o9FfgnA875APzqv2ZAngrutavfW7K5uy8nn8wLhXVOZfxLMvDsfsjdK/GpHw9q5kGSXa8anKnPZ979V0921OuuAdB9R8IgbF7l86EXX2XTPsuHSlMZ/azrvgrmUo28+i0JExm90u2s2Ean74/ittN6Nw+NbDsrbkcZ1zptAB3J/mk27JqctePvP/jTfr/f9jnZIOh1rm9QQVTc52QSBj7rm8jwhfl85r2q7zrU39GWYRz0liUM1Gu7qk9NneG1yduNqCPjdMCl9qGp92HWj13J4KUKRAt9sqL6R/3e6Nf5X5Jyq5owcATE5hhGv4xnx3A6PoqTVYU+9/ul9PXvRTrxU5YwqFQHbH1Ol1OZVY6Lqz6vod7Z3zTHtlz8phMtO3L0PvfbZupk+jivo67Ev9/RfmFfJqNOUob591b4ra++D/a3vNhOzl/rqxvV92b6BwBAHZAwCNStJQzswNn+aBeCdztgy12qaAYmxYBiPrBLEgY70vlz4RYU1zkZJWceDlMDpxk9INfrmQdJyXpTZz9mzuUoty8PBQmDsK2rfFzBVOWEgWl3kbN9mCDhJ0dCMBd4lFuUMFCBTr5xm+3JX+1UdftcCmdGZ2w/kjp2Puu7Hsp+2XtVkLf5qClH/9M7WJ4wmO2nZfvB1/nv9OnHisc8KbeqCYNFx+pARnFsrQNq/W9HGSo2mJ1NpluaMHB83vwezd9r63O2jvsrOy6O+ryGereoLLv6bLvzd9ke59RxuWldMUnzwudjZl+i7ixBUO233mMfpmPp6O1x/Zab761WrwEAISFhEKhbSxjYMxj2R9t+Lv0j/nUYX1q882Z+3iEZiGcHcbMB2GwAbi5F1N+n7288PJHhh0uZpM6UxPLr/NiNz3zs/dc9JMsHRMl67WA2zQwSU1cjPBQkDMK2Uvl8n8rk80VySfHbnnReNM18Hdl2WDlhYIOR1/oy5eTy7fkykl4uqEvamTtIdHOs0waLrrPA+X7Ac/uKbGB7pLakqBCI+qzPvDcd2LqVJwwKnzX7X+z3XMcxMZ1cy+UHtX1nJ9J7fSB75l729HuTcquaMHC/LzlWkXQ/6n9dJAHjXsml+SXlWEgYLKgD6avCCuVUQfXj4qg/N653itmP0kDf3KaTX07+va2+O5W0uWFduf5jP/589okpc8kxSB3bKr/1PvtgEhbu3/Lyeg0ACBsJg0DdVsLAng2a/aDbz2V+xM3lt7MBnjkz8WKYCcQLgw/t64UMUhNHJcum7MWTHhn5dS4ZjLsTBq6BrhmQLEua3EMkDMLmVz5TuTw195LH7UctWw3Ze9WT3mExcVc1YWDft3iZf/eigNLNFRCYYNHVJnP9gO/2FTmC9ZR8IOq1viV91Fx5wiBbPorZ/+J3Oo6jnpjwmQmC4yWS7Sdt6bzrJvNGpN5btdzi95UkAbJ1akm/urQ/r14HtHw5LbSG43LzeqeUlaU5FsuWWd24YV3JlltRcgzS+1Lht95nHwpln+bqHwAAdUDCIFC3lTA4P9b3F5Y/JcFKEgvmUkVzKWH+3s/i4CNr+vkinowwmZE6dYljfp0rXWHgGhAvGdjeYyQMwuZTPpM/D5LJDZ/35fzzRKaFmc2zbc4dJDgG5++P4vel7xdfpLydlXEFBB7Bouf2FXleYeCzvoWBUNptJAwupGcmtzs6u5TrSepUt70EPHXMq5bbovfZ28uSS9XXdIXB2hMGazouN653SllZmlsuKs+rc8O64n2FgbL0t95nH7jCAADuJRIGgbqVhMHXkRzogV/60lDHgC2mBlxH6r16kJAEKcVbALKDj2sZ/bsp23qypvivKfl15P9t5zBw3kpQNoeBa6BrBiQkDBCY6uVjg17VrgpzBzjuw1cqJwxMMFB+r/amNJ72Z+13UUDp5goIPIJFz+1zSfqq3D3ZRpIsTR07n/WZbXW+VwdUWw3Zf3ep/nELCQMThBXvX1fMPqSPedVycwWPify99bZOum4DswFnhTkM1p0wWNdxWUO9Ky1Lm7hw/ibp46yviOgUJoy8aV1xB/fm6oHUHAaxZb/1Pvtg3+v6LXeUNQCgHkgYBGrtCYPJpZw8T64uyJxJKf0RVwMBPdvxT21p60GGYxKj/IDz6l1L/dsxk7KZsXo2iCms06xrwVMS0pdIlg+ISRggTNXLxwZrTenbp4oYUxUMxG0hN1HdwoRBJpiyweyenOSSEddnyVUN6XuZqwaecwvWWSlY9Ns+J/OdpY9EzASiPuszl247Zp/XT4GZJynsd64xYWCD359HuT5YbVM8u7/6W6p/rlpuyfscTz4wfe5O6vWlT0mYPSVCWVfCoJAwy1nbcVlfvSuWpX4cpX46gPpdzD+SVLXnht5Gx+X/K9cVnRRY8pSE4r4s+6332Qf73vxvuX0sZ3pbAQB1QcIgUCsnDB7vy9GbnvRSy3yytEiav+YGfI4B24wavOgBhv7ckWPGp2QAlhqA62c160tEZ8+yHse3JMTPkE4/dsu1zvRnzbPnZ8953lKD0dTgp3zgZwZPJAwQGJ/ymap2F585tc9bHw/l5FA/R31T2i+KyQF3wsCeTdyX/mgsF19M+7WBs+N58/nnqVcNPOdc6/QLFn22r8zV6X7cb20+68pAbYftg6JIB5G5M9c+67Pv3dqTrnm+fP9lMxdI30LCYPadkbR+SfrG0WlP2k+i+Fn9+/qYp45v1XJL3qe+Qx2X5su+DNN9buFY24BPv7cXH9fxWT/eBj1HTfuPVHrmhgkDe8VCQ+3reHw5D6YL1nhcblrvSstSsb9tei6f49xvWz6wv3FdUVL1tPMuuy/Rk5J9WfJb77UPhXGAaSeqnsXrSG/rrAxz7RIAEBQSBoFaOWHgWKJHzXjCtOHfjqGXY8A2dyG9x+pv0ZFzhuhkAJb7oZ9cykAFN7NJD/XTEo6Hcpleddk6v13K8FgNQsycB3q7C59Vygd+ZvBEwgCB8S2fyXsV+NiZ3qNtab3qy1hXanNWNf14U3fCQAVef/Vn84ekn0ev26huZ4U2mgskqgaeacV1+gWLsYrbt8jkfV8OWub46c+/OZeL+L58R2Dis75c/7a525bu2WUqCWsDoNRxW0cQqPrGwWHLJH7n652oNcdXpKT66KrlNnufnjjwRSMJjhce66lcnnVVQL6dBH6qXjZfdIu/KzdMGOjE00jta7w9qVvRnNZ5XG5S70rL0vh+LeO3B9IybcO26XObRLfWUVc0Vab9V+l6uicHb8dynX9i0czi3/pY1X3Q4t/y/dmJiu2nHRl8Gjm2lYQBANQBCYNAEQDCB/UlbJQPQrNKQggAADw8JAwCRYABH9SXsFE+CA0JAwAAUAUJg0ARYMAH9SVslA9CQ8IAAABUQcIgUAQY8EF9CRvlg9CQMAAAAFWQMAgUAQZ8UF/CRvkAAACgjkgYBIoAAz6oL2GjfAAAAFBHJAwCRYABH9SXsFE+AAAAqCMSBoEiwIAP6kvYKB8AAADUEQmDQBFgwAf1JWyUDwAAAOqIhEGgCDDgg/oSNsoHAAAAdUTCIFAEGPBBfQkb5QMAAIA6ImEQKAIM+KC+hI3yAQAAQB2RMAgUAQZ8UF/CRvkAAACgjkgYBIoAAz6oL2GjfAAAAFBHJAwCRYABH9SXsFE+AAAAqCMSBoEiwIAP6kvYKB8AAADUEQmDQBFgwAf1JWyUDwAAAOroX3ogy8LCwsLCwsLCwsLCwsLCwpJeuMIAAAAAAADkiPz/Aa0oRkwUQE1IAAAAAElFTkSuQmCC)"
      ],
      "metadata": {
        "id": "Jhe0YHQEBGNX"
      }
    },
    {
      "cell_type": "code",
      "source": [
        "x = 14\n",
        "y = 5\n",
        "print(x+y)\n",
        "print(x-y)\n",
        "print(x/y)#division\n",
        "print(x%y)#modulus\n",
        "print(x**y)#exponent\n",
        "print(x//y)#floor division"
      ],
      "metadata": {
        "colab": {
          "base_uri": "https://localhost:8080/"
        },
        "id": "GV59lg_oAcRZ",
        "outputId": "0dc87f6c-221f-4c76-f1cc-4129ddade4de"
      },
      "execution_count": null,
      "outputs": [
        {
          "output_type": "stream",
          "name": "stdout",
          "text": [
            "19\n",
            "9\n",
            "2.8\n",
            "4\n",
            "537824\n",
            "2\n"
          ]
        }
      ]
    },
    {
      "cell_type": "markdown",
      "source": [
        "![4.PNG](data:image/png;base64,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)"
      ],
      "metadata": {
        "id": "hFzYqNkeBIpT"
      }
    },
    {
      "cell_type": "code",
      "source": [
        "x = 12\n",
        "y = 15\n",
        "\n",
        "print(x==y)\n",
        "\n",
        "print(x!=y)\n",
        "\n",
        "print(x>y)\n",
        "\n",
        "print(x<y)\n",
        "\n",
        "print(x>=y)\n",
        "\n",
        "print(x<=y)"
      ],
      "metadata": {
        "colab": {
          "base_uri": "https://localhost:8080/"
        },
        "id": "4y70XNMMBN50",
        "outputId": "57cfcf9a-808f-494b-8ab7-ef6b9d964594"
      },
      "execution_count": null,
      "outputs": [
        {
          "output_type": "stream",
          "name": "stdout",
          "text": [
            "False\n",
            "True\n",
            "False\n",
            "True\n",
            "False\n",
            "True\n"
          ]
        }
      ]
    },
    {
      "cell_type": "markdown",
      "source": [
        "Python Logical Operators"
      ],
      "metadata": {
        "id": "-ADc2LuiBlVY"
      }
    },
    {
      "cell_type": "markdown",
      "source": [
        "![5.PNG](data:image/png;base64,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)"
      ],
      "metadata": {
        "id": "O94hVqoeBolU"
      }
    },
    {
      "cell_type": "code",
      "source": [
        "x = 12\n",
        "y = 15\n",
        "\n",
        "print(x>10 and y > 10)\n",
        "\n",
        "print(x>14 or y > 14)\n",
        "\n",
        "print(not(x>10 and y > 10))"
      ],
      "metadata": {
        "colab": {
          "base_uri": "https://localhost:8080/"
        },
        "id": "_t8fKqryBt9x",
        "outputId": "4ba3f099-a50e-41d1-be6e-93fa03efa77e"
      },
      "execution_count": null,
      "outputs": [
        {
          "output_type": "stream",
          "name": "stdout",
          "text": [
            "True\n",
            "True\n",
            "False\n"
          ]
        }
      ]
    },
    {
      "cell_type": "markdown",
      "source": [
        "Python Assignment Operators\n",
        "![6.PNG](data:image/png;base64,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)"
      ],
      "metadata": {
        "id": "EvZg3BC9CHyn"
      }
    },
    {
      "cell_type": "code",
      "source": [
        "x = 12\n",
        "y = 7\n",
        "\n",
        "x+=y\n",
        "\n",
        "print(x)\n",
        "\n",
        "x-=y\n",
        "\n",
        "print(x)\n",
        "\n",
        "x*=y\n",
        "\n",
        "print(x)\n",
        "\n",
        "x/=y\n",
        "\n",
        "print(x)\n",
        "\n",
        "x%=y\n",
        "\n",
        "print(x)"
      ],
      "metadata": {
        "colab": {
          "base_uri": "https://localhost:8080/"
        },
        "id": "Uvgk9b6ECHPO",
        "outputId": "5fd8a304-9c1a-4c0b-fc72-6ede39c877bb"
      },
      "execution_count": null,
      "outputs": [
        {
          "output_type": "stream",
          "name": "stdout",
          "text": [
            "19\n",
            "12\n",
            "84\n",
            "12.0\n",
            "5.0\n"
          ]
        }
      ]
    }
  ]
}
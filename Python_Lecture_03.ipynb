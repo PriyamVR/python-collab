{
  "cells": [
    {
      "cell_type": "code",
      "execution_count": null,
      "metadata": {
        "colab": {
          "base_uri": "https://localhost:8080/"
        },
        "id": "HHS4nD2__Him",
        "outputId": "5b13e354-8ae9-43f2-e018-a2e76676790b"
      },
      "outputs": [
        {
          "name": "stdout",
          "output_type": "stream",
          "text": [
            "1234\n",
            "1. For check balance \n",
            "\n",
            "2 For deposite\n",
            "\n",
            "3 For withdawal\n",
            "4 Exit\n",
            "1\n",
            "Your balance is 500\n",
            "\n",
            "1. For check balance \n",
            "\n",
            "2 For deposite\n",
            "\n",
            "3 For withdawal\n",
            "4 Exit\n",
            "2\n",
            "500\n",
            "Your current balance is 1000\n",
            "\n",
            "1. For check balance \n",
            "\n",
            "2 For deposite\n",
            "\n",
            "3 For withdawal\n",
            "4 Exit\n",
            "3\n",
            "200\n",
            "Your current balance is 800\n",
            "\n",
            "1. For check balance \n",
            "\n",
            "2 For deposite\n",
            "\n",
            "3 For withdawal\n",
            "4 Exit\n",
            "3\n",
            "1700\n",
            "You have requested to withdrawn more than your current balance\n",
            "\n",
            "1. For check balance \n",
            "\n",
            "2 For deposite\n",
            "\n",
            "3 For withdawal\n",
            "4 Exit\n",
            "4\n"
          ]
        }
      ],
      "source": [
        "pin = \"1234\"\n",
        "\n",
        "balance = 500\n",
        "\n",
        "upin = input()\n",
        "\n",
        "if pin == upin:\n",
        "  while True:\n",
        "   print(\"1. For check balance \\n\")\n",
        "   print(\"2 For deposite\\n\")\n",
        "   print(\"3 For withdawal\")\n",
        "   print(\"4 Exit\")\n",
        "\n",
        "   choice = int(input())\n",
        "\n",
        "   if choice == 1 :\n",
        "     print(f'Your balance is {balance}\\n')\n",
        "   elif choice == 2:\n",
        "    amount = int(input())\n",
        "\n",
        "    balance = balance + amount\n",
        "    print(f'Your current balance is {balance}\\n')\n",
        "   elif choice == 3:\n",
        "\n",
        "    wamt = int(input())\n",
        "\n",
        "    if wamt < balance :\n",
        "       balance = balance - wamt\n",
        "       print(f'Your current balance is {balance}\\n')\n",
        "    else:\n",
        "       print(f'You have requested to withdrawn more than your current balance\\n')\n",
        "   elif choice ==4:\n",
        "     break;\n",
        "\n",
        "\n",
        "else:\n",
        "  print(\"Invalid Password\\n\")\n",
        "\n"
      ]
    },
    {
      "cell_type": "markdown",
      "metadata": {
        "id": "koUi6hkDLkjW"
      },
      "source": [
        "###1. Lists"
      ]
    },
    {
      "cell_type": "code",
      "execution_count": null,
      "metadata": {
        "id": "cPX2ySFD_ECA"
      },
      "outputs": [],
      "source": []
    },
    {
      "cell_type": "markdown",
      "metadata": {
        "id": "LbGXL7HBLn-V"
      },
      "source": [
        "A list is a collection which is ordered and changeable. Allows duplicate members."
      ]
    },
    {
      "cell_type": "markdown",
      "metadata": {
        "id": "WY0gTSEjM4wW"
      },
      "source": [
        "**Creating and Accessing Lists**"
      ]
    },
    {
      "cell_type": "code",
      "execution_count": null,
      "metadata": {
        "colab": {
          "base_uri": "https://localhost:8080/"
        },
        "id": "rlZwm7_JM6_m",
        "outputId": "d91f36df-a21e-4ffd-db23-548568fb6e3c"
      },
      "outputs": [
        {
          "name": "stdout",
          "output_type": "stream",
          "text": [
            "['apple', 'banana', 'cherry']\n"
          ]
        }
      ],
      "source": [
        "fruits = [\"apple\", \"banana\", \"cherry\"]\n",
        "print(fruits)"
      ]
    },
    {
      "cell_type": "markdown",
      "metadata": {
        "id": "EoDteVkMM8GN"
      },
      "source": [
        "**Modifying Lists**"
      ]
    },
    {
      "cell_type": "code",
      "execution_count": null,
      "metadata": {
        "colab": {
          "base_uri": "https://localhost:8080/"
        },
        "id": "dY-kUpbkkVDe",
        "outputId": "b31853da-5d8b-4c96-83f0-25e1f13227ab"
      },
      "outputs": [
        {
          "name": "stdout",
          "output_type": "stream",
          "text": [
            "['apple', 'banana', 'cherry', 'orange']\n"
          ]
        }
      ],
      "source": [
        "fruits.append(\"orange\")\n",
        "print(fruits)"
      ]
    },
    {
      "cell_type": "code",
      "execution_count": null,
      "metadata": {
        "colab": {
          "base_uri": "https://localhost:8080/"
        },
        "id": "c2lyU9S6kjbF",
        "outputId": "2aa746c9-04a5-46ae-e135-07c891941151"
      },
      "outputs": [
        {
          "name": "stdout",
          "output_type": "stream",
          "text": [
            "['kiwi', 'apple', 'banana', 'cherry', 'orange']\n"
          ]
        }
      ],
      "source": [
        "\n",
        "fruits.insert(0, \"kiwi\")\n",
        "print(fruits)"
      ]
    },
    {
      "cell_type": "code",
      "execution_count": null,
      "metadata": {
        "colab": {
          "base_uri": "https://localhost:8080/"
        },
        "id": "nBWHWa-5M96t",
        "outputId": "70ab882e-d53a-4d8f-a88a-c1cb7194e204"
      },
      "outputs": [
        {
          "name": "stdout",
          "output_type": "stream",
          "text": [
            "['kiwi', 'kiwi', 'apple', 'banana', 'cherry', 'orange']\n"
          ]
        }
      ],
      "source": [
        "\n",
        "fruits.insert(1, \"kiwi\")\n",
        "print(fruits)\n"
      ]
    },
    {
      "cell_type": "markdown",
      "metadata": {
        "id": "1zKbO4b_M_Jl"
      },
      "source": [
        "**Removing Items**"
      ]
    },
    {
      "cell_type": "code",
      "execution_count": null,
      "metadata": {
        "colab": {
          "base_uri": "https://localhost:8080/"
        },
        "id": "qr6nwm4plByN",
        "outputId": "908b9837-d789-401c-8359-5d3e9ed896ca"
      },
      "outputs": [
        {
          "name": "stdout",
          "output_type": "stream",
          "text": [
            "['kiwi', 'kiwi', 'apple', 'kiwi', 'cherry', 'orange']\n"
          ]
        }
      ],
      "source": [
        "fruits.insert(1, \"kiwi\")\n",
        "print(fruits)\n"
      ]
    },
    {
      "cell_type": "code",
      "execution_count": null,
      "metadata": {
        "colab": {
          "base_uri": "https://localhost:8080/"
        },
        "id": "Eo4VVxWIlEn1",
        "outputId": "926b1d32-2376-4e81-b6b2-37cbc9af9e92"
      },
      "outputs": [
        {
          "name": "stdout",
          "output_type": "stream",
          "text": [
            "['kiwi', 'apple', 'banana', 'cherry', 'orange']\n"
          ]
        }
      ],
      "source": [
        "fruits.remove(\"kiwi\")\n",
        "print(fruits)\n"
      ]
    },
    {
      "cell_type": "code",
      "execution_count": null,
      "metadata": {
        "colab": {
          "base_uri": "https://localhost:8080/"
        },
        "id": "TGj6OdwDNBLt",
        "outputId": "47901a40-855a-4a7c-c6c8-3099c18d894d"
      },
      "outputs": [
        {
          "name": "stdout",
          "output_type": "stream",
          "text": [
            "['kiwi', 'apple', 'cherry', 'orange']\n"
          ]
        }
      ],
      "source": [
        "fruits.remove(\"banana\")\n",
        "print(fruits)\n"
      ]
    },
    {
      "cell_type": "code",
      "execution_count": null,
      "metadata": {
        "colab": {
          "base_uri": "https://localhost:8080/"
        },
        "id": "65VCzapwFyrv",
        "outputId": "848efe5e-15ee-42a5-9be0-e821a71bd81b"
      },
      "outputs": [
        {
          "name": "stdout",
          "output_type": "stream",
          "text": [
            "['kiwi', 'apple']\n"
          ]
        }
      ],
      "source": [
        "print(fruits[0:2])"
      ]
    },
    {
      "cell_type": "markdown",
      "metadata": {
        "id": "J7ZXx5QLNDOm"
      },
      "source": [
        "**List Slicing**"
      ]
    },
    {
      "cell_type": "code",
      "execution_count": null,
      "metadata": {
        "colab": {
          "base_uri": "https://localhost:8080/"
        },
        "id": "dGD5r-n4NF13",
        "outputId": "50aa88c0-8561-4412-f805-544f17f7dd69"
      },
      "outputs": [
        {
          "name": "stdout",
          "output_type": "stream",
          "text": [
            "['apple', 'kiwi']\n"
          ]
        }
      ],
      "source": [
        "print(fruits[1:3])\n"
      ]
    },
    {
      "cell_type": "markdown",
      "metadata": {
        "id": "BZUhv-89NI8t"
      },
      "source": [
        "**List Methods**"
      ]
    },
    {
      "cell_type": "code",
      "execution_count": null,
      "metadata": {
        "colab": {
          "base_uri": "https://localhost:8080/"
        },
        "id": "4pNEo5TbLfQI",
        "outputId": "8fde66e2-da9b-4219-8ad9-ed7af1d3b803"
      },
      "outputs": [
        {
          "name": "stdout",
          "output_type": "stream",
          "text": [
            "[4, 3, 2, 1]\n",
            "[1, 2, 3, 4]\n"
          ]
        }
      ],
      "source": [
        "numbers = [1, 2, 3, 4]\n",
        "numbers.reverse()\n",
        "print(numbers)\n",
        "\n",
        "numbers.sort()\n",
        "print(numbers)\n"
      ]
    },
    {
      "cell_type": "markdown",
      "metadata": {
        "id": "XkSbaqijL-od"
      },
      "source": [
        "###2. Tuples"
      ]
    },
    {
      "cell_type": "markdown",
      "metadata": {
        "id": "TbJ9KFOiMBYW"
      },
      "source": [
        "A tuple is a collection which is ordered and unchangeable. Tuples allow duplicate members."
      ]
    },
    {
      "cell_type": "markdown",
      "metadata": {
        "id": "YA-QDdP-NRRn"
      },
      "source": [
        "**Creating and Accessing Tuples**"
      ]
    },
    {
      "cell_type": "code",
      "execution_count": null,
      "metadata": {
        "colab": {
          "base_uri": "https://localhost:8080/"
        },
        "id": "ekBhj4QVL1e9",
        "outputId": "6f132919-7e31-4461-e69c-d84f48f01de6"
      },
      "outputs": [
        {
          "name": "stdout",
          "output_type": "stream",
          "text": [
            "(4, 5)\n"
          ]
        }
      ],
      "source": [
        "coordinates = (4, 5)\n",
        "print(coordinates)\n"
      ]
    },
    {
      "cell_type": "markdown",
      "metadata": {
        "id": "lULcQ483NWqd"
      },
      "source": [
        "**Accessing Tuple Elements**"
      ]
    },
    {
      "cell_type": "code",
      "execution_count": null,
      "metadata": {
        "colab": {
          "base_uri": "https://localhost:8080/"
        },
        "id": "nD72YPgVNYnW",
        "outputId": "675f8568-d376-48b7-db53-0cd72ad2c00c"
      },
      "outputs": [
        {
          "name": "stdout",
          "output_type": "stream",
          "text": [
            "4\n"
          ]
        }
      ],
      "source": [
        "print(coordinates[0])\n"
      ]
    },
    {
      "cell_type": "markdown",
      "metadata": {
        "id": "HySJyvmtNZuV"
      },
      "source": [
        "# Tuple with Multiple Data Types"
      ]
    },
    {
      "cell_type": "code",
      "execution_count": null,
      "metadata": {
        "colab": {
          "base_uri": "https://localhost:8080/"
        },
        "id": "f_tmh6cVNdTt",
        "outputId": "46e952e9-f454-475f-ad1c-f144d28d9c35"
      },
      "outputs": [
        {
          "name": "stdout",
          "output_type": "stream",
          "text": [
            "('John', 30, 'Engineer')\n"
          ]
        }
      ],
      "source": [
        "person = (\"John\", 30, \"Engineer\")\n",
        "print(person)\n"
      ]
    },
    {
      "cell_type": "markdown",
      "metadata": {
        "id": "lxYOP_8ANem-"
      },
      "source": [
        "**Nested Tuples**"
      ]
    },
    {
      "cell_type": "code",
      "execution_count": null,
      "metadata": {
        "colab": {
          "base_uri": "https://localhost:8080/"
        },
        "id": "HNpjJfwvNgzn",
        "outputId": "6d6d6b87-f3cb-41e7-ffa0-ca74aa4d44e0"
      },
      "outputs": [
        {
          "name": "stdout",
          "output_type": "stream",
          "text": [
            "(1, 2, 3, 4, 5)\n"
          ]
        }
      ],
      "source": [
        "nested_tuple = ((1, 2,3,4,5), (3, 4),5)\n",
        "print(nested_tuple[0])\n"
      ]
    },
    {
      "cell_type": "markdown",
      "metadata": {
        "id": "AHDBkXknNiBV"
      },
      "source": [
        "**Tuple Methods**"
      ]
    },
    {
      "cell_type": "code",
      "execution_count": null,
      "metadata": {
        "colab": {
          "base_uri": "https://localhost:8080/"
        },
        "id": "aqAQy-0cNlRV",
        "outputId": "37aac106-2d85-4f3d-a46c-f1b0de1a863a"
      },
      "outputs": [
        {
          "name": "stdout",
          "output_type": "stream",
          "text": [
            "2\n"
          ]
        }
      ],
      "source": [
        "fruits_tuple = (\"apple\", \"banana\", \"cherry\",\"banana\")\n",
        "print(fruits_tuple.count(\"banana\"))\n"
      ]
    },
    {
      "cell_type": "markdown",
      "metadata": {
        "id": "aegJJQhaMI9_"
      },
      "source": [
        "###3. Sets"
      ]
    },
    {
      "cell_type": "markdown",
      "metadata": {
        "id": "poFsU39IML59"
      },
      "source": [
        "A set is a collection which is unordered and unindexed. No duplicate members."
      ]
    },
    {
      "cell_type": "markdown",
      "metadata": {
        "id": "a8PlA8vdNpRV"
      },
      "source": [
        "**Creating Sets**"
      ]
    },
    {
      "cell_type": "code",
      "execution_count": null,
      "metadata": {
        "colab": {
          "base_uri": "https://localhost:8080/"
        },
        "id": "A_4PDOJDNrSF",
        "outputId": "297b527a-457c-4443-d5ad-7b9fb8f483cc"
      },
      "outputs": [
        {
          "name": "stdout",
          "output_type": "stream",
          "text": [
            "{'apple', 'banana', 'cherry'}\n"
          ]
        }
      ],
      "source": [
        "fruits_set = {\"apple\", \"banana\", \"cherry\",\"banana\"}\n",
        "print(fruits_set)\n"
      ]
    },
    {
      "cell_type": "markdown",
      "metadata": {
        "id": "c1Co8P2ANsht"
      },
      "source": [
        "**Adding and Removing Elements**"
      ]
    },
    {
      "cell_type": "code",
      "execution_count": null,
      "metadata": {
        "colab": {
          "base_uri": "https://localhost:8080/"
        },
        "id": "7hppajPJNuRW",
        "outputId": "4a98dac6-0ca9-471f-b350-ec5ccef06474"
      },
      "outputs": [
        {
          "name": "stdout",
          "output_type": "stream",
          "text": [
            "{'apple', 'orange', 'banana', 'cherry'}\n",
            "{'apple', 'orange', 'cherry'}\n"
          ]
        }
      ],
      "source": [
        "fruits_set.add(\"orange\")\n",
        "print(fruits_set)\n",
        "fruits_set.remove(\"banana\")\n",
        "print(fruits_set)\n"
      ]
    },
    {
      "cell_type": "markdown",
      "metadata": {
        "id": "12jnbwtHNvbV"
      },
      "source": [
        "**Set Operations**"
      ]
    },
    {
      "cell_type": "code",
      "execution_count": null,
      "metadata": {
        "colab": {
          "base_uri": "https://localhost:8080/"
        },
        "id": "6TgW3WfUNxLt",
        "outputId": "2e5a64a4-a31c-4266-9715-81300debffe1"
      },
      "outputs": [
        {
          "name": "stdout",
          "output_type": "stream",
          "text": [
            "{3}\n",
            "{1, 2, 3, 4, 5}\n",
            "{1, 2}\n",
            "{1, 2, 4, 5}\n"
          ]
        }
      ],
      "source": [
        "set1 = {1, 2, 3}\n",
        "set2 = {3, 4, 5}\n",
        "print(set1 & set2)  # Intersection\n",
        "print(set1 | set2)  # Union\n",
        "print(set1 - set2)  # Difference\n",
        "print(set1 ^ set2)  # Symmetric Difference\n"
      ]
    },
    {
      "cell_type": "markdown",
      "metadata": {
        "id": "gYN2wT4oN05d"
      },
      "source": [
        "**Set Methods**"
      ]
    },
    {
      "cell_type": "code",
      "execution_count": null,
      "metadata": {
        "colab": {
          "base_uri": "https://localhost:8080/"
        },
        "id": "9FyU88-7MNJu",
        "outputId": "fc64f944-05fd-40c9-8eed-ac549984b46b"
      },
      "outputs": [
        {
          "name": "stdout",
          "output_type": "stream",
          "text": [
            "{1, 3}\n"
          ]
        }
      ],
      "source": [
        "set3 = {1, 2, 3}\n",
        "set3.discard(2)\n",
        "print(set3)\n"
      ]
    },
    {
      "cell_type": "markdown",
      "metadata": {
        "id": "D9mrcuFJMQSe"
      },
      "source": [
        "###4. Dictionaries"
      ]
    },
    {
      "cell_type": "markdown",
      "metadata": {
        "id": "j0Vm6YmuMTJ2"
      },
      "source": [
        "Dictionaries are used to store data in key-value pairs."
      ]
    },
    {
      "cell_type": "markdown",
      "metadata": {
        "id": "pdeLfnvbN6V_"
      },
      "source": [
        "**Creating and Accessing Dictionaries**"
      ]
    },
    {
      "cell_type": "code",
      "execution_count": null,
      "metadata": {
        "colab": {
          "base_uri": "https://localhost:8080/"
        },
        "id": "Ss7MaUroN8p1",
        "outputId": "67f26fc8-8ce8-4a29-c57a-8975494bea09"
      },
      "outputs": [
        {
          "name": "stdout",
          "output_type": "stream",
          "text": [
            "{'name': 'John', 'age': 30, 'job': 'Engineer'}\n",
            "John\n"
          ]
        }
      ],
      "source": [
        "person = {\"name\": \"John\", \"age\": 30, \"job\": \"Engineer\"}\n",
        "print(person)\n",
        "print(person[\"name\"])\n"
      ]
    },
    {
      "cell_type": "markdown",
      "metadata": {
        "id": "yA-zPkdA6L1K"
      },
      "source": [
        "User Input"
      ]
    },
    {
      "cell_type": "code",
      "execution_count": null,
      "metadata": {
        "colab": {
          "base_uri": "https://localhost:8080/"
        },
        "id": "cg0J1T1D6LCa",
        "outputId": "b64b171c-51d0-4e26-e6c4-117c8ec63746"
      },
      "outputs": [
        {
          "name": "stdout",
          "output_type": "stream",
          "text": [
            "Enter your name: p\n",
            "Enter your age: 21\n",
            "Enter your job: Architec, Cv\n",
            "{'name': 'p', 'age': 21, 'job': 'Architec, Cv'}\n",
            "p\n",
            "21\n",
            "Architec, Cv\n"
          ]
        }
      ],
      "source": [
        "person = {}\n",
        "\n",
        "person[\"name\"] = input(\"Enter your name: \")\n",
        "person[\"age\"] = int(input(\"Enter your age: \"))\n",
        "person[\"job\"] = input(\"Enter your job: \")\n",
        "\n",
        "print(person)\n",
        "\n",
        "print(person[\"name\"])\n",
        "print(person['age'])\n",
        "print(person['job'])"
      ]
    },
    {
      "cell_type": "markdown",
      "metadata": {
        "id": "s2wxPWnh_QXp"
      },
      "source": [
        "Splitting by white space"
      ]
    },
    {
      "cell_type": "code",
      "execution_count": null,
      "metadata": {
        "colab": {
          "base_uri": "https://localhost:8080/"
        },
        "id": "znLgpb23_QAz",
        "outputId": "ff4604f6-7517-4977-fb70-ae7adc4b20df"
      },
      "outputs": [
        {
          "name": "stdout",
          "output_type": "stream",
          "text": [
            "['Hello,', 'how', 'are', 'you?']\n"
          ]
        }
      ],
      "source": [
        "# Example string\n",
        "text = \"Hello, how are you?\"\n",
        "\n",
        "# Splitting the string into a list of words based on spaces\n",
        "words = text.split()\n",
        "\n",
        "# Output the result\n",
        "print(words)\n"
      ]
    },
    {
      "cell_type": "markdown",
      "metadata": {
        "id": "LShwYqfg_bbg"
      },
      "source": [
        "Split with custom separator"
      ]
    },
    {
      "cell_type": "code",
      "execution_count": null,
      "metadata": {
        "colab": {
          "base_uri": "https://localhost:8080/"
        },
        "id": "tDRITD3A_eLN",
        "outputId": "aab5c891-cb40-4a0e-fedf-ef700a1b0ee3"
      },
      "outputs": [
        {
          "name": "stdout",
          "output_type": "stream",
          "text": [
            "['apple', 'banana', 'orange', 'grape']\n"
          ]
        }
      ],
      "source": [
        "# Example string with commas as separators\n",
        "text = \"apple,banana,orange,grape\"\n",
        "\n",
        "# Splitting the string by commas\n",
        "fruits = text.split(',')\n",
        "\n",
        "# Output the result\n",
        "print(fruits)\n"
      ]
    },
    {
      "cell_type": "markdown",
      "metadata": {
        "id": "ovv3qxupBWuk"
      },
      "source": [
        "Strip()"
      ]
    },
    {
      "cell_type": "code",
      "execution_count": null,
      "metadata": {
        "colab": {
          "base_uri": "https://localhost:8080/"
        },
        "id": "41V694SPBCDA",
        "outputId": "1fb151a7-6225-4f94-ea2f-c4a2c8eea6d8"
      },
      "outputs": [
        {
          "name": "stdout",
          "output_type": "stream",
          "text": [
            "Original:    Hello,     World!   \n",
            "Cleaned: Hello,     World!\n"
          ]
        }
      ],
      "source": [
        "# Example string with leading and trailing spaces\n",
        "text = \"   Hello,     World!   \"\n",
        "\n",
        "# Using strip() to remove the spaces\n",
        "cleaned_text = text.strip()\n",
        "\n",
        "# Output the result\n",
        "print(f\"Original: {text}\")\n",
        "print(f\"Cleaned: {cleaned_text}\")\n"
      ]
    },
    {
      "cell_type": "code",
      "execution_count": null,
      "metadata": {
        "colab": {
          "base_uri": "https://localhost:8080/"
        },
        "id": "V4o_oDis60vJ",
        "outputId": "ff123847-2da2-46b4-8b86-101351ba2985"
      },
      "outputs": [
        {
          "name": "stdout",
          "output_type": "stream",
          "text": [
            "Enter your name: p\n",
            "Enter your age: 20\n",
            "Enter your jobs (comma-separated): a, b, c\n"
          ]
        }
      ],
      "source": [
        "person = {}\n",
        "\n",
        "person[\"name\"] = input(\"Enter your name: \")\n",
        "person[\"age\"] = int(input(\"Enter your age: \"))\n",
        "\n",
        "jobs = input(\"Enter your jobs (comma-separated): \")\n",
        "jobs.split(\",\")\n",
        "person[\"jobs\"] = [a.strip() for a in jobs]\n",
        "\n"
      ]
    },
    {
      "cell_type": "code",
      "execution_count": null,
      "metadata": {
        "colab": {
          "base_uri": "https://localhost:8080/"
        },
        "id": "tEhRcqCSBs2d",
        "outputId": "e72b2cc1-2708-4f60-d8b4-e1b6f78317fc"
      },
      "outputs": [
        {
          "name": "stdout",
          "output_type": "stream",
          "text": [
            "{'name': 'p', 'age': 20, 'jobs': ['a', ',', '', 'b', ',', '', 'c']}\n"
          ]
        }
      ],
      "source": [
        "print(person)"
      ]
    },
    {
      "cell_type": "code",
      "execution_count": null,
      "metadata": {
        "colab": {
          "base_uri": "https://localhost:8080/"
        },
        "id": "bJivScdt_JZ1",
        "outputId": "b123690d-4ba2-4569-d6b5-2eda47a94d88"
      },
      "outputs": [
        {
          "name": "stdout",
          "output_type": "stream",
          "text": [
            "p\n",
            "20\n",
            "['a', ',', '', 'b', ',', '', 'c']\n"
          ]
        }
      ],
      "source": [
        "\n",
        "print(person[\"name\"])\n",
        "print(person['age'])\n",
        "print(person['jobs'])\n"
      ]
    },
    {
      "cell_type": "markdown",
      "metadata": {
        "id": "LIXjO8KEB8mD"
      },
      "source": [
        "For Multiple Students"
      ]
    },
    {
      "cell_type": "code",
      "execution_count": null,
      "metadata": {
        "colab": {
          "base_uri": "https://localhost:8080/"
        },
        "id": "vPCGlWqlBwbH",
        "outputId": "cfa35940-c0ea-463a-b074-4f86754bc119"
      },
      "outputs": [
        {
          "name": "stdout",
          "output_type": "stream",
          "text": [
            "Enter the number of students: 2\n",
            "Enter your name: p\n",
            "Enter your age: 23\n",
            "Enter your jobs (comma-separated): a b\n",
            "Enter your name: r\n",
            "Enter your age: 22\n",
            "Enter your jobs (comma-separated): a , b, c\n"
          ]
        }
      ],
      "source": [
        "student = [] # List\n",
        "\n",
        "n = int(input(\"Enter the number of students: \"))\n",
        "\n",
        "for i in range(n):\n",
        "\n",
        "\n",
        "  person = {}\n",
        "\n",
        "  person[\"name\"] = input(\"Enter your name: \")\n",
        "  person[\"age\"] = int(input(\"Enter your age: \"))\n",
        "\n",
        "  jobs = input(\"Enter your jobs (comma-separated): \").split(\",\")\n",
        "  person[\"jobs\"] = [job.strip() for job in jobs]\n",
        "\n",
        "  student.append(person)\n",
        "\n",
        "\n"
      ]
    },
    {
      "cell_type": "code",
      "execution_count": null,
      "metadata": {
        "colab": {
          "base_uri": "https://localhost:8080/"
        },
        "id": "JX7Qk1fWCyxH",
        "outputId": "ae164e64-96d2-4ce0-bcf7-eea6e3767d52"
      },
      "outputs": [
        {
          "name": "stdout",
          "output_type": "stream",
          "text": [
            "[{'name': 'p', 'age': 23, 'jobs': ['a b']}, {'name': 'r', 'age': 22, 'jobs': ['a', 'b', 'c']}]\n"
          ]
        }
      ],
      "source": [
        "print(student)"
      ]
    },
    {
      "cell_type": "markdown",
      "metadata": {
        "id": "OMJoD79JFQWG"
      },
      "source": [
        "Enumerate"
      ]
    },
    {
      "cell_type": "code",
      "execution_count": null,
      "metadata": {
        "colab": {
          "base_uri": "https://localhost:8080/"
        },
        "id": "GuOJbrSbFR4N",
        "outputId": "36a27f4b-917e-4a94-bc97-487a20df4b7e"
      },
      "outputs": [
        {
          "name": "stdout",
          "output_type": "stream",
          "text": [
            "Index: 0, Fruit: apple\n",
            "Index: 1, Fruit: banana\n",
            "Index: 2, Fruit: cherry\n",
            "Index: 3, Fruit: date\n"
          ]
        }
      ],
      "source": [
        "fruits = [\"apple\", \"banana\", \"cherry\", \"date\"]\n",
        "\n",
        "# Using enumerate to get both index and value\n",
        "for index, fruit in enumerate(fruits):\n",
        "    print(f\"Index: {index}, Fruit: {fruit}\")\n"
      ]
    },
    {
      "cell_type": "markdown",
      "metadata": {
        "id": "au-cl46nF_Lp"
      },
      "source": [
        "Joining Strings with a Space"
      ]
    },
    {
      "cell_type": "code",
      "execution_count": null,
      "metadata": {
        "colab": {
          "base_uri": "https://localhost:8080/"
        },
        "id": "CGQM_g2QGB0Z",
        "outputId": "99c50d60-9ab8-4983-a717-b8fa9d378212"
      },
      "outputs": [
        {
          "name": "stdout",
          "output_type": "stream",
          "text": [
            "Hello world this is Python\n"
          ]
        }
      ],
      "source": [
        "words = [\"Hello\", \"world\", \"this\", \"is\", \"Python\"]\n",
        "\n",
        "sentence = \" \".join(words)\n",
        "print(sentence)\n"
      ]
    },
    {
      "cell_type": "markdown",
      "metadata": {
        "id": "3PserUpFGEgW"
      },
      "source": [
        "Joining Strings with a Comma"
      ]
    },
    {
      "cell_type": "code",
      "execution_count": null,
      "metadata": {
        "colab": {
          "base_uri": "https://localhost:8080/"
        },
        "id": "sjq4nDE6GGPm",
        "outputId": "fadcd081-2e18-43b8-94fb-baeb5b2e9307"
      },
      "outputs": [
        {
          "name": "stdout",
          "output_type": "stream",
          "text": [
            "<class 'list'>\n",
            "apple, banana, cherry, date\n"
          ]
        },
        {
          "data": {
            "text/plain": [
              "str"
            ]
          },
          "execution_count": 24,
          "metadata": {},
          "output_type": "execute_result"
        }
      ],
      "source": [
        "fruits = [\"apple\", \"banana\", \"cherry\", \"date\"]\n",
        "print(type(fruits))\n",
        "fruit_string = \", \".join(fruits)\n",
        "print(fruit_string)\n",
        "type(fruit_string)"
      ]
    },
    {
      "cell_type": "markdown",
      "metadata": {
        "id": "B6lC_TQpN9yN"
      },
      "source": [
        "**Adding and Modifying Elements**"
      ]
    },
    {
      "cell_type": "code",
      "execution_count": null,
      "metadata": {
        "colab": {
          "base_uri": "https://localhost:8080/"
        },
        "id": "sgveIfAKOAU9",
        "outputId": "34e7df67-01b9-4714-92cd-f327bb34dd3a"
      },
      "outputs": [
        {
          "name": "stdout",
          "output_type": "stream",
          "text": [
            "{'name': 'John', 'age': 31, 'job': 'Engineer', 'city': 'New York'}\n"
          ]
        }
      ],
      "source": [
        "person[\"age\"] = 31\n",
        "person[\"city\"] = \"New York\"\n",
        "print(person)\n"
      ]
    },
    {
      "cell_type": "markdown",
      "metadata": {
        "id": "HGN3-Ur8OCbv"
      },
      "source": [
        "**Looping Through Dictionaries**"
      ]
    },
    {
      "cell_type": "code",
      "execution_count": null,
      "metadata": {
        "colab": {
          "base_uri": "https://localhost:8080/"
        },
        "id": "48LJwQYwOEco",
        "outputId": "7a0872f6-7549-4a82-ca60-70828db7a07a"
      },
      "outputs": [
        {
          "name": "stdout",
          "output_type": "stream",
          "text": [
            "name: p\n",
            "age: 20\n",
            "jobs: ['a', ',', '', 'b', ',', '', 'c']\n"
          ]
        }
      ],
      "source": [
        "for key, value in person.items():\n",
        "    print(f\"{key}: {value}\")\n"
      ]
    },
    {
      "cell_type": "markdown",
      "metadata": {
        "id": "ycMLVKFGOFs9"
      },
      "source": [
        "**Removing Items**"
      ]
    },
    {
      "cell_type": "code",
      "execution_count": null,
      "metadata": {
        "colab": {
          "base_uri": "https://localhost:8080/"
        },
        "id": "hMng51XrMU9u",
        "outputId": "24f50926-24ec-439a-efa7-58c9a6866458"
      },
      "outputs": [
        {
          "name": "stdout",
          "output_type": "stream",
          "text": [
            "{'name': 'John', 'job': 'Engineer', 'city': 'New York'}\n"
          ]
        }
      ],
      "source": [
        "person.pop(\"age\")\n",
        "print(person)\n"
      ]
    },
    {
      "cell_type": "markdown",
      "metadata": {
        "id": "osAvNhR6LE-G"
      },
      "source": [
        "Dictionary Search"
      ]
    },
    {
      "cell_type": "code",
      "execution_count": null,
      "metadata": {
        "colab": {
          "base_uri": "https://localhost:8080/"
        },
        "id": "xZ3lnuuTK_RO",
        "outputId": "a4a960f6-8629-4691-a881-d94ea532fc36"
      },
      "outputs": [
        {
          "name": "stdout",
          "output_type": "stream",
          "text": [
            "Key 'name' exists in the dictionary.\n"
          ]
        }
      ],
      "source": [
        "person = {\"name\": \"John\", \"age\": 30, \"job\": \"Engineer\"}\n",
        "\n",
        "# Check if a key exists in the dictionary\n",
        "if \"name\" in person:\n",
        "    print(\"Key 'name' exists in the dictionary.\")\n",
        "else:\n",
        "    print(\"Key 'name' does not exist in the dictionary.\")\n"
      ]
    },
    {
      "cell_type": "markdown",
      "metadata": {
        "id": "Q7Mj1hQrPMcP"
      },
      "source": [
        "Deletion Dictionary"
      ]
    },
    {
      "cell_type": "code",
      "execution_count": null,
      "metadata": {
        "colab": {
          "base_uri": "https://localhost:8080/"
        },
        "id": "UOKESADrQN63",
        "outputId": "bb402d06-5fc4-41be-c67f-5f8de3c8d4e1"
      },
      "outputs": [
        {
          "name": "stdout",
          "output_type": "stream",
          "text": [
            "{'Emma': {'age': 22, 'courses': ['English', 'History']}}\n"
          ]
        }
      ],
      "source": [
        "# Dictionary of students\n",
        "students = {\n",
        "    \"John\": {\"age\": 20, \"courses\": [\"Math\", \"Science\"]},\n",
        "    \"Emma\": {\"age\": 22, \"courses\": [\"English\", \"History\"]},\n",
        "}\n",
        "\n",
        "# Deleting John's record\n",
        "del students[\"John\"]\n",
        "\n",
        "# Printing the dictionary after deletion\n",
        "print(students)\n"
      ]
    },
    {
      "cell_type": "markdown",
      "metadata": {
        "id": "7yrf40dnQcOK"
      },
      "source": [
        "Del for List"
      ]
    },
    {
      "cell_type": "code",
      "execution_count": null,
      "metadata": {
        "colab": {
          "base_uri": "https://localhost:8080/"
        },
        "id": "VqJO6AGQQdyj",
        "outputId": "b3f23686-c5ef-49c3-fd2a-101e6855e478"
      },
      "outputs": [
        {
          "name": "stdout",
          "output_type": "stream",
          "text": [
            "['apple', 'cherry', 'date']\n"
          ]
        }
      ],
      "source": [
        "# List\n",
        "fruits = [\"apple\", \"banana\", \"cherry\", \"date\"]\n",
        "\n",
        "# Delete an element by index (e.g., index 1 for \"banana\")\n",
        "del fruits[1]\n",
        "\n",
        "print(fruits)  # Output: ['apple', 'cherry', 'date']\n"
      ]
    },
    {
      "cell_type": "markdown",
      "metadata": {
        "id": "j9CCwQyNQgPb"
      },
      "source": [
        "Deleting a Slice of a List:"
      ]
    },
    {
      "cell_type": "code",
      "execution_count": null,
      "metadata": {
        "colab": {
          "base_uri": "https://localhost:8080/"
        },
        "id": "inoTy9jJQbuC",
        "outputId": "fa701966-42bc-4989-98dd-86cea9d0621a"
      },
      "outputs": [
        {
          "name": "stdout",
          "output_type": "stream",
          "text": [
            "[1, 4, 5]\n"
          ]
        }
      ],
      "source": [
        "# List\n",
        "numbers = [1, 2, 3, 4, 5]\n",
        "\n",
        "# Delete elements from index 1 to 3 (not including index 3)\n",
        "del numbers[1:3]\n",
        "\n",
        "print(numbers)\n"
      ]
    },
    {
      "cell_type": "code",
      "execution_count": null,
      "metadata": {
        "colab": {
          "base_uri": "https://localhost:8080/"
        },
        "id": "Mj1B6OjbPOjG",
        "outputId": "ab46ca1c-22e8-418c-8090-9c4cf5a02cba"
      },
      "outputs": [
        {
          "name": "stdout",
          "output_type": "stream",
          "text": [
            "Before deletion:\n",
            "{'Alice': {'age': 22, 'courses': {'Physics', 'Math'}}, 'Bob': {'age': 24, 'courses': {'Biology', 'Chemistry'}}}\n",
            "Student Alice has been deleted.\n",
            "\n",
            "After deletion:\n",
            "{'Bob': {'age': 24, 'courses': {'Biology', 'Chemistry'}}}\n"
          ]
        }
      ],
      "source": [
        "students = {\n",
        "    \"Alice\": {\"age\": 22, \"courses\": {\"Math\", \"Physics\"}},\n",
        "    \"Bob\": {\"age\": 24, \"courses\": {\"Chemistry\", \"Biology\"}}\n",
        "}\n",
        "\n",
        "# Function to delete a student\n",
        "def delete_student(name):\n",
        "    if name in students:\n",
        "        del students[name]  # Deletes the student entry from the dictionary\n",
        "        print(f\"Student {name} has been deleted.\")\n",
        "    else:\n",
        "        print(f\"Student {name} not found.\")\n",
        "\n",
        "# Example of using the delete_student function\n",
        "print(\"Before deletion:\")\n",
        "print(students)\n",
        "\n",
        "delete_student(\"Alice\")  # Deleting Alice from the dictionary\n",
        "\n",
        "print(\"\\nAfter deletion:\")\n",
        "print(students)\n"
      ]
    },
    {
      "cell_type": "markdown",
      "metadata": {
        "id": "Y-GYCJ6mMZ31"
      },
      "source": [
        "###5. Loops"
      ]
    },
    {
      "cell_type": "markdown",
      "metadata": {
        "id": "MC3e3wg6MbtV"
      },
      "source": [
        "Loops allow you to iterate over a sequence (such as a list, tuple, or dictionary)."
      ]
    },
    {
      "cell_type": "markdown",
      "metadata": {
        "id": "LNBxxd2jMd_G"
      },
      "source": [
        "**For Loop**"
      ]
    },
    {
      "cell_type": "code",
      "execution_count": null,
      "metadata": {
        "colab": {
          "base_uri": "https://localhost:8080/"
        },
        "id": "dViGs7TmMWyN",
        "outputId": "2b67c26a-04ad-4420-acce-c2b77b3b6fdb"
      },
      "outputs": [
        {
          "name": "stdout",
          "output_type": "stream",
          "text": [
            "apple\n",
            "banana\n",
            "cherry\n"
          ]
        }
      ],
      "source": [
        "# Loop through a list\n",
        "fruits = [\"apple\", \"banana\", \"cherry\"]\n",
        "for fruit in fruits:\n",
        "    print(fruit)\n",
        "\n"
      ]
    },
    {
      "cell_type": "code",
      "execution_count": null,
      "metadata": {
        "colab": {
          "base_uri": "https://localhost:8080/"
        },
        "id": "TAB48nIY92Gu",
        "outputId": "e9780571-4cab-48e4-e4b0-0568507f169d"
      },
      "outputs": [
        {
          "name": "stdout",
          "output_type": "stream",
          "text": [
            "0\n",
            "1\n",
            "2\n",
            "3\n",
            "4\n"
          ]
        }
      ],
      "source": [
        "# Loop through a range\n",
        "for i in range(5):\n",
        "    print(i)\n"
      ]
    },
    {
      "cell_type": "markdown",
      "metadata": {
        "id": "TXtXMgv5MhVG"
      },
      "source": [
        "**While Loop**"
      ]
    },
    {
      "cell_type": "code",
      "execution_count": null,
      "metadata": {
        "colab": {
          "base_uri": "https://localhost:8080/"
        },
        "id": "jU0p3zP6Mkgf",
        "outputId": "262c4ed7-07c6-43e7-bd40-78525d4ec664"
      },
      "outputs": [
        {
          "name": "stdout",
          "output_type": "stream",
          "text": [
            "0\n",
            "1\n",
            "2\n",
            "3\n",
            "4\n"
          ]
        }
      ],
      "source": [
        "\n",
        "count = 0\n",
        "while count < 5:\n",
        "    print(count)\n",
        "    count += 1\n"
      ]
    },
    {
      "cell_type": "markdown",
      "metadata": {
        "id": "0npzrSFCOOXk"
      },
      "source": [
        "**Nested Loops**"
      ]
    },
    {
      "cell_type": "code",
      "execution_count": null,
      "metadata": {
        "colab": {
          "base_uri": "https://localhost:8080/"
        },
        "id": "QXhDlmfXOQUf",
        "outputId": "02911e3a-2754-4c04-e976-64850dcd726f"
      },
      "outputs": [
        {
          "name": "stdout",
          "output_type": "stream",
          "text": [
            "i: 0, j: 0\n",
            "i: 0, j: 1\n",
            "i: 1, j: 0\n",
            "i: 1, j: 1\n",
            "i: 2, j: 0\n",
            "i: 2, j: 1\n"
          ]
        }
      ],
      "source": [
        "for i in range(3):\n",
        "    for j in range(2):\n",
        "        print(f\"i: {i}, j: {j}\")\n"
      ]
    },
    {
      "cell_type": "markdown",
      "metadata": {
        "id": "CxO_Yew8Mno1"
      },
      "source": [
        "**Looping Through Dictionary**"
      ]
    },
    {
      "cell_type": "code",
      "execution_count": null,
      "metadata": {
        "colab": {
          "base_uri": "https://localhost:8080/"
        },
        "id": "G3hzYpyIMp2F",
        "outputId": "dfb9512c-0931-4421-d05b-70fe0f872e05"
      },
      "outputs": [
        {
          "name": "stdout",
          "output_type": "stream",
          "text": [
            "name John\n",
            "age 30\n",
            "job Engineer\n"
          ]
        }
      ],
      "source": [
        "# Looping through dictionary keys and values\n",
        "person = {\"name\": \"John\", \"age\": 30, \"job\": \"Engineer\"}\n",
        "for key in person:\n",
        "    print(key, person[key])\n"
      ]
    },
    {
      "cell_type": "markdown",
      "metadata": {
        "id": "gWH1N4ZfOTpl"
      },
      "source": [
        "**List Comprehensions**"
      ]
    },
    {
      "cell_type": "markdown",
      "metadata": {
        "id": "Pa7wmGSgOWmN"
      },
      "source": [
        "List comprehensions provide a concise way to create lists."
      ]
    },
    {
      "cell_type": "code",
      "execution_count": null,
      "metadata": {
        "colab": {
          "base_uri": "https://localhost:8080/"
        },
        "id": "ie9FW-okOYcF",
        "outputId": "ab3059d8-32d5-4ce3-875a-87d439f9916c"
      },
      "outputs": [
        {
          "name": "stdout",
          "output_type": "stream",
          "text": [
            "[1, 4, 9, 16, 25]\n"
          ]
        }
      ],
      "source": [
        "numbers = [1, 2, 3, 4, 5]\n",
        "squared_numbers = [x**2 for x in numbers]\n",
        "print(squared_numbers)\n"
      ]
    }
  ],
  "metadata": {
    "colab": {
      "provenance": []
    },
    "kernelspec": {
      "display_name": "Python 3",
      "name": "python3"
    },
    "language_info": {
      "name": "python"
    }
  },
  "nbformat": 4,
  "nbformat_minor": 0
}

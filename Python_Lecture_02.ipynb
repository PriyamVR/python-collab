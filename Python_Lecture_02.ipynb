{
  "nbformat": 4,
  "nbformat_minor": 0,
  "metadata": {
    "colab": {
      "provenance": []
    },
    "kernelspec": {
      "name": "python3",
      "display_name": "Python 3"
    },
    "language_info": {
      "name": "python"
    }
  },
  "cells": [
    {
      "cell_type": "markdown",
      "source": [
        "Decision making is an essential concept in any programming language and is required when you want to execute code when a specific condition is satisfied"
      ],
      "metadata": {
        "id": "SutgiukAv0aG"
      }
    },
    {
      "cell_type": "code",
      "execution_count": 3,
      "metadata": {
        "colab": {
          "base_uri": "https://localhost:8080/"
        },
        "id": "JF0BognmvpAA",
        "outputId": "375a52f0-03bb-4e0f-bfad-1e503f7c96e9"
      },
      "outputs": [
        {
          "output_type": "stream",
          "name": "stdout",
          "text": [
            "This is outside the block\n"
          ]
        }
      ],
      "source": [
        "a = 20\n",
        "if a > 50 :\n",
        "  print('This is the if Body')\n",
        "  print(\"This is line1\")\n",
        "print('This is outside the block')"
      ]
    },
    {
      "cell_type": "markdown",
      "source": [
        "Type Casting"
      ],
      "metadata": {
        "id": "yBKBV_8ZjnQW"
      }
    },
    {
      "cell_type": "code",
      "source": [
        "a =  input('Enter  a number')\n",
        "type(a)"
      ],
      "metadata": {
        "colab": {
          "base_uri": "https://localhost:8080/"
        },
        "id": "0lsTs0JQjpf2",
        "outputId": "af062d54-4a4d-4153-c6a2-47e5c7a234eb"
      },
      "execution_count": 7,
      "outputs": [
        {
          "name": "stdout",
          "output_type": "stream",
          "text": [
            "Enter  a number100\n"
          ]
        },
        {
          "output_type": "execute_result",
          "data": {
            "text/plain": [
              "str"
            ]
          },
          "metadata": {},
          "execution_count": 7
        }
      ]
    },
    {
      "cell_type": "code",
      "source": [
        "b = int(a)\n",
        "type(b)"
      ],
      "metadata": {
        "colab": {
          "base_uri": "https://localhost:8080/"
        },
        "id": "tXRDVZruj0ye",
        "outputId": "379a4ace-00ec-45c9-88ba-0e31d55f87a7"
      },
      "execution_count": 8,
      "outputs": [
        {
          "output_type": "execute_result",
          "data": {
            "text/plain": [
              "int"
            ]
          },
          "metadata": {},
          "execution_count": 8
        }
      ]
    },
    {
      "cell_type": "code",
      "source": [
        "a = int(input('Enter a number'))\n",
        "\n",
        "if(a > 20):\n",
        "  print(\"Greater than 20\")\n",
        "elif(a < 20):\n",
        "  print(\"Less than 20\")\n",
        "else:\n",
        "  print(\"Equal to 20\")\n"
      ],
      "metadata": {
        "colab": {
          "base_uri": "https://localhost:8080/"
        },
        "id": "VCpNBFvHjOIm",
        "outputId": "6af16547-b4c8-4e80-b842-66eb450bab85"
      },
      "execution_count": 10,
      "outputs": [
        {
          "output_type": "stream",
          "name": "stdout",
          "text": [
            "Enter a number20\n",
            "Equal to 20\n"
          ]
        }
      ]
    },
    {
      "cell_type": "code",
      "source": [
        "a = 60\n",
        "if a > 50 :\n",
        "  print('This is the if Body')\n",
        "\n",
        "print('This is outside the block')"
      ],
      "metadata": {
        "colab": {
          "base_uri": "https://localhost:8080/"
        },
        "id": "42szGmuPwdrp",
        "outputId": "6280cfc3-9b96-4433-e9d0-b932d0da73e9"
      },
      "execution_count": 4,
      "outputs": [
        {
          "output_type": "stream",
          "name": "stdout",
          "text": [
            "This is the if Body\n",
            "This is outside the block\n"
          ]
        }
      ]
    },
    {
      "cell_type": "markdown",
      "source": [
        "IF-ELSE"
      ],
      "metadata": {
        "id": "dWT9AWlcwjyl"
      }
    },
    {
      "cell_type": "code",
      "source": [
        "i = 20\n",
        "if i % 2==0:\n",
        "  print('this is the if block')\n",
        "  print(' even')\n",
        "else:\n",
        "  print('this is the else block')\n",
        "  print('odd')"
      ],
      "metadata": {
        "colab": {
          "base_uri": "https://localhost:8080/"
        },
        "id": "zghJJVPrwk-F",
        "outputId": "1e4346b8-a838-4f7e-a50b-cfd7158d39ac"
      },
      "execution_count": null,
      "outputs": [
        {
          "output_type": "stream",
          "name": "stdout",
          "text": [
            "this is the if block\n",
            " even\n"
          ]
        }
      ]
    },
    {
      "cell_type": "code",
      "source": [
        "i = 23\n",
        "if i % 2==0:\n",
        "  print('this is the if block')\n",
        "  print(' even')\n",
        "else:\n",
        "  print('this is the else block')\n",
        "  print('odd')"
      ],
      "metadata": {
        "colab": {
          "base_uri": "https://localhost:8080/"
        },
        "id": "06ZPuFffw2pv",
        "outputId": "2f00fb1e-ce9b-40dc-85a8-9aead42b429a"
      },
      "execution_count": null,
      "outputs": [
        {
          "output_type": "stream",
          "name": "stdout",
          "text": [
            "this is the else block\n",
            "odd\n"
          ]
        }
      ]
    },
    {
      "cell_type": "markdown",
      "source": [
        "Nested IF"
      ],
      "metadata": {
        "id": "q7WbRiUDw5do"
      }
    },
    {
      "cell_type": "code",
      "source": [
        "c = 21\n",
        "if c < 25 :\n",
        "  if c % 2 ==0:\n",
        "    print('c is even and less than 25')\n",
        "  else:\n",
        "    print('c is odd and less than 25')\n",
        "else:\n",
        "  print('c is greater than 25')"
      ],
      "metadata": {
        "colab": {
          "base_uri": "https://localhost:8080/"
        },
        "id": "SwbIDdpCw7Uw",
        "outputId": "15602c00-de79-430e-8977-73d89cf4becc"
      },
      "execution_count": null,
      "outputs": [
        {
          "output_type": "stream",
          "name": "stdout",
          "text": [
            "c is odd and less than 25\n"
          ]
        }
      ]
    },
    {
      "cell_type": "code",
      "source": [
        "c = 21\n",
        "if c < 25 and c % 2 == 0:\n",
        "  print('c is even and less than 25')\n",
        "elif c < 25 and c % 2 != 0:\n",
        "  print('c is odd and less than 25')\n",
        "else:\n",
        "  print('c is greater than 25')"
      ],
      "metadata": {
        "id": "CxfQbu_8mPQv"
      },
      "execution_count": null,
      "outputs": []
    },
    {
      "cell_type": "code",
      "source": [
        "c = 50\n",
        "if c < 25 :\n",
        "  if c % 2 ==0:\n",
        "    print('c is even and less than 25')\n",
        "  else:\n",
        "    print('c is odd and less than 25')\n",
        "else:\n",
        "  print('c is greater than 25')"
      ],
      "metadata": {
        "colab": {
          "base_uri": "https://localhost:8080/"
        },
        "id": "2u5NVU0nxH1G",
        "outputId": "e2605093-d7e5-4d47-aa6f-568d39417236"
      },
      "execution_count": null,
      "outputs": [
        {
          "output_type": "stream",
          "name": "stdout",
          "text": [
            "c is greater than 25\n"
          ]
        }
      ]
    },
    {
      "cell_type": "markdown",
      "source": [
        "If-Elif-else Statement"
      ],
      "metadata": {
        "id": "7nbuev9bxNpt"
      }
    },
    {
      "cell_type": "code",
      "source": [
        "var = 'z'\n",
        "\n",
        "if var =='a':\n",
        "  print('var is a')\n",
        "elif var =='b':\n",
        "  print('var is b')\n",
        "else:\n",
        "  print('var is not a or b')"
      ],
      "metadata": {
        "colab": {
          "base_uri": "https://localhost:8080/"
        },
        "id": "nQO4fX86xQN0",
        "outputId": "f0c3d281-919f-4322-ccde-c3492fd3cb98"
      },
      "execution_count": null,
      "outputs": [
        {
          "output_type": "stream",
          "name": "stdout",
          "text": [
            "var is not a or b\n"
          ]
        }
      ]
    },
    {
      "cell_type": "markdown",
      "source": [
        "Problem 1 :\n",
        "Write a program to check wheather a number is divisible by 7 or not\n"
      ],
      "metadata": {
        "id": "xlEcDJ3DxNod"
      }
    },
    {
      "cell_type": "code",
      "source": [
        "a = int(input())\n",
        "\n",
        "if a % 7 == 0 :\n",
        "  print(\"Yes\")\n",
        "else:\n",
        "  print(\"No\")"
      ],
      "metadata": {
        "colab": {
          "base_uri": "https://localhost:8080/"
        },
        "id": "2UOor4LkqOLv",
        "outputId": "6d1616ba-d9d8-4e5f-abd1-c0f007bf54e6"
      },
      "execution_count": 11,
      "outputs": [
        {
          "output_type": "stream",
          "name": "stdout",
          "text": [
            "12\n",
            "No\n"
          ]
        }
      ]
    },
    {
      "cell_type": "code",
      "source": [
        "\n",
        "num = int(input(\"Enter a number: \"))\n",
        "if num % 7 == 0:\n",
        "  print(\"The number is divisible by 7\")\n",
        "else:\n",
        "  print(\"The number is not divisible by 7\")\n"
      ],
      "metadata": {
        "colab": {
          "base_uri": "https://localhost:8080/"
        },
        "id": "WYcgUQvUx6_Y",
        "outputId": "a9e5bfeb-e111-48fc-8211-8c72cd5d7966"
      },
      "execution_count": null,
      "outputs": [
        {
          "output_type": "stream",
          "name": "stdout",
          "text": [
            "Enter a number: 10\n",
            "The number is not divisible by 7\n"
          ]
        }
      ]
    },
    {
      "cell_type": "markdown",
      "source": [
        "Problem 2 : Write a program to accept percentage from the user and display the grade according to the following criteria:\n",
        "![1.PNG](data:image/png;base64,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)\n",
        "\n"
      ],
      "metadata": {
        "id": "rheIsL8zyCf7"
      }
    },
    {
      "cell_type": "code",
      "source": [
        "num = int(input())\n",
        "\n",
        "if num > 90:\n",
        "  print(\"A\")\n",
        "elif num > 80 and num <=90:\n",
        "  print(\"B\")\n",
        "elif num >= 60 and num <= 80:\n",
        "  print(\"C\")\n",
        "else :\n",
        "  print(\"D\")"
      ],
      "metadata": {
        "colab": {
          "base_uri": "https://localhost:8080/"
        },
        "id": "nBkYaeV4sB5v",
        "outputId": "7374c557-c5c6-4fd8-c7d7-dd4723b7d376"
      },
      "execution_count": 12,
      "outputs": [
        {
          "output_type": "stream",
          "name": "stdout",
          "text": [
            "55\n",
            "D\n"
          ]
        }
      ]
    },
    {
      "cell_type": "code",
      "source": [
        "\n",
        "\n",
        "marks = int(input(\"Enter your marks: \"))\n",
        "\n",
        "if marks > 90:\n",
        "  grade = \"A\"\n",
        "elif marks > 80 and marks <= 90:\n",
        "  grade = \"B\"\n",
        "elif marks >= 60 and marks <= 80:\n",
        "  grade = \"C\"\n",
        "else:\n",
        "  grade = \"D\"\n",
        "\n",
        "print(\"Your grade is:\", grade)\n"
      ],
      "metadata": {
        "colab": {
          "base_uri": "https://localhost:8080/"
        },
        "id": "z7KzkAcMx6-G",
        "outputId": "4219c461-3331-4045-b1dd-3512dee18a15"
      },
      "execution_count": null,
      "outputs": [
        {
          "output_type": "stream",
          "name": "stdout",
          "text": [
            "Enter your marks: 90\n",
            "Your grade is: B\n"
          ]
        }
      ]
    },
    {
      "cell_type": "markdown",
      "source": [
        "Problem 3 : Accept Tempareture in degreer celcius of water and check wheather it is boiling or not ( boiling point of water is 100 degree)"
      ],
      "metadata": {
        "id": "KMD3lnTAzCRK"
      }
    },
    {
      "cell_type": "code",
      "source": [
        "\n",
        "\n",
        "temperature = float(input(\"Enter temperature in degree Celsius: \"))\n",
        "\n",
        "if temperature >= 100:\n",
        "  print(\"Water is boiling.\")\n",
        "else:\n",
        "  print(\"Water is not boiling.\")\n"
      ],
      "metadata": {
        "colab": {
          "base_uri": "https://localhost:8080/"
        },
        "id": "LgEvu6pBzg9i",
        "outputId": "8338c908-823b-4ff9-b01b-fd098175a00e"
      },
      "execution_count": null,
      "outputs": [
        {
          "output_type": "stream",
          "name": "stdout",
          "text": [
            "Enter temperature in degree Celsius: 100\n",
            "Water is boiling.\n"
          ]
        }
      ]
    },
    {
      "cell_type": "markdown",
      "source": [
        "Problem 4: Find the largest and smallet number among 3 user entered number"
      ],
      "metadata": {
        "id": "zMlBcqxczoNK"
      }
    },
    {
      "cell_type": "code",
      "source": [
        "a = 10\n",
        "b = 20\n",
        "c = 25\n",
        "\n",
        "if a > b and a > c:\n",
        "  print(a)\n",
        "elif b > a and b > c :\n",
        "  print(b)\n",
        "else :\n",
        "  print(c)"
      ],
      "metadata": {
        "colab": {
          "base_uri": "https://localhost:8080/"
        },
        "id": "gyDxHV1Lv63X",
        "outputId": "40b148e9-bb1f-47f4-b4e7-ff0ffaff94a2"
      },
      "execution_count": 13,
      "outputs": [
        {
          "output_type": "stream",
          "name": "stdout",
          "text": [
            "25\n"
          ]
        }
      ]
    },
    {
      "cell_type": "code",
      "source": [
        "a = 10\n",
        "b = 20\n",
        "c = 25\n",
        "\n",
        "if a < b and a < c:\n",
        "  print(a)\n",
        "elif b < a and b < c :\n",
        "  print(b)\n",
        "else :\n",
        "  print(c)"
      ],
      "metadata": {
        "colab": {
          "base_uri": "https://localhost:8080/"
        },
        "id": "yA7o8HudwNgx",
        "outputId": "71b2315b-f3a7-4482-9420-af30e7b361f4"
      },
      "execution_count": 14,
      "outputs": [
        {
          "output_type": "stream",
          "name": "stdout",
          "text": [
            "10\n"
          ]
        }
      ]
    },
    {
      "cell_type": "code",
      "source": [
        "if a > b :\n",
        "   if a > c:\n",
        "    print(a)\n",
        "   else:\n",
        "    print(c)\n",
        "\n",
        "else:\n",
        "   if b > c :\n",
        "    print(b)\n",
        "   else:\n",
        "    print(c)"
      ],
      "metadata": {
        "colab": {
          "base_uri": "https://localhost:8080/"
        },
        "id": "vFqjgSipwVhY",
        "outputId": "ec0e84c8-1c6b-4dbf-a93f-c6c9cbd5013b"
      },
      "execution_count": 15,
      "outputs": [
        {
          "output_type": "stream",
          "name": "stdout",
          "text": [
            "25\n"
          ]
        }
      ]
    },
    {
      "cell_type": "code",
      "source": [],
      "metadata": {
        "id": "h0u7UXoQw2y5"
      },
      "execution_count": null,
      "outputs": []
    },
    {
      "cell_type": "code",
      "source": [
        "\n",
        "\n",
        "num1 = int(input(\"Enter first number: \"))\n",
        "num2 = int(input(\"Enter second number: \"))\n",
        "num3 = int(input(\"Enter third number: \"))\n",
        "\n",
        "largest = num1\n",
        "if num2 > largest:\n",
        "  largest = num2\n",
        "if num3 > largest:\n",
        "  largest = num3\n",
        "\n",
        "smallest = num1\n",
        "if num2 < smallest:\n",
        "  smallest = num2\n",
        "if num3 < smallest:\n",
        "  smallest = num3\n",
        "\n",
        "print(\"The largest number is:\", largest)\n",
        "print(\"The smallest number is:\", smallest)\n"
      ],
      "metadata": {
        "colab": {
          "base_uri": "https://localhost:8080/"
        },
        "id": "mumSIaPJzvKS",
        "outputId": "13e78639-d422-45e5-9c9f-998557399d13"
      },
      "execution_count": null,
      "outputs": [
        {
          "output_type": "stream",
          "name": "stdout",
          "text": [
            "Enter first number: 12\n",
            "Enter second number: 120\n",
            "Enter third number: 11\n",
            "The largest number is: 120\n",
            "The smallest number is: 11\n"
          ]
        }
      ]
    },
    {
      "cell_type": "markdown",
      "source": [
        " Write a Python program that takes a single character input from the user and checks whether the character is a vowel or a consonant. The program should also handle invalid inputs (e.g., numbers, symbols)."
      ],
      "metadata": {
        "id": "2X_f-_LKzoLz"
      }
    },
    {
      "cell_type": "code",
      "source": [
        "char = input()\n",
        "\n",
        "print(char)"
      ],
      "metadata": {
        "colab": {
          "base_uri": "https://localhost:8080/"
        },
        "id": "U6BhHEHLxGYw",
        "outputId": "5eaba01f-c89b-409b-fd39-a05c13219bf2"
      },
      "execution_count": 18,
      "outputs": [
        {
          "output_type": "stream",
          "name": "stdout",
          "text": [
            "provAth\n",
            "provAth\n"
          ]
        }
      ]
    },
    {
      "cell_type": "code",
      "source": [
        "char = char.lower()\n",
        "print(char)"
      ],
      "metadata": {
        "colab": {
          "base_uri": "https://localhost:8080/"
        },
        "id": "StLXsRr-xN7g",
        "outputId": "130701e7-0a96-4803-a4de-f030c5803273"
      },
      "execution_count": 19,
      "outputs": [
        {
          "output_type": "stream",
          "name": "stdout",
          "text": [
            "provath\n"
          ]
        }
      ]
    },
    {
      "cell_type": "code",
      "source": [
        "char = char.upper()\n",
        "print(char)"
      ],
      "metadata": {
        "colab": {
          "base_uri": "https://localhost:8080/"
        },
        "id": "hetP1YaHxUDh",
        "outputId": "a7bd5ee1-4b79-460a-f4a4-33c59274c531"
      },
      "execution_count": 20,
      "outputs": [
        {
          "output_type": "stream",
          "name": "stdout",
          "text": [
            "PROVATH\n"
          ]
        }
      ]
    },
    {
      "cell_type": "code",
      "source": [
        "# Take input from the user\n",
        "char = input(\"Enter a character: \").lower()"
      ],
      "metadata": {
        "colab": {
          "base_uri": "https://localhost:8080/"
        },
        "id": "ZKow1hm_xrJR",
        "outputId": "ea208c70-0f85-45df-9adb-a0261bb0b4d3"
      },
      "execution_count": 22,
      "outputs": [
        {
          "name": "stdout",
          "output_type": "stream",
          "text": [
            "Enter a character: 123\n"
          ]
        }
      ]
    },
    {
      "cell_type": "code",
      "source": [
        "char = 'z'"
      ],
      "metadata": {
        "id": "TCPCbNTux3YB"
      },
      "execution_count": 27,
      "outputs": []
    },
    {
      "cell_type": "code",
      "source": [
        "char.isalpha()"
      ],
      "metadata": {
        "colab": {
          "base_uri": "https://localhost:8080/"
        },
        "id": "_q9qZvcvx0z5",
        "outputId": "000baf6a-e7d0-4265-ae26-6a5a794a4845"
      },
      "execution_count": 28,
      "outputs": [
        {
          "output_type": "execute_result",
          "data": {
            "text/plain": [
              "True"
            ]
          },
          "metadata": {},
          "execution_count": 28
        }
      ]
    },
    {
      "cell_type": "code",
      "source": [
        "print(char in 'Provath')"
      ],
      "metadata": {
        "colab": {
          "base_uri": "https://localhost:8080/"
        },
        "id": "Xsc5D8QAyAaZ",
        "outputId": "3a8fb2ef-3666-45d2-ba37-490948a0a18e"
      },
      "execution_count": 29,
      "outputs": [
        {
          "output_type": "stream",
          "name": "stdout",
          "text": [
            "False\n"
          ]
        }
      ]
    },
    {
      "cell_type": "code",
      "source": [
        "char = 10\n",
        "print(char)"
      ],
      "metadata": {
        "colab": {
          "base_uri": "https://localhost:8080/"
        },
        "id": "BkyIGkGtyRka",
        "outputId": "c64e4bf3-5534-4892-a947-a6e7173a1adf"
      },
      "execution_count": 30,
      "outputs": [
        {
          "output_type": "stream",
          "name": "stdout",
          "text": [
            "10\n"
          ]
        }
      ]
    },
    {
      "cell_type": "code",
      "source": [
        "print(\"This is %s\" %char)"
      ],
      "metadata": {
        "colab": {
          "base_uri": "https://localhost:8080/"
        },
        "id": "TM_WaHZzyVcC",
        "outputId": "61a6abef-e700-482b-fee1-00e869eb195e"
      },
      "execution_count": 31,
      "outputs": [
        {
          "output_type": "stream",
          "name": "stdout",
          "text": [
            "This is 10\n"
          ]
        }
      ]
    },
    {
      "cell_type": "code",
      "source": [
        "age = 20"
      ],
      "metadata": {
        "id": "zG3fR90Nyh5Q"
      },
      "execution_count": 33,
      "outputs": []
    },
    {
      "cell_type": "code",
      "source": [
        "print(f'This is {char}. His age is {age}')"
      ],
      "metadata": {
        "colab": {
          "base_uri": "https://localhost:8080/"
        },
        "id": "xoWPmVl2yb2p",
        "outputId": "037462d1-7dde-4719-a5c4-1e3146e0e2b6"
      },
      "execution_count": 34,
      "outputs": [
        {
          "output_type": "stream",
          "name": "stdout",
          "text": [
            "This is 10. His age is 20\n"
          ]
        }
      ]
    },
    {
      "cell_type": "code",
      "source": [
        "# Take input from the user\n",
        "char = input(\"Enter a character: \").lower()\n",
        "\n",
        "# Check if the character is a letter\n",
        "if len(char) == 1 and char.isalpha():\n",
        "    if char in 'aeiou':\n",
        "        print(f\"{char} is a vowel.\")\n",
        "    else:\n",
        "        print(f\"{char} is a consonant.\")\n",
        "else:\n",
        "    print(\"Invalid input. Please enter a single alphabetic character.\")\n"
      ],
      "metadata": {
        "id": "ZkCIHOfIEiOG"
      },
      "execution_count": null,
      "outputs": []
    },
    {
      "cell_type": "markdown",
      "source": [
        " Write a Python program that checks whether a given year is a leap year. A year is a leap year if:\n",
        "\n",
        "It is divisible by 4, and\n",
        "It is not divisible by 100, unless it is also divisible by 400."
      ],
      "metadata": {
        "id": "-WiCIiy4EsLO"
      }
    },
    {
      "cell_type": "code",
      "source": [
        "# Take input from the user\n",
        "year = int(input(\"Enter a year: \"))\n",
        "\n",
        "# Check if the year is a leap year\n",
        "if (year % 4 == 0 and year % 100 != 0) or (year % 400 == 0):\n",
        "    print(f\"{year} is a leap year.\")\n",
        "else:\n",
        "    print(f\"{year} is not a leap year.\")\n"
      ],
      "metadata": {
        "colab": {
          "base_uri": "https://localhost:8080/"
        },
        "id": "eDfCY6CIEvhG",
        "outputId": "f7a40147-e1fb-468e-99dd-d15f2c31e67e"
      },
      "execution_count": null,
      "outputs": [
        {
          "output_type": "stream",
          "name": "stdout",
          "text": [
            "Enter a year: 2024\n",
            "2024 is a leap year.\n"
          ]
        }
      ]
    },
    {
      "cell_type": "code",
      "source": [
        "name = \"Alice\"\n",
        "age = 30\n",
        "print(f\"{name} is {age} years old.\")\n"
      ],
      "metadata": {
        "colab": {
          "base_uri": "https://localhost:8080/"
        },
        "id": "Po9fEM8yG2MR",
        "outputId": "41754bdf-3c85-4f22-b533-783441400b3c"
      },
      "execution_count": null,
      "outputs": [
        {
          "output_type": "stream",
          "name": "stdout",
          "text": [
            "Alice is 30 years old.\n"
          ]
        }
      ]
    },
    {
      "cell_type": "code",
      "source": [
        "x = 10\n",
        "y = 5\n",
        "print(f\"The sum of {x} and {y} is {x + y}.\")\n"
      ],
      "metadata": {
        "colab": {
          "base_uri": "https://localhost:8080/"
        },
        "id": "_mmCPgtZG6DG",
        "outputId": "efbd6cae-4dfb-4487-c83d-e980ddb26890"
      },
      "execution_count": null,
      "outputs": [
        {
          "output_type": "stream",
          "name": "stdout",
          "text": [
            "The sum of 10 and 5 is 15.\n"
          ]
        }
      ]
    },
    {
      "cell_type": "markdown",
      "source": [
        "Create a simple ATM banking system using Python that asks for the user's PIN, checks if it is correct, and then offers the user the option to:\n",
        "\n",
        "Check balance\n",
        "\n",
        "Deposit money\n",
        "\n",
        "Withdraw money\n",
        "\n",
        "Exit"
      ],
      "metadata": {
        "id": "BSDwWqzXExrm"
      }
    },
    {
      "cell_type": "code",
      "source": [
        "# Predefined PIN and balance\n",
        "correct_pin = \"1234\"\n",
        "balance = 5000\n",
        "\n",
        "# Ask user for PIN\n",
        "pin = input(\"Enter your PIN: \")\n",
        "\n",
        "# Check if the PIN is correct\n",
        "if pin == correct_pin:\n",
        "    while True:\n",
        "        print(\"\\nATM Menu:\")\n",
        "        print(\"1. Check Balance\")\n",
        "        print(\"2. Deposit Money\")\n",
        "        print(\"3. Withdraw Money\")\n",
        "        print(\"4. Exit\")\n",
        "\n",
        "        choice = input(\"Select an option (1/2/3/4): \")\n",
        "\n",
        "        if choice == '1':\n",
        "            print(f\"Your balance is: ${balance}\")\n",
        "        elif choice == '2':\n",
        "            deposit = float(input(\"Enter amount to deposit: $\"))\n",
        "            balance += deposit\n",
        "            print(f\"Deposit successful. New balance: ${balance}\")\n",
        "        elif choice == '3':\n",
        "            withdrawal = float(input(\"Enter amount to withdraw: $\"))\n",
        "            if withdrawal > balance:\n",
        "                print(\"Insufficient balance.\")\n",
        "            else:\n",
        "                balance -= withdrawal\n",
        "                print(f\"Withdrawal successful. New balance: ${balance}\")\n",
        "        elif choice == '4':\n",
        "            print(\"Thank you for using the ATM. Goodbye!\")\n",
        "            break\n",
        "        else:\n",
        "            print(\"Invalid option. Please try again.\")\n",
        "else:\n",
        "    print(\"Incorrect PIN. Access denied.\")\n"
      ],
      "metadata": {
        "colab": {
          "base_uri": "https://localhost:8080/"
        },
        "id": "MAICY96xE09-",
        "outputId": "f8839edb-ae86-4e7c-b72c-8864cd11f79f"
      },
      "execution_count": 36,
      "outputs": [
        {
          "output_type": "stream",
          "name": "stdout",
          "text": [
            "Enter your PIN: 1234\n",
            "\n",
            "ATM Menu:\n",
            "1. Check Balance\n",
            "2. Deposit Money\n",
            "3. Withdraw Money\n",
            "4. Exit\n",
            "Select an option (1/2/3/4): 1\n",
            "Your balance is: $5000\n",
            "\n",
            "ATM Menu:\n",
            "1. Check Balance\n",
            "2. Deposit Money\n",
            "3. Withdraw Money\n",
            "4. Exit\n",
            "Select an option (1/2/3/4): 3\n",
            "Enter amount to withdraw: $300\n",
            "Withdrawal successful. New balance: $4700.0\n",
            "\n",
            "ATM Menu:\n",
            "1. Check Balance\n",
            "2. Deposit Money\n",
            "3. Withdraw Money\n",
            "4. Exit\n",
            "Select an option (1/2/3/4): 2\n",
            "Enter amount to deposit: $10\n",
            "Deposit successful. New balance: $4710.0\n",
            "\n",
            "ATM Menu:\n",
            "1. Check Balance\n",
            "2. Deposit Money\n",
            "3. Withdraw Money\n",
            "4. Exit\n",
            "Select an option (1/2/3/4): 4\n",
            "Thank you for using the ATM. Goodbye!\n"
          ]
        }
      ]
    },
    {
      "cell_type": "markdown",
      "source": [
        "Write a Python program that asks the user to enter two numbers and choose an operation to perform on them. The program should support addition, subtraction, multiplication, and division. If the user chooses division, ensure that division by zero is handled."
      ],
      "metadata": {
        "id": "0_5Dea3KFC_e"
      }
    },
    {
      "cell_type": "code",
      "source": [
        "# Get user input for numbers and operation\n",
        "num1 = float(input(\"Enter the first number: \"))\n",
        "num2 = float(input(\"Enter the second number: \"))\n",
        "operation = input(\"Choose an operation (+, -, *, /): \")\n",
        "\n",
        "# Perform the chosen operation\n",
        "if operation == \"+\":\n",
        "    result = num1 + num2\n",
        "elif operation == \"-\":\n",
        "    result = num1 - num2\n",
        "elif operation == \"*\":\n",
        "    result = num1 * num2\n",
        "elif operation == \"/\":\n",
        "    if num2 != 0:\n",
        "        result = num1 / num2\n",
        "    else:\n",
        "        result = \"Error: Division by zero is not allowed.\"\n",
        "else:\n",
        "    result = \"Invalid operation!\"\n",
        "\n",
        "# Display the result\n",
        "print(f\"Result: {result}\")\n"
      ],
      "metadata": {
        "colab": {
          "base_uri": "https://localhost:8080/"
        },
        "id": "LY7pq9-xFF3u",
        "outputId": "59e772e4-0e46-49c9-e569-dfe13f77056b"
      },
      "execution_count": 37,
      "outputs": [
        {
          "output_type": "stream",
          "name": "stdout",
          "text": [
            "Enter the first number: 10\n",
            "Enter the second number: 10\n",
            "Choose an operation (+, -, *, /): /\n",
            "Result: 1.0\n"
          ]
        }
      ]
    },
    {
      "cell_type": "markdown",
      "source": [
        "Write a Python program that calculates the Body Mass Index (BMI) for a given weight (in kg) and height (in meters). The program should classify the BMI into the following categories:\n",
        "\n",
        "BMI < 18.5: Underweight\n",
        "\n",
        "18.5 <= BMI < 24.9: Normal weight\n",
        "\n",
        "25 <= BMI < 29.9: Overweight\n",
        "\n",
        "BMI >= 30: Obesity"
      ],
      "metadata": {
        "id": "OnHhSok8FILn"
      }
    },
    {
      "cell_type": "code",
      "source": [
        "# Take user input for weight and height\n",
        "weight = float(input(\"Enter your weight (in kg): \"))\n",
        "height = float(input(\"Enter your height (in meters): \"))\n",
        "\n",
        "# Calculate BMI\n",
        "bmi = weight / (height ** 2)\n",
        "\n",
        "# Classify BMI\n",
        "if bmi < 18.5:\n",
        "    classification = \"Underweight\"\n",
        "elif 18.5 <= bmi < 24.9:\n",
        "    classification = \"Normal weight\"\n",
        "elif 25 <= bmi < 29.9:\n",
        "    classification = \"Overweight\"\n",
        "else:\n",
        "    classification = \"Obesity\"\n",
        "\n",
        "# Display the result\n",
        "print(f\"Your BMI is {bmi:.2f}. You are classified as: {classification}.\")\n"
      ],
      "metadata": {
        "colab": {
          "base_uri": "https://localhost:8080/"
        },
        "id": "XkHvfKRUFMGv",
        "outputId": "34415dbb-2381-45af-dba2-9971acc3657e"
      },
      "execution_count": null,
      "outputs": [
        {
          "output_type": "stream",
          "name": "stdout",
          "text": [
            "Enter your weight (in kg): 72\n",
            "Enter your height (in meters): 62\n",
            "Your BMI is 0.02. You are classified as: Underweight.\n"
          ]
        }
      ]
    },
    {
      "cell_type": "markdown",
      "source": [
        "Write a Python program that asks the user to input the name of a month (e.g., \"January\") and returns the corresponding month number (e.g., 1 for January). If the input is invalid, the program should print an error message."
      ],
      "metadata": {
        "id": "q3Yz6g8bFPUn"
      }
    },
    {
      "cell_type": "code",
      "source": [
        "# Take user input for the month name\n",
        "month_name = input(\"Enter the name of the month: \").lower()\n",
        "\n",
        "# Map month names to month numbers\n",
        "month_dict = {\n",
        "    \"january\": 1, \"february\": 2, \"march\": 3, \"april\": 4,\n",
        "    \"may\": 5, \"june\": 6, \"july\": 7, \"august\": 8,\n",
        "    \"september\": 9, \"october\": 10, \"november\": 11, \"december\": 12\n",
        "}\n",
        "\n",
        "# Check if the input month is valid\n",
        "if month_name in month_dict:\n",
        "    print(f\"The month number for {month_name.capitalize()} is {month_dict[month_name]}.\")\n",
        "else:\n",
        "    print(\"Invalid month name. Please enter a valid month.\")\n"
      ],
      "metadata": {
        "colab": {
          "base_uri": "https://localhost:8080/"
        },
        "id": "b3R3VApVFQlm",
        "outputId": "4b0be924-a468-41de-ff67-c9644994c292"
      },
      "execution_count": null,
      "outputs": [
        {
          "output_type": "stream",
          "name": "stdout",
          "text": [
            "Enter the name of the month: july\n",
            "The month number for July is 7.\n"
          ]
        }
      ]
    },
    {
      "cell_type": "markdown",
      "source": [
        "Write a Python program that checks the strength of a password based on the following criteria:\n",
        "\n",
        "It must be at least 8 characters long.\n",
        "\n",
        "It must contain both uppercase and lowercase characters.\n",
        "\n",
        "It must contain at least one numeric digit.\n",
        "\n",
        "It must contain at least one special character (e.g., @, #, $, %, etc.).\n",
        "\n",
        "The program should print whether the password is strong, weak, or invalid."
      ],
      "metadata": {
        "id": "bT5axhWdFYc-"
      }
    },
    {
      "cell_type": "code",
      "source": [
        "import re\n",
        "\n",
        "# Take input from the user\n",
        "password = input(\"Enter your password: \")\n",
        "\n",
        "# Check password strength\n",
        "if len(password) < 8:\n",
        "    print(\"Password is too short. It must be at least 8 characters long.\")\n",
        "elif not re.search(\"[a-z]\", password):\n",
        "    print(\"Password must contain at least one lowercase letter.\")\n",
        "elif not re.search(\"[A-Z]\", password):\n",
        "    print(\"Password must contain at least one uppercase letter.\")\n",
        "elif not re.search(\"[0-9]\", password):\n",
        "    print(\"Password must contain at least one digit.\")\n",
        "elif not re.search(\"[@#$%^&+=]\", password):\n",
        "    print(\"Password must contain at least one special character (@, #, $, %, ^, &, +, =).\")\n",
        "else:\n",
        "    print(\"Password is strong.\")\n"
      ],
      "metadata": {
        "colab": {
          "base_uri": "https://localhost:8080/"
        },
        "id": "wmOtV1HlFccG",
        "outputId": "efc5c264-0700-45ad-d377-3e81d9232305"
      },
      "execution_count": null,
      "outputs": [
        {
          "output_type": "stream",
          "name": "stdout",
          "text": [
            "Enter your password: 12\n",
            "Password is too short. It must be at least 8 characters long.\n"
          ]
        }
      ]
    }
  ]
}